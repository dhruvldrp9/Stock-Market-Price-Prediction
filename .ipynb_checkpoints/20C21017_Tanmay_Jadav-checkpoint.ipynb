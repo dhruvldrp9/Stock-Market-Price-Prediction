{
 "cells": [
  {
   "cell_type": "code",
   "execution_count": 3,
   "id": "8c395ea4",
   "metadata": {
    "executionInfo": {
     "elapsed": 3808,
     "status": "ok",
     "timestamp": 1670783958789,
     "user": {
      "displayName": "Tanmay Jadav",
      "userId": "06483448042551357940"
     },
     "user_tz": -330
    },
    "id": "8c395ea4"
   },
   "outputs": [
    {
     "ename": "ModuleNotFoundError",
     "evalue": "No module named 'tensorflow'",
     "output_type": "error",
     "traceback": [
      "\u001b[1;31m---------------------------------------------------------------------------\u001b[0m",
      "\u001b[1;31mModuleNotFoundError\u001b[0m                       Traceback (most recent call last)",
      "Cell \u001b[1;32mIn[3], line 5\u001b[0m\n\u001b[0;32m      3\u001b[0m \u001b[38;5;28;01mimport\u001b[39;00m \u001b[38;5;21;01mmatplotlib\u001b[39;00m\u001b[38;5;21;01m.\u001b[39;00m\u001b[38;5;21;01mpyplot\u001b[39;00m \u001b[38;5;28;01mas\u001b[39;00m \u001b[38;5;21;01mplt\u001b[39;00m \n\u001b[0;32m      4\u001b[0m \u001b[38;5;28;01mfrom\u001b[39;00m \u001b[38;5;21;01msklearn\u001b[39;00m\u001b[38;5;21;01m.\u001b[39;00m\u001b[38;5;21;01mpreprocessing\u001b[39;00m \u001b[38;5;28;01mimport\u001b[39;00m MinMaxScaler\n\u001b[1;32m----> 5\u001b[0m \u001b[38;5;28;01mfrom\u001b[39;00m \u001b[38;5;21;01mkeras\u001b[39;00m\u001b[38;5;21;01m.\u001b[39;00m\u001b[38;5;21;01mmodels\u001b[39;00m \u001b[38;5;28;01mimport\u001b[39;00m Sequential\n\u001b[0;32m      6\u001b[0m \u001b[38;5;28;01mfrom\u001b[39;00m \u001b[38;5;21;01mkeras\u001b[39;00m\u001b[38;5;21;01m.\u001b[39;00m\u001b[38;5;21;01mlayers\u001b[39;00m \u001b[38;5;28;01mimport\u001b[39;00m Dense,LSTM,Dropout\n",
      "File \u001b[1;32m~\\AppData\\Local\\Programs\\Python\\Python311\\Lib\\site-packages\\keras\\__init__.py:21\u001b[0m\n\u001b[0;32m     15\u001b[0m \u001b[38;5;124;03m\"\"\"Implementation of the Keras API, the high-level API of TensorFlow.\u001b[39;00m\n\u001b[0;32m     16\u001b[0m \n\u001b[0;32m     17\u001b[0m \u001b[38;5;124;03mDetailed documentation and user guides are available at\u001b[39;00m\n\u001b[0;32m     18\u001b[0m \u001b[38;5;124;03m[keras.io](https://keras.io).\u001b[39;00m\n\u001b[0;32m     19\u001b[0m \u001b[38;5;124;03m\"\"\"\u001b[39;00m\n\u001b[0;32m     20\u001b[0m \u001b[38;5;28;01mfrom\u001b[39;00m \u001b[38;5;21;01mkeras\u001b[39;00m \u001b[38;5;28;01mimport\u001b[39;00m distribute\n\u001b[1;32m---> 21\u001b[0m \u001b[38;5;28;01mfrom\u001b[39;00m \u001b[38;5;21;01mkeras\u001b[39;00m \u001b[38;5;28;01mimport\u001b[39;00m models\n\u001b[0;32m     22\u001b[0m \u001b[38;5;28;01mfrom\u001b[39;00m \u001b[38;5;21;01mkeras\u001b[39;00m\u001b[38;5;21;01m.\u001b[39;00m\u001b[38;5;21;01mengine\u001b[39;00m\u001b[38;5;21;01m.\u001b[39;00m\u001b[38;5;21;01minput_layer\u001b[39;00m \u001b[38;5;28;01mimport\u001b[39;00m Input\n\u001b[0;32m     23\u001b[0m \u001b[38;5;28;01mfrom\u001b[39;00m \u001b[38;5;21;01mkeras\u001b[39;00m\u001b[38;5;21;01m.\u001b[39;00m\u001b[38;5;21;01mengine\u001b[39;00m\u001b[38;5;21;01m.\u001b[39;00m\u001b[38;5;21;01msequential\u001b[39;00m \u001b[38;5;28;01mimport\u001b[39;00m Sequential\n",
      "File \u001b[1;32m~\\AppData\\Local\\Programs\\Python\\Python311\\Lib\\site-packages\\keras\\models\\__init__.py:18\u001b[0m\n\u001b[0;32m      1\u001b[0m \u001b[38;5;66;03m# Copyright 2022 The TensorFlow Authors. All Rights Reserved.\u001b[39;00m\n\u001b[0;32m      2\u001b[0m \u001b[38;5;66;03m#\u001b[39;00m\n\u001b[0;32m      3\u001b[0m \u001b[38;5;66;03m# Licensed under the Apache License, Version 2.0 (the \"License\");\u001b[39;00m\n\u001b[1;32m   (...)\u001b[0m\n\u001b[0;32m     13\u001b[0m \u001b[38;5;66;03m# limitations under the License.\u001b[39;00m\n\u001b[0;32m     14\u001b[0m \u001b[38;5;66;03m# ==============================================================================\u001b[39;00m\n\u001b[0;32m     15\u001b[0m \u001b[38;5;124;03m\"\"\"Keras models API.\"\"\"\u001b[39;00m\n\u001b[1;32m---> 18\u001b[0m \u001b[38;5;28;01mfrom\u001b[39;00m \u001b[38;5;21;01mkeras\u001b[39;00m\u001b[38;5;21;01m.\u001b[39;00m\u001b[38;5;21;01mengine\u001b[39;00m\u001b[38;5;21;01m.\u001b[39;00m\u001b[38;5;21;01mfunctional\u001b[39;00m \u001b[38;5;28;01mimport\u001b[39;00m Functional\n\u001b[0;32m     19\u001b[0m \u001b[38;5;28;01mfrom\u001b[39;00m \u001b[38;5;21;01mkeras\u001b[39;00m\u001b[38;5;21;01m.\u001b[39;00m\u001b[38;5;21;01mengine\u001b[39;00m\u001b[38;5;21;01m.\u001b[39;00m\u001b[38;5;21;01msequential\u001b[39;00m \u001b[38;5;28;01mimport\u001b[39;00m Sequential\n\u001b[0;32m     20\u001b[0m \u001b[38;5;28;01mfrom\u001b[39;00m \u001b[38;5;21;01mkeras\u001b[39;00m\u001b[38;5;21;01m.\u001b[39;00m\u001b[38;5;21;01mengine\u001b[39;00m\u001b[38;5;21;01m.\u001b[39;00m\u001b[38;5;21;01mtraining\u001b[39;00m \u001b[38;5;28;01mimport\u001b[39;00m Model\n",
      "File \u001b[1;32m~\\AppData\\Local\\Programs\\Python\\Python311\\Lib\\site-packages\\keras\\engine\\functional.py:24\u001b[0m\n\u001b[0;32m     21\u001b[0m \u001b[38;5;28;01mimport\u001b[39;00m \u001b[38;5;21;01mitertools\u001b[39;00m\n\u001b[0;32m     22\u001b[0m \u001b[38;5;28;01mimport\u001b[39;00m \u001b[38;5;21;01mwarnings\u001b[39;00m\n\u001b[1;32m---> 24\u001b[0m \u001b[38;5;28;01mimport\u001b[39;00m \u001b[38;5;21;01mtensorflow\u001b[39;00m\u001b[38;5;21;01m.\u001b[39;00m\u001b[38;5;21;01mcompat\u001b[39;00m\u001b[38;5;21;01m.\u001b[39;00m\u001b[38;5;21;01mv2\u001b[39;00m \u001b[38;5;28;01mas\u001b[39;00m \u001b[38;5;21;01mtf\u001b[39;00m\n\u001b[0;32m     26\u001b[0m \u001b[38;5;28;01mfrom\u001b[39;00m \u001b[38;5;21;01mkeras\u001b[39;00m \u001b[38;5;28;01mimport\u001b[39;00m backend\n\u001b[0;32m     27\u001b[0m \u001b[38;5;28;01mfrom\u001b[39;00m \u001b[38;5;21;01mkeras\u001b[39;00m\u001b[38;5;21;01m.\u001b[39;00m\u001b[38;5;21;01mdtensor\u001b[39;00m \u001b[38;5;28;01mimport\u001b[39;00m layout_map \u001b[38;5;28;01mas\u001b[39;00m layout_map_lib\n",
      "\u001b[1;31mModuleNotFoundError\u001b[0m: No module named 'tensorflow'"
     ]
    }
   ],
   "source": [
    "import numpy as np \n",
    "import pandas as pd \n",
    "import matplotlib.pyplot as plt \n",
    "from sklearn.preprocessing import MinMaxScaler\n",
    "from keras.models import Sequential\n",
    "from keras.layers import Dense,LSTM,Dropout"
   ]
  },
  {
   "cell_type": "code",
   "execution_count": 5,
   "id": "55b42aa4",
   "metadata": {
    "colab": {
     "base_uri": "https://localhost:8080/",
     "height": 206
    },
    "executionInfo": {
     "elapsed": 894,
     "status": "ok",
     "timestamp": 1670784118563,
     "user": {
      "displayName": "Tanmay Jadav",
      "userId": "06483448042551357940"
     },
     "user_tz": -330
    },
    "id": "55b42aa4",
    "outputId": "b6825959-c95b-44e4-cee5-f20b4b1a3f43"
   },
   "outputs": [
    {
     "data": {
      "text/html": [
       "\n",
       "  <div id=\"df-e6b7cea3-5e73-4d34-9662-5a79d9a0fadf\">\n",
       "    <div class=\"colab-df-container\">\n",
       "      <div>\n",
       "<style scoped>\n",
       "    .dataframe tbody tr th:only-of-type {\n",
       "        vertical-align: middle;\n",
       "    }\n",
       "\n",
       "    .dataframe tbody tr th {\n",
       "        vertical-align: top;\n",
       "    }\n",
       "\n",
       "    .dataframe thead th {\n",
       "        text-align: right;\n",
       "    }\n",
       "</style>\n",
       "<table border=\"1\" class=\"dataframe\">\n",
       "  <thead>\n",
       "    <tr style=\"text-align: right;\">\n",
       "      <th></th>\n",
       "      <th>Date</th>\n",
       "      <th>Open</th>\n",
       "      <th>High</th>\n",
       "      <th>Low</th>\n",
       "      <th>Close</th>\n",
       "      <th>Volume</th>\n",
       "    </tr>\n",
       "  </thead>\n",
       "  <tbody>\n",
       "    <tr>\n",
       "      <th>0</th>\n",
       "      <td>1/3/2012</td>\n",
       "      <td>325.25</td>\n",
       "      <td>332.83</td>\n",
       "      <td>324.97</td>\n",
       "      <td>663.59</td>\n",
       "      <td>7,380,500</td>\n",
       "    </tr>\n",
       "    <tr>\n",
       "      <th>1</th>\n",
       "      <td>1/4/2012</td>\n",
       "      <td>331.27</td>\n",
       "      <td>333.87</td>\n",
       "      <td>329.08</td>\n",
       "      <td>666.45</td>\n",
       "      <td>5,749,400</td>\n",
       "    </tr>\n",
       "    <tr>\n",
       "      <th>2</th>\n",
       "      <td>1/5/2012</td>\n",
       "      <td>329.83</td>\n",
       "      <td>330.75</td>\n",
       "      <td>326.89</td>\n",
       "      <td>657.21</td>\n",
       "      <td>6,590,300</td>\n",
       "    </tr>\n",
       "    <tr>\n",
       "      <th>3</th>\n",
       "      <td>1/6/2012</td>\n",
       "      <td>328.34</td>\n",
       "      <td>328.77</td>\n",
       "      <td>323.68</td>\n",
       "      <td>648.24</td>\n",
       "      <td>5,405,900</td>\n",
       "    </tr>\n",
       "    <tr>\n",
       "      <th>4</th>\n",
       "      <td>1/9/2012</td>\n",
       "      <td>322.04</td>\n",
       "      <td>322.29</td>\n",
       "      <td>309.46</td>\n",
       "      <td>620.76</td>\n",
       "      <td>11,688,800</td>\n",
       "    </tr>\n",
       "  </tbody>\n",
       "</table>\n",
       "</div>\n",
       "      <button class=\"colab-df-convert\" onclick=\"convertToInteractive('df-e6b7cea3-5e73-4d34-9662-5a79d9a0fadf')\"\n",
       "              title=\"Convert this dataframe to an interactive table.\"\n",
       "              style=\"display:none;\">\n",
       "        \n",
       "  <svg xmlns=\"http://www.w3.org/2000/svg\" height=\"24px\"viewBox=\"0 0 24 24\"\n",
       "       width=\"24px\">\n",
       "    <path d=\"M0 0h24v24H0V0z\" fill=\"none\"/>\n",
       "    <path d=\"M18.56 5.44l.94 2.06.94-2.06 2.06-.94-2.06-.94-.94-2.06-.94 2.06-2.06.94zm-11 1L8.5 8.5l.94-2.06 2.06-.94-2.06-.94L8.5 2.5l-.94 2.06-2.06.94zm10 10l.94 2.06.94-2.06 2.06-.94-2.06-.94-.94-2.06-.94 2.06-2.06.94z\"/><path d=\"M17.41 7.96l-1.37-1.37c-.4-.4-.92-.59-1.43-.59-.52 0-1.04.2-1.43.59L10.3 9.45l-7.72 7.72c-.78.78-.78 2.05 0 2.83L4 21.41c.39.39.9.59 1.41.59.51 0 1.02-.2 1.41-.59l7.78-7.78 2.81-2.81c.8-.78.8-2.07 0-2.86zM5.41 20L4 18.59l7.72-7.72 1.47 1.35L5.41 20z\"/>\n",
       "  </svg>\n",
       "      </button>\n",
       "      \n",
       "  <style>\n",
       "    .colab-df-container {\n",
       "      display:flex;\n",
       "      flex-wrap:wrap;\n",
       "      gap: 12px;\n",
       "    }\n",
       "\n",
       "    .colab-df-convert {\n",
       "      background-color: #E8F0FE;\n",
       "      border: none;\n",
       "      border-radius: 50%;\n",
       "      cursor: pointer;\n",
       "      display: none;\n",
       "      fill: #1967D2;\n",
       "      height: 32px;\n",
       "      padding: 0 0 0 0;\n",
       "      width: 32px;\n",
       "    }\n",
       "\n",
       "    .colab-df-convert:hover {\n",
       "      background-color: #E2EBFA;\n",
       "      box-shadow: 0px 1px 2px rgba(60, 64, 67, 0.3), 0px 1px 3px 1px rgba(60, 64, 67, 0.15);\n",
       "      fill: #174EA6;\n",
       "    }\n",
       "\n",
       "    [theme=dark] .colab-df-convert {\n",
       "      background-color: #3B4455;\n",
       "      fill: #D2E3FC;\n",
       "    }\n",
       "\n",
       "    [theme=dark] .colab-df-convert:hover {\n",
       "      background-color: #434B5C;\n",
       "      box-shadow: 0px 1px 3px 1px rgba(0, 0, 0, 0.15);\n",
       "      filter: drop-shadow(0px 1px 2px rgba(0, 0, 0, 0.3));\n",
       "      fill: #FFFFFF;\n",
       "    }\n",
       "  </style>\n",
       "\n",
       "      <script>\n",
       "        const buttonEl =\n",
       "          document.querySelector('#df-e6b7cea3-5e73-4d34-9662-5a79d9a0fadf button.colab-df-convert');\n",
       "        buttonEl.style.display =\n",
       "          google.colab.kernel.accessAllowed ? 'block' : 'none';\n",
       "\n",
       "        async function convertToInteractive(key) {\n",
       "          const element = document.querySelector('#df-e6b7cea3-5e73-4d34-9662-5a79d9a0fadf');\n",
       "          const dataTable =\n",
       "            await google.colab.kernel.invokeFunction('convertToInteractive',\n",
       "                                                     [key], {});\n",
       "          if (!dataTable) return;\n",
       "\n",
       "          const docLinkHtml = 'Like what you see? Visit the ' +\n",
       "            '<a target=\"_blank\" href=https://colab.research.google.com/notebooks/data_table.ipynb>data table notebook</a>'\n",
       "            + ' to learn more about interactive tables.';\n",
       "          element.innerHTML = '';\n",
       "          dataTable['output_type'] = 'display_data';\n",
       "          await google.colab.output.renderOutput(dataTable, element);\n",
       "          const docLink = document.createElement('div');\n",
       "          docLink.innerHTML = docLinkHtml;\n",
       "          element.appendChild(docLink);\n",
       "        }\n",
       "      </script>\n",
       "    </div>\n",
       "  </div>\n",
       "  "
      ],
      "text/plain": [
       "       Date    Open    High     Low   Close      Volume\n",
       "0  1/3/2012  325.25  332.83  324.97  663.59   7,380,500\n",
       "1  1/4/2012  331.27  333.87  329.08  666.45   5,749,400\n",
       "2  1/5/2012  329.83  330.75  326.89  657.21   6,590,300\n",
       "3  1/6/2012  328.34  328.77  323.68  648.24   5,405,900\n",
       "4  1/9/2012  322.04  322.29  309.46  620.76  11,688,800"
      ]
     },
     "execution_count": 5,
     "metadata": {},
     "output_type": "execute_result"
    }
   ],
   "source": [
    "data = pd.read_csv('Google_train_data.csv')\n",
    "data.head()"
   ]
  },
  {
   "cell_type": "code",
   "execution_count": 6,
   "id": "c4a15945",
   "metadata": {
    "executionInfo": {
     "elapsed": 712,
     "status": "ok",
     "timestamp": 1670784122877,
     "user": {
      "displayName": "Tanmay Jadav",
      "userId": "06483448042551357940"
     },
     "user_tz": -330
    },
    "id": "c4a15945"
   },
   "outputs": [],
   "source": [
    "data[\"Close\"]=pd.to_numeric(data.Close,errors='coerce')\n",
    "data = data.dropna()\n",
    "trainData = data.iloc[:,4:5].values"
   ]
  },
  {
   "cell_type": "code",
   "execution_count": 7,
   "id": "fe6f1b79",
   "metadata": {
    "colab": {
     "base_uri": "https://localhost:8080/"
    },
    "executionInfo": {
     "elapsed": 15,
     "status": "ok",
     "timestamp": 1670784125139,
     "user": {
      "displayName": "Tanmay Jadav",
      "userId": "06483448042551357940"
     },
     "user_tz": -330
    },
    "id": "fe6f1b79",
    "outputId": "11fdcbf9-ab13-4821-c8bd-7cb602f36001"
   },
   "outputs": [
    {
     "data": {
      "text/plain": [
       "(1149, 1)"
      ]
     },
     "execution_count": 7,
     "metadata": {},
     "output_type": "execute_result"
    }
   ],
   "source": [
    "sc = MinMaxScaler(feature_range=(0,1))\n",
    "trainData = sc.fit_transform(trainData)\n",
    "trainData.shape"
   ]
  },
  {
   "cell_type": "code",
   "execution_count": 8,
   "id": "1e1a7f88",
   "metadata": {
    "executionInfo": {
     "elapsed": 3,
     "status": "ok",
     "timestamp": 1670784127565,
     "user": {
      "displayName": "Tanmay Jadav",
      "userId": "06483448042551357940"
     },
     "user_tz": -330
    },
    "id": "1e1a7f88"
   },
   "outputs": [],
   "source": [
    "X_train = []\n",
    "y_train = []\n",
    "\n",
    "for i in range (60,1149): #60 : timestep // 1149 : length of the data\n",
    "    X_train.append(trainData[i-60:i,0]) \n",
    "    y_train.append(trainData[i,0])\n",
    "\n",
    "X_train,y_train = np.array(X_train),np.array(y_train)"
   ]
  },
  {
   "cell_type": "code",
   "execution_count": 11,
   "id": "3d0b13f1",
   "metadata": {
    "colab": {
     "base_uri": "https://localhost:8080/"
    },
    "executionInfo": {
     "elapsed": 7,
     "status": "ok",
     "timestamp": 1670784150028,
     "user": {
      "displayName": "Tanmay Jadav",
      "userId": "06483448042551357940"
     },
     "user_tz": -330
    },
    "id": "3d0b13f1",
    "outputId": "e4631257-8871-4987-f317-c5908b48542a"
   },
   "outputs": [
    {
     "data": {
      "text/plain": [
       "array([[[0.40001392],\n",
       "        [0.40665027],\n",
       "        [0.38520976],\n",
       "        ...,\n",
       "        [0.36279469],\n",
       "        [0.35745777],\n",
       "        [0.37766846]],\n",
       "\n",
       "       [[0.40665027],\n",
       "        [0.38520976],\n",
       "        [0.36439577],\n",
       "        ...,\n",
       "        [0.35745777],\n",
       "        [0.37766846],\n",
       "        [0.36065992]],\n",
       "\n",
       "       [[0.38520976],\n",
       "        [0.36439577],\n",
       "        [0.30063115],\n",
       "        ...,\n",
       "        [0.37766846],\n",
       "        [0.36065992],\n",
       "        [0.34406906]],\n",
       "\n",
       "       ...,\n",
       "\n",
       "       [[0.65286802],\n",
       "        [0.66184797],\n",
       "        [0.66194078],\n",
       "        ...,\n",
       "        [0.69625951],\n",
       "        [0.69312697],\n",
       "        [0.69693243]],\n",
       "\n",
       "       [[0.66184797],\n",
       "        [0.66194078],\n",
       "        [0.66284574],\n",
       "        ...,\n",
       "        [0.69312697],\n",
       "        [0.69693243],\n",
       "        [0.68184982]],\n",
       "\n",
       "       [[0.66194078],\n",
       "        [0.66284574],\n",
       "        [0.65871543],\n",
       "        ...,\n",
       "        [0.69693243],\n",
       "        [0.68184982],\n",
       "        [0.67660572]]])"
      ]
     },
     "execution_count": 11,
     "metadata": {},
     "output_type": "execute_result"
    }
   ],
   "source": [
    "X_train = np.reshape(X_train,(X_train.shape[0],X_train.shape[1],1)) #adding the batch_size axis\n",
    "X_train"
   ]
  },
  {
   "cell_type": "code",
   "execution_count": null,
   "id": "3f34eefb",
   "metadata": {
    "id": "3f34eefb"
   },
   "outputs": [],
   "source": [
    "model = Sequential()\n",
    "\n",
    "model.add(LSTM(units=100, return_sequences = True, input_shape =(X_train.shape[1],1)))\n",
    "model.add(Dropout(0.2))\n",
    "\n",
    "model.add(LSTM(units=100, return_sequences = True))\n",
    "model.add(Dropout(0.2))\n",
    "\n",
    "model.add(LSTM(units=100, return_sequences = True))\n",
    "model.add(Dropout(0.2))\n",
    "\n",
    "model.add(LSTM(units=100, return_sequences = False))\n",
    "model.add(Dropout(0.2))\n",
    "\n",
    "model.add(Dense(units =1))\n",
    "model.compile(optimizer='adam',loss=\"mean_squared_error\")"
   ]
  },
  {
   "cell_type": "markdown",
   "id": "wW2NzjOvfB8Z",
   "metadata": {
    "id": "wW2NzjOvfB8Z"
   },
   "source": [
    "# New Section"
   ]
  },
  {
   "cell_type": "code",
   "execution_count": null,
   "id": "e139c402",
   "metadata": {
    "id": "e139c402",
    "outputId": "014805ff-1626-4ce2-dc55-d4b77ca12766"
   },
   "outputs": [
    {
     "name": "stdout",
     "output_type": "stream",
     "text": [
      "Epoch 1/20\n",
      "35/35 - 8s - loss: 0.0286 - 8s/epoch - 220ms/step\n",
      "Epoch 2/20\n",
      "35/35 - 1s - loss: 0.0150 - 800ms/epoch - 23ms/step\n",
      "Epoch 3/20\n",
      "35/35 - 1s - loss: 0.0102 - 876ms/epoch - 25ms/step\n",
      "Epoch 4/20\n",
      "35/35 - 1s - loss: 0.0081 - 808ms/epoch - 23ms/step\n",
      "Epoch 5/20\n",
      "35/35 - 1s - loss: 0.0068 - 739ms/epoch - 21ms/step\n",
      "Epoch 6/20\n",
      "35/35 - 1s - loss: 0.0080 - 789ms/epoch - 23ms/step\n",
      "Epoch 7/20\n",
      "35/35 - 1s - loss: 0.0060 - 754ms/epoch - 22ms/step\n",
      "Epoch 8/20\n",
      "35/35 - 1s - loss: 0.0058 - 855ms/epoch - 24ms/step\n",
      "Epoch 9/20\n",
      "35/35 - 1s - loss: 0.0063 - 836ms/epoch - 24ms/step\n",
      "Epoch 10/20\n",
      "35/35 - 1s - loss: 0.0075 - 813ms/epoch - 23ms/step\n",
      "Epoch 11/20\n",
      "35/35 - 1s - loss: 0.0067 - 754ms/epoch - 22ms/step\n",
      "Epoch 12/20\n",
      "35/35 - 1s - loss: 0.0056 - 798ms/epoch - 23ms/step\n",
      "Epoch 13/20\n",
      "35/35 - 1s - loss: 0.0056 - 783ms/epoch - 22ms/step\n",
      "Epoch 14/20\n",
      "35/35 - 1s - loss: 0.0056 - 819ms/epoch - 23ms/step\n",
      "Epoch 15/20\n",
      "35/35 - 1s - loss: 0.0061 - 861ms/epoch - 25ms/step\n",
      "Epoch 16/20\n",
      "35/35 - 1s - loss: 0.0055 - 838ms/epoch - 24ms/step\n",
      "Epoch 17/20\n",
      "35/35 - 1s - loss: 0.0051 - 794ms/epoch - 23ms/step\n",
      "Epoch 18/20\n",
      "35/35 - 1s - loss: 0.0062 - 772ms/epoch - 22ms/step\n",
      "Epoch 19/20\n",
      "35/35 - 1s - loss: 0.0049 - 773ms/epoch - 22ms/step\n",
      "Epoch 20/20\n",
      "35/35 - 1s - loss: 0.0053 - 723ms/epoch - 21ms/step\n"
     ]
    }
   ],
   "source": [
    "hist = model.fit(X_train, y_train, epochs = 20, batch_size = 32, verbose=2)"
   ]
  },
  {
   "cell_type": "code",
   "execution_count": null,
   "id": "f21244ba",
   "metadata": {
    "id": "f21244ba",
    "outputId": "87756895-15f7-4165-c9d6-638fa1c43e24"
   },
   "outputs": [
    {
     "data": {
      "image/png": "[encoded data removed]",
      "text/plain": [
       "<Figure size 432x288 with 1 Axes>"
      ]
     },
     "metadata": {
      "needs_background": "light"
     },
     "output_type": "display_data"
    }
   ],
   "source": [
    "plt.plot(hist.history['loss'])\n",
    "plt.title('Training model loss')\n",
    "plt.ylabel('loss')\n",
    "plt.xlabel('epoch')\n",
    "plt.legend(['train'], loc='upper left')\n",
    "plt.show()"
   ]
  },
  {
   "cell_type": "code",
   "execution_count": null,
   "id": "c206450e",
   "metadata": {
    "id": "c206450e",
    "outputId": "d5ae7357-6ccc-4c4e-b16f-4a1b730fb23c"
   },
   "outputs": [
    {
     "data": {
      "text/plain": [
       "(192, 60, 1)"
      ]
     },
     "execution_count": 10,
     "metadata": {},
     "output_type": "execute_result"
    }
   ],
   "source": [
    "testData = pd.read_csv('Google_test_data.csv')\n",
    "testData[\"Close\"]=pd.to_numeric(testData.Close,errors='coerce')\n",
    "testData = testData.dropna()\n",
    "testData = testData.iloc[:,4:5]\n",
    "y_test = testData.iloc[60:,0:].values \n",
    "#input array for the model\n",
    "inputClosing = testData.iloc[:,0:].values \n",
    "inputClosing_scaled = sc.transform(inputClosing)\n",
    "inputClosing_scaled.shape\n",
    "X_test = []\n",
    "length = len(testData)\n",
    "timestep = 60\n",
    "for i in range(timestep,length):  \n",
    "    X_test.append(inputClosing_scaled[i-timestep:i,0])\n",
    "X_test = np.array(X_test)\n",
    "X_test = np.reshape(X_test,(X_test.shape[0],X_test.shape[1],1))\n",
    "X_test.shape"
   ]
  },
  {
   "cell_type": "code",
   "execution_count": null,
   "id": "16f7e8d0",
   "metadata": {
    "id": "16f7e8d0",
    "outputId": "ee71d80e-64fd-4696-dd1d-a6c554681ba2"
   },
   "outputs": [
    {
     "name": "stdout",
     "output_type": "stream",
     "text": [
      "6/6 [==============================] - 1s 34ms/step\n"
     ]
    },
    {
     "data": {
      "text/plain": [
       "array([[1.2597038],\n",
       "       [1.2628994],\n",
       "       [1.2762226],\n",
       "       [1.2955806],\n",
       "       [1.3093541],\n",
       "       [1.3052648],\n",
       "       [1.2857357],\n",
       "       [1.2622937],\n",
       "       [1.2493377],\n",
       "       [1.2483399],\n",
       "       [1.2429696],\n",
       "       [1.2317426],\n",
       "       [1.2219099],\n",
       "       [1.2130667],\n",
       "       [1.2130765],\n",
       "       [1.2205428],\n",
       "       [1.2436005],\n",
       "       [1.2774497],\n",
       "       [1.3136238],\n",
       "       [1.3469787],\n",
       "       [1.3548884],\n",
       "       [1.3434131],\n",
       "       [1.3134718],\n",
       "       [1.2766557],\n",
       "       [1.247434 ],\n",
       "       [1.2349054],\n",
       "       [1.2371328],\n",
       "       [1.2421004],\n",
       "       [1.2369095],\n",
       "       [1.2258946],\n",
       "       [1.2131346],\n",
       "       [1.1985248],\n",
       "       [1.1760781],\n",
       "       [1.1486583],\n",
       "       [1.1405087],\n",
       "       [1.1563628],\n",
       "       [1.1855279],\n",
       "       [1.2153317],\n",
       "       [1.2405525],\n",
       "       [1.2494557],\n",
       "       [1.2584814],\n",
       "       [1.2715175],\n",
       "       [1.2882001],\n",
       "       [1.303709 ],\n",
       "       [1.3129358],\n",
       "       [1.3108962],\n",
       "       [1.2963027],\n",
       "       [1.2849432],\n",
       "       [1.2833604],\n",
       "       [1.2926251],\n",
       "       [1.3102221],\n",
       "       [1.3212832],\n",
       "       [1.3233416],\n",
       "       [1.3184761],\n",
       "       [1.3158703],\n",
       "       [1.3114458],\n",
       "       [1.3019196],\n",
       "       [1.2981802],\n",
       "       [1.3107525],\n",
       "       [1.333578 ],\n",
       "       [1.3642625],\n",
       "       [1.3989671],\n",
       "       [1.4198952],\n",
       "       [1.4178702],\n",
       "       [1.3979058],\n",
       "       [1.3710299],\n",
       "       [1.3549904],\n",
       "       [1.3527138],\n",
       "       [1.3604304],\n",
       "       [1.3695818],\n",
       "       [1.3774472],\n",
       "       [1.3813648],\n",
       "       [1.376195 ],\n",
       "       [1.3688786],\n",
       "       [1.3632345],\n",
       "       [1.3623296],\n",
       "       [1.3657036],\n",
       "       [1.3723359],\n",
       "       [1.3865223],\n",
       "       [1.4069569],\n",
       "       [1.4322841],\n",
       "       [1.4548606],\n",
       "       [1.464819 ],\n",
       "       [1.4619273],\n",
       "       [1.4623793],\n",
       "       [1.4749693],\n",
       "       [1.4949518],\n",
       "       [1.5116137],\n",
       "       [1.5197642],\n",
       "       [1.5197299],\n",
       "       [1.5195781],\n",
       "       [1.5299144],\n",
       "       [1.5500367],\n",
       "       [1.5629156],\n",
       "       [1.559835 ],\n",
       "       [1.5424236],\n",
       "       [1.5156474],\n",
       "       [1.4872506],\n",
       "       [1.4662014],\n",
       "       [1.4628507],\n",
       "       [1.4761709],\n",
       "       [1.4994291],\n",
       "       [1.526569 ],\n",
       "       [1.5475324],\n",
       "       [1.5574347],\n",
       "       [1.5553603],\n",
       "       [1.5476468],\n",
       "       [1.5400194],\n",
       "       [1.5394423],\n",
       "       [1.5459012],\n",
       "       [1.5573608],\n",
       "       [1.5724633],\n",
       "       [1.5867416],\n",
       "       [1.6011344],\n",
       "       [1.6187544],\n",
       "       [1.632581 ],\n",
       "       [1.6420451],\n",
       "       [1.6498536],\n",
       "       [1.661079 ],\n",
       "       [1.6366568],\n",
       "       [1.578119 ],\n",
       "       [1.5085062],\n",
       "       [1.4579289],\n",
       "       [1.4366528],\n",
       "       [1.4349169],\n",
       "       [1.4410383],\n",
       "       [1.4477404],\n",
       "       [1.4536241],\n",
       "       [1.4477751],\n",
       "       [1.4292202],\n",
       "       [1.4205452],\n",
       "       [1.431116 ],\n",
       "       [1.4490312],\n",
       "       [1.4571179],\n",
       "       [1.456664 ],\n",
       "       [1.4523776],\n",
       "       [1.4441284],\n",
       "       [1.4319837],\n",
       "       [1.4194202],\n",
       "       [1.4037054],\n",
       "       [1.388119 ],\n",
       "       [1.3715159],\n",
       "       [1.3350117],\n",
       "       [1.2915403],\n",
       "       [1.2512901],\n",
       "       [1.2228254],\n",
       "       [1.2154326],\n",
       "       [1.2306299],\n",
       "       [1.2590007],\n",
       "       [1.2887897],\n",
       "       [1.31559  ],\n",
       "       [1.3347424],\n",
       "       [1.3469939],\n",
       "       [1.3565806],\n",
       "       [1.3635885],\n",
       "       [1.3701671],\n",
       "       [1.3789692],\n",
       "       [1.3861955],\n",
       "       [1.3803824],\n",
       "       [1.361353 ],\n",
       "       [1.3356127],\n",
       "       [1.3128023],\n",
       "       [1.3032625],\n",
       "       [1.3109075],\n",
       "       [1.3329661],\n",
       "       [1.3634603],\n",
       "       [1.388339 ],\n",
       "       [1.4044132],\n",
       "       [1.4168559],\n",
       "       [1.4277859],\n",
       "       [1.4364295],\n",
       "       [1.4433167],\n",
       "       [1.4488246],\n",
       "       [1.4499185],\n",
       "       [1.4468215],\n",
       "       [1.4360688],\n",
       "       [1.423666 ],\n",
       "       [1.4165595],\n",
       "       [1.4130223],\n",
       "       [1.4097973],\n",
       "       [1.4453573],\n",
       "       [1.5080777],\n",
       "       [1.5680972],\n",
       "       [1.6043882],\n",
       "       [1.6117309],\n",
       "       [1.5934494],\n",
       "       [1.5482736],\n",
       "       [1.4994677],\n",
       "       [1.4634033],\n",
       "       [1.4555441],\n",
       "       [1.4649796],\n",
       "       [1.4761426]], dtype=float32)"
      ]
     },
     "execution_count": 11,
     "metadata": {},
     "output_type": "execute_result"
    }
   ],
   "source": [
    "y_pred = model.predict(X_test)\n",
    "y_pred"
   ]
  },
  {
   "cell_type": "code",
   "execution_count": null,
   "id": "d5efe220",
   "metadata": {
    "id": "d5efe220"
   },
   "outputs": [],
   "source": [
    "predicted_price = sc.inverse_transform(y_pred)"
   ]
  },
  {
   "cell_type": "code",
   "execution_count": null,
   "id": "36206f9b",
   "metadata": {
    "id": "36206f9b",
    "outputId": "0394e3d5-8eaa-4075-ac62-a1253c5dbd3b"
   },
   "outputs": [
    {
     "data": {
      "image/png": "[encoded data removed]",
      "text/plain": [
       "<Figure size 432x288 with 1 Axes>"
      ]
     },
     "metadata": {
      "needs_background": "light"
     },
     "output_type": "display_data"
    }
   ],
   "source": [
    "plt.plot(y_test, color = 'red', label = 'Actual Stock Price')\n",
    "plt.plot(predicted_price, color = 'green', label = 'Predicted Stock Price')\n",
    "plt.title('Google stock price prediction')\n",
    "plt.xlabel('Time')\n",
    "plt.ylabel('Stock Price')\n",
    "plt.legend()\n",
    "plt.show()"
   ]
  },
  {
   "cell_type": "code",
   "execution_count": null,
   "id": "06d50d1f",
   "metadata": {
    "id": "06d50d1f"
   },
   "outputs": [],
   "source": []
  },
  {
   "cell_type": "code",
   "execution_count": null,
   "id": "e765fdf3",
   "metadata": {
    "id": "e765fdf3"
   },
   "outputs": [],
   "source": []
  }
 ],
 "metadata": {
  "colab": {
   "provenance": []
  },
  "kernelspec": {
   "display_name": "Python 3 (ipykernel)",
   "language": "python",
   "name": "python3"
  },
  "language_info": {
   "codemirror_mode": {
    "name": "ipython",
    "version": 3
   },
   "file_extension": ".py",
   "mimetype": "text/x-python",
   "name": "python",
   "nbconvert_exporter": "python",
   "pygments_lexer": "ipython3",
   "version": "3.11.1"
  }
 },
 "nbformat": 4,
 "nbformat_minor": 5
}
