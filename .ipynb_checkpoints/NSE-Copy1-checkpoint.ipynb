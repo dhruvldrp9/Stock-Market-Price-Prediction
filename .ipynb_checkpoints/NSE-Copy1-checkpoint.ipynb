{
 "cells": [
  {
   "cell_type": "code",
   "execution_count": 35,
   "id": "baeea78d",
   "metadata": {},
   "outputs": [],
   "source": [
    "import pandas as pd\n",
    "import yfinance as yf\n",
    "from datetime import date"
   ]
  },
  {
   "cell_type": "code",
   "execution_count": 37,
   "id": "b7497260",
   "metadata": {},
   "outputs": [],
   "source": [
    "# data = yf.download(\"NIFTY\", start=\"2010-01-01\", end=\"2021-7-20\")\n",
    "data = pd.read_csv(\"NIFTY50_Data.csv\")"
   ]
  },
  {
   "cell_type": "code",
   "execution_count": 38,
   "id": "fb82729b",
   "metadata": {},
   "outputs": [
    {
     "data": {
      "text/html": [
       "<div>\n",
       "<style scoped>\n",
       "    .dataframe tbody tr th:only-of-type {\n",
       "        vertical-align: middle;\n",
       "    }\n",
       "\n",
       "    .dataframe tbody tr th {\n",
       "        vertical-align: top;\n",
       "    }\n",
       "\n",
       "    .dataframe thead th {\n",
       "        text-align: right;\n",
       "    }\n",
       "</style>\n",
       "<table border=\"1\" class=\"dataframe\">\n",
       "  <thead>\n",
       "    <tr style=\"text-align: right;\">\n",
       "      <th></th>\n",
       "      <th>Date</th>\n",
       "      <th>Open</th>\n",
       "      <th>High</th>\n",
       "      <th>Low</th>\n",
       "      <th>Close</th>\n",
       "    </tr>\n",
       "  </thead>\n",
       "  <tbody>\n",
       "    <tr>\n",
       "      <th>0</th>\n",
       "      <td>21 Apr 2023</td>\n",
       "      <td>17639.75</td>\n",
       "      <td>17663.20</td>\n",
       "      <td>17553.95</td>\n",
       "      <td>17624.05</td>\n",
       "    </tr>\n",
       "    <tr>\n",
       "      <th>1</th>\n",
       "      <td>20 Apr 2023</td>\n",
       "      <td>17638.60</td>\n",
       "      <td>17684.45</td>\n",
       "      <td>17584.35</td>\n",
       "      <td>17624.45</td>\n",
       "    </tr>\n",
       "    <tr>\n",
       "      <th>2</th>\n",
       "      <td>19 Apr 2023</td>\n",
       "      <td>17653.35</td>\n",
       "      <td>17666.15</td>\n",
       "      <td>17579.85</td>\n",
       "      <td>17618.75</td>\n",
       "    </tr>\n",
       "    <tr>\n",
       "      <th>3</th>\n",
       "      <td>18 Apr 2023</td>\n",
       "      <td>17766.60</td>\n",
       "      <td>17766.60</td>\n",
       "      <td>17610.20</td>\n",
       "      <td>17660.15</td>\n",
       "    </tr>\n",
       "    <tr>\n",
       "      <th>4</th>\n",
       "      <td>17 Apr 2023</td>\n",
       "      <td>17863.00</td>\n",
       "      <td>17863.00</td>\n",
       "      <td>17574.05</td>\n",
       "      <td>17706.85</td>\n",
       "    </tr>\n",
       "    <tr>\n",
       "      <th>...</th>\n",
       "      <td>...</td>\n",
       "      <td>...</td>\n",
       "      <td>...</td>\n",
       "      <td>...</td>\n",
       "      <td>...</td>\n",
       "    </tr>\n",
       "    <tr>\n",
       "      <th>317</th>\n",
       "      <td>07 Jan 2022</td>\n",
       "      <td>17797.60</td>\n",
       "      <td>17905.00</td>\n",
       "      <td>17704.55</td>\n",
       "      <td>17812.70</td>\n",
       "    </tr>\n",
       "    <tr>\n",
       "      <th>318</th>\n",
       "      <td>06 Jan 2022</td>\n",
       "      <td>17768.50</td>\n",
       "      <td>17797.95</td>\n",
       "      <td>17655.55</td>\n",
       "      <td>17745.90</td>\n",
       "    </tr>\n",
       "    <tr>\n",
       "      <th>319</th>\n",
       "      <td>05 Jan 2022</td>\n",
       "      <td>17820.10</td>\n",
       "      <td>17944.70</td>\n",
       "      <td>17748.85</td>\n",
       "      <td>17925.25</td>\n",
       "    </tr>\n",
       "    <tr>\n",
       "      <th>320</th>\n",
       "      <td>04 Jan 2022</td>\n",
       "      <td>17681.40</td>\n",
       "      <td>17827.60</td>\n",
       "      <td>17593.55</td>\n",
       "      <td>17805.25</td>\n",
       "    </tr>\n",
       "    <tr>\n",
       "      <th>321</th>\n",
       "      <td>03 Jan 2022</td>\n",
       "      <td>17387.15</td>\n",
       "      <td>17646.65</td>\n",
       "      <td>17383.30</td>\n",
       "      <td>17625.70</td>\n",
       "    </tr>\n",
       "  </tbody>\n",
       "</table>\n",
       "<p>322 rows × 5 columns</p>\n",
       "</div>"
      ],
      "text/plain": [
       "            Date      Open      High       Low     Close\n",
       "0    21 Apr 2023  17639.75  17663.20  17553.95  17624.05\n",
       "1    20 Apr 2023  17638.60  17684.45  17584.35  17624.45\n",
       "2    19 Apr 2023  17653.35  17666.15  17579.85  17618.75\n",
       "3    18 Apr 2023  17766.60  17766.60  17610.20  17660.15\n",
       "4    17 Apr 2023  17863.00  17863.00  17574.05  17706.85\n",
       "..           ...       ...       ...       ...       ...\n",
       "317  07 Jan 2022  17797.60  17905.00  17704.55  17812.70\n",
       "318  06 Jan 2022  17768.50  17797.95  17655.55  17745.90\n",
       "319  05 Jan 2022  17820.10  17944.70  17748.85  17925.25\n",
       "320  04 Jan 2022  17681.40  17827.60  17593.55  17805.25\n",
       "321  03 Jan 2022  17387.15  17646.65  17383.30  17625.70\n",
       "\n",
       "[322 rows x 5 columns]"
      ]
     },
     "execution_count": 38,
     "metadata": {},
     "output_type": "execute_result"
    }
   ],
   "source": [
    "data"
   ]
  },
  {
   "cell_type": "code",
   "execution_count": 39,
   "id": "aa13c320",
   "metadata": {},
   "outputs": [
    {
     "data": {
      "text/plain": [
       "(322, 5)"
      ]
     },
     "execution_count": 39,
     "metadata": {},
     "output_type": "execute_result"
    }
   ],
   "source": [
    "data.shape"
   ]
  },
  {
   "cell_type": "code",
   "execution_count": 40,
   "id": "0461fbaf",
   "metadata": {},
   "outputs": [
    {
     "data": {
      "text/html": [
       "<div>\n",
       "<style scoped>\n",
       "    .dataframe tbody tr th:only-of-type {\n",
       "        vertical-align: middle;\n",
       "    }\n",
       "\n",
       "    .dataframe tbody tr th {\n",
       "        vertical-align: top;\n",
       "    }\n",
       "\n",
       "    .dataframe thead th {\n",
       "        text-align: right;\n",
       "    }\n",
       "</style>\n",
       "<table border=\"1\" class=\"dataframe\">\n",
       "  <thead>\n",
       "    <tr style=\"text-align: right;\">\n",
       "      <th></th>\n",
       "      <th>Date</th>\n",
       "      <th>Open</th>\n",
       "      <th>High</th>\n",
       "      <th>Low</th>\n",
       "      <th>Close</th>\n",
       "    </tr>\n",
       "  </thead>\n",
       "  <tbody>\n",
       "    <tr>\n",
       "      <th>0</th>\n",
       "      <td>21 Apr 2023</td>\n",
       "      <td>17639.75</td>\n",
       "      <td>17663.20</td>\n",
       "      <td>17553.95</td>\n",
       "      <td>17624.05</td>\n",
       "    </tr>\n",
       "    <tr>\n",
       "      <th>1</th>\n",
       "      <td>20 Apr 2023</td>\n",
       "      <td>17638.60</td>\n",
       "      <td>17684.45</td>\n",
       "      <td>17584.35</td>\n",
       "      <td>17624.45</td>\n",
       "    </tr>\n",
       "    <tr>\n",
       "      <th>2</th>\n",
       "      <td>19 Apr 2023</td>\n",
       "      <td>17653.35</td>\n",
       "      <td>17666.15</td>\n",
       "      <td>17579.85</td>\n",
       "      <td>17618.75</td>\n",
       "    </tr>\n",
       "    <tr>\n",
       "      <th>3</th>\n",
       "      <td>18 Apr 2023</td>\n",
       "      <td>17766.60</td>\n",
       "      <td>17766.60</td>\n",
       "      <td>17610.20</td>\n",
       "      <td>17660.15</td>\n",
       "    </tr>\n",
       "    <tr>\n",
       "      <th>4</th>\n",
       "      <td>17 Apr 2023</td>\n",
       "      <td>17863.00</td>\n",
       "      <td>17863.00</td>\n",
       "      <td>17574.05</td>\n",
       "      <td>17706.85</td>\n",
       "    </tr>\n",
       "  </tbody>\n",
       "</table>\n",
       "</div>"
      ],
      "text/plain": [
       "          Date      Open      High       Low     Close\n",
       "0  21 Apr 2023  17639.75  17663.20  17553.95  17624.05\n",
       "1  20 Apr 2023  17638.60  17684.45  17584.35  17624.45\n",
       "2  19 Apr 2023  17653.35  17666.15  17579.85  17618.75\n",
       "3  18 Apr 2023  17766.60  17766.60  17610.20  17660.15\n",
       "4  17 Apr 2023  17863.00  17863.00  17574.05  17706.85"
      ]
     },
     "execution_count": 40,
     "metadata": {},
     "output_type": "execute_result"
    }
   ],
   "source": [
    "data.head()"
   ]
  },
  {
   "cell_type": "code",
   "execution_count": 41,
   "id": "be907a3b",
   "metadata": {},
   "outputs": [
    {
     "data": {
      "text/html": [
       "<div>\n",
       "<style scoped>\n",
       "    .dataframe tbody tr th:only-of-type {\n",
       "        vertical-align: middle;\n",
       "    }\n",
       "\n",
       "    .dataframe tbody tr th {\n",
       "        vertical-align: top;\n",
       "    }\n",
       "\n",
       "    .dataframe thead th {\n",
       "        text-align: right;\n",
       "    }\n",
       "</style>\n",
       "<table border=\"1\" class=\"dataframe\">\n",
       "  <thead>\n",
       "    <tr style=\"text-align: right;\">\n",
       "      <th></th>\n",
       "      <th>Date</th>\n",
       "      <th>Open</th>\n",
       "      <th>High</th>\n",
       "      <th>Low</th>\n",
       "      <th>Close</th>\n",
       "    </tr>\n",
       "  </thead>\n",
       "  <tbody>\n",
       "    <tr>\n",
       "      <th>317</th>\n",
       "      <td>07 Jan 2022</td>\n",
       "      <td>17797.60</td>\n",
       "      <td>17905.00</td>\n",
       "      <td>17704.55</td>\n",
       "      <td>17812.70</td>\n",
       "    </tr>\n",
       "    <tr>\n",
       "      <th>318</th>\n",
       "      <td>06 Jan 2022</td>\n",
       "      <td>17768.50</td>\n",
       "      <td>17797.95</td>\n",
       "      <td>17655.55</td>\n",
       "      <td>17745.90</td>\n",
       "    </tr>\n",
       "    <tr>\n",
       "      <th>319</th>\n",
       "      <td>05 Jan 2022</td>\n",
       "      <td>17820.10</td>\n",
       "      <td>17944.70</td>\n",
       "      <td>17748.85</td>\n",
       "      <td>17925.25</td>\n",
       "    </tr>\n",
       "    <tr>\n",
       "      <th>320</th>\n",
       "      <td>04 Jan 2022</td>\n",
       "      <td>17681.40</td>\n",
       "      <td>17827.60</td>\n",
       "      <td>17593.55</td>\n",
       "      <td>17805.25</td>\n",
       "    </tr>\n",
       "    <tr>\n",
       "      <th>321</th>\n",
       "      <td>03 Jan 2022</td>\n",
       "      <td>17387.15</td>\n",
       "      <td>17646.65</td>\n",
       "      <td>17383.30</td>\n",
       "      <td>17625.70</td>\n",
       "    </tr>\n",
       "  </tbody>\n",
       "</table>\n",
       "</div>"
      ],
      "text/plain": [
       "            Date      Open      High       Low     Close\n",
       "317  07 Jan 2022  17797.60  17905.00  17704.55  17812.70\n",
       "318  06 Jan 2022  17768.50  17797.95  17655.55  17745.90\n",
       "319  05 Jan 2022  17820.10  17944.70  17748.85  17925.25\n",
       "320  04 Jan 2022  17681.40  17827.60  17593.55  17805.25\n",
       "321  03 Jan 2022  17387.15  17646.65  17383.30  17625.70"
      ]
     },
     "execution_count": 41,
     "metadata": {},
     "output_type": "execute_result"
    }
   ],
   "source": [
    "data.tail()"
   ]
  },
  {
   "cell_type": "code",
   "execution_count": 42,
   "id": "4d202c54",
   "metadata": {},
   "outputs": [],
   "source": [
    "close = data[['Close']]"
   ]
  },
  {
   "cell_type": "code",
   "execution_count": 43,
   "id": "93c09c64",
   "metadata": {},
   "outputs": [
    {
     "data": {
      "text/plain": [
       "<AxesSubplot:>"
      ]
     },
     "execution_count": 43,
     "metadata": {},
     "output_type": "execute_result"
    },
    {
     "data": {
      "image/png": "[encoded data removed]",
      "text/plain": [
       "<Figure size 432x288 with 1 Axes>"
      ]
     },
     "metadata": {
      "needs_background": "light"
     },
     "output_type": "display_data"
    }
   ],
   "source": [
    "close.plot()"
   ]
  },
  {
   "cell_type": "code",
   "execution_count": 44,
   "id": "280a8e7c",
   "metadata": {},
   "outputs": [],
   "source": [
    "import matplotlib.pyplot as plt"
   ]
  },
  {
   "cell_type": "code",
   "execution_count": 45,
   "id": "181a04f1",
   "metadata": {},
   "outputs": [],
   "source": [
    "ds = close.values"
   ]
  },
  {
   "cell_type": "code",
   "execution_count": 46,
   "id": "f556bac2",
   "metadata": {},
   "outputs": [
    {
     "data": {
      "text/plain": [
       "array([[17624.05],\n",
       "       [17624.45],\n",
       "       [17618.75],\n",
       "       [17660.15],\n",
       "       [17706.85],\n",
       "       [17828.  ],\n",
       "       [17812.4 ],\n",
       "       [17722.3 ],\n",
       "       [17624.05],\n",
       "       [17599.15],\n",
       "       [17557.05],\n",
       "       [17398.05],\n",
       "       [17359.75],\n",
       "       [17080.7 ],\n",
       "       [16951.7 ],\n",
       "       [16985.7 ],\n",
       "       [16945.05],\n",
       "       [17076.9 ],\n",
       "       [17151.9 ],\n",
       "       [17107.5 ],\n",
       "       [16988.4 ],\n",
       "       [17100.05],\n",
       "       [16985.6 ],\n",
       "       [16972.15],\n",
       "       [17043.3 ],\n",
       "       [17154.3 ],\n",
       "       [17412.9 ],\n",
       "       [17589.6 ],\n",
       "       [17754.4 ],\n",
       "       [17711.45],\n",
       "       [17594.35],\n",
       "       [17321.9 ],\n",
       "       [17450.9 ],\n",
       "       [17303.95],\n",
       "       [17392.7 ],\n",
       "       [17465.8 ],\n",
       "       [17511.25],\n",
       "       [17554.3 ],\n",
       "       [17826.7 ],\n",
       "       [17844.6 ],\n",
       "       [17944.2 ],\n",
       "       [18035.85],\n",
       "       [18015.85],\n",
       "       [17929.85],\n",
       "       [17770.9 ],\n",
       "       [17856.5 ],\n",
       "       [17893.45],\n",
       "       [17871.7 ],\n",
       "       [17721.5 ],\n",
       "       [17764.6 ],\n",
       "       [17854.05],\n",
       "       [17610.4 ],\n",
       "       [17616.3 ],\n",
       "       [17662.15],\n",
       "       [17648.95],\n",
       "       [17604.35],\n",
       "       [17891.95],\n",
       "       [18118.3 ],\n",
       "       [18118.55],\n",
       "       [18027.65],\n",
       "       [18107.85],\n",
       "       [18165.35],\n",
       "       [18053.3 ],\n",
       "       [17894.85],\n",
       "       [17956.6 ],\n",
       "       [17858.2 ],\n",
       "       [17895.7 ],\n",
       "       [17914.15],\n",
       "       [18101.2 ],\n",
       "       [17859.45],\n",
       "       [17992.15],\n",
       "       [18042.95],\n",
       "       [18232.55],\n",
       "       [18197.45],\n",
       "       [18105.3 ],\n",
       "       [18191.  ],\n",
       "       [18122.5 ],\n",
       "       [18132.3 ],\n",
       "       [18014.6 ],\n",
       "       [17806.8 ],\n",
       "       [18127.35],\n",
       "       [18199.1 ],\n",
       "       [18385.3 ],\n",
       "       [18420.45],\n",
       "       [18269.  ],\n",
       "       [18414.9 ],\n",
       "       [18660.3 ],\n",
       "       [18608.  ],\n",
       "       [18497.15],\n",
       "       [18496.6 ],\n",
       "       [18609.35],\n",
       "       [18560.5 ],\n",
       "       [18642.75],\n",
       "       [18701.05],\n",
       "       [18696.1 ],\n",
       "       [18812.5 ],\n",
       "       [18758.35],\n",
       "       [18618.05],\n",
       "       [18562.75],\n",
       "       [18512.75],\n",
       "       [18484.1 ],\n",
       "       [18267.25],\n",
       "       [18244.2 ],\n",
       "       [18159.95],\n",
       "       [18307.65],\n",
       "       [18343.9 ],\n",
       "       [18409.65],\n",
       "       [18403.4 ],\n",
       "       [18329.15],\n",
       "       [18349.7 ],\n",
       "       [18028.2 ],\n",
       "       [18157.  ],\n",
       "       [18202.8 ],\n",
       "       [18117.15],\n",
       "       [18052.7 ],\n",
       "       [18082.85],\n",
       "       [18145.4 ],\n",
       "       [18012.2 ],\n",
       "       [17786.8 ],\n",
       "       [17736.95],\n",
       "       [17656.35],\n",
       "       [17730.75],\n",
       "       [17576.3 ],\n",
       "       [17563.95],\n",
       "       [17512.25],\n",
       "       [17486.95],\n",
       "       [17311.8 ],\n",
       "       [17185.7 ],\n",
       "       [17014.35],\n",
       "       [17123.6 ],\n",
       "       [16983.55],\n",
       "       [17241.  ],\n",
       "       [17314.65],\n",
       "       [17331.8 ],\n",
       "       [17274.3 ],\n",
       "       [16887.35],\n",
       "       [17094.35],\n",
       "       [16818.1 ],\n",
       "       [16858.6 ],\n",
       "       [17007.4 ],\n",
       "       [17016.3 ],\n",
       "       [17327.35],\n",
       "       [17629.8 ],\n",
       "       [17718.35],\n",
       "       [17816.25],\n",
       "       [17622.25],\n",
       "       [17530.85],\n",
       "       [17877.4 ],\n",
       "       [18003.75],\n",
       "       [18070.05],\n",
       "       [17936.35],\n",
       "       [17833.35],\n",
       "       [17798.75],\n",
       "       [17624.4 ],\n",
       "       [17655.6 ],\n",
       "       [17665.8 ],\n",
       "       [17539.45],\n",
       "       [17542.8 ],\n",
       "       [17759.3 ],\n",
       "       [17312.9 ],\n",
       "       [17558.9 ],\n",
       "       [17522.45],\n",
       "       [17604.95],\n",
       "       [17577.5 ],\n",
       "       [17490.7 ],\n",
       "       [17758.45],\n",
       "       [17956.5 ],\n",
       "       [17944.25],\n",
       "       [17825.25],\n",
       "       [17698.15],\n",
       "       [17659.  ],\n",
       "       [17534.75],\n",
       "       [17525.1 ],\n",
       "       [17397.5 ],\n",
       "       [17382.  ],\n",
       "       [17388.15],\n",
       "       [17345.45],\n",
       "       [17340.05],\n",
       "       [17158.25],\n",
       "       [16929.6 ],\n",
       "       [16641.8 ],\n",
       "       [16483.85],\n",
       "       [16631.  ],\n",
       "       [16719.45],\n",
       "       [16605.25],\n",
       "       [16520.85],\n",
       "       [16340.55],\n",
       "       [16278.5 ],\n",
       "       [16049.2 ],\n",
       "       [15938.65],\n",
       "       [15966.65],\n",
       "       [16058.3 ],\n",
       "       [16216.  ],\n",
       "       [16220.6 ],\n",
       "       [16132.9 ],\n",
       "       [15989.8 ],\n",
       "       [15810.85],\n",
       "       [15835.35],\n",
       "       [15752.05],\n",
       "       [15780.25],\n",
       "       [15799.1 ],\n",
       "       [15850.2 ],\n",
       "       [15832.05],\n",
       "       [15699.25],\n",
       "       [15556.65],\n",
       "       [15413.3 ],\n",
       "       [15638.8 ],\n",
       "       [15350.15],\n",
       "       [15293.5 ],\n",
       "       [15360.6 ],\n",
       "       [15692.15],\n",
       "       [15732.1 ],\n",
       "       [15774.4 ],\n",
       "       [16201.8 ],\n",
       "       [16478.1 ],\n",
       "       [16356.25],\n",
       "       [16416.35],\n",
       "       [16569.55],\n",
       "       [16584.3 ],\n",
       "       [16628.  ],\n",
       "       [16522.75],\n",
       "       [16584.55],\n",
       "       [16661.4 ],\n",
       "       [16352.45],\n",
       "       [16170.15],\n",
       "       [16025.8 ],\n",
       "       [16125.15],\n",
       "       [16214.7 ],\n",
       "       [16266.15],\n",
       "       [15809.4 ],\n",
       "       [16240.3 ],\n",
       "       [16259.3 ],\n",
       "       [15842.3 ],\n",
       "       [15782.15],\n",
       "       [15808.  ],\n",
       "       [16167.1 ],\n",
       "       [16240.05],\n",
       "       [16301.85],\n",
       "       [16411.25],\n",
       "       [16682.65],\n",
       "       [16677.6 ],\n",
       "       [17069.1 ],\n",
       "       [17102.55],\n",
       "       [17245.05],\n",
       "       [17038.4 ],\n",
       "       [17200.8 ],\n",
       "       [16953.95],\n",
       "       [17171.95],\n",
       "       [17392.6 ],\n",
       "       [17136.55],\n",
       "       [16958.65],\n",
       "       [17173.65],\n",
       "       [17475.65],\n",
       "       [17530.3 ],\n",
       "       [17674.95],\n",
       "       [17784.35],\n",
       "       [17639.55],\n",
       "       [17807.65],\n",
       "       [17957.4 ],\n",
       "       [18053.4 ],\n",
       "       [17670.45],\n",
       "       [17464.75],\n",
       "       [17498.25],\n",
       "       [17325.3 ],\n",
       "       [17222.  ],\n",
       "       [17153.  ],\n",
       "       [17222.75],\n",
       "       [17245.65],\n",
       "       [17315.5 ],\n",
       "       [17117.6 ],\n",
       "       [17287.05],\n",
       "       [16975.35],\n",
       "       [16663.  ],\n",
       "       [16871.3 ],\n",
       "       [16630.45],\n",
       "       [16594.9 ],\n",
       "       [16345.35],\n",
       "       [16013.45],\n",
       "       [15863.15],\n",
       "       [16245.35],\n",
       "       [16498.05],\n",
       "       [16605.95],\n",
       "       [16793.9 ],\n",
       "       [16658.4 ],\n",
       "       [16247.95],\n",
       "       [17063.25],\n",
       "       [17092.2 ],\n",
       "       [17206.65],\n",
       "       [17276.3 ],\n",
       "       [17304.6 ],\n",
       "       [17322.2 ],\n",
       "       [17352.45],\n",
       "       [16842.8 ],\n",
       "       [17374.75],\n",
       "       [17605.85],\n",
       "       [17463.8 ],\n",
       "       [17266.75],\n",
       "       [17213.6 ],\n",
       "       [17516.3 ],\n",
       "       [17560.2 ],\n",
       "       [17780.  ],\n",
       "       [17576.85],\n",
       "       [17339.85],\n",
       "       [17101.95],\n",
       "       [17110.15],\n",
       "       [17277.95],\n",
       "       [17149.1 ],\n",
       "       [17617.15],\n",
       "       [17757.  ],\n",
       "       [17938.4 ],\n",
       "       [18113.05],\n",
       "       [18308.1 ],\n",
       "       [18255.75],\n",
       "       [18257.8 ],\n",
       "       [18212.35],\n",
       "       [18055.75],\n",
       "       [18003.3 ],\n",
       "       [17812.7 ],\n",
       "       [17745.9 ],\n",
       "       [17925.25],\n",
       "       [17805.25],\n",
       "       [17625.7 ]])"
      ]
     },
     "execution_count": 46,
     "metadata": {},
     "output_type": "execute_result"
    }
   ],
   "source": [
    "ds"
   ]
  },
  {
   "cell_type": "code",
   "execution_count": 47,
   "id": "48eab9d8",
   "metadata": {},
   "outputs": [
    {
     "data": {
      "text/plain": [
       "[<matplotlib.lines.Line2D at 0x1c9273e6e20>]"
      ]
     },
     "execution_count": 47,
     "metadata": {},
     "output_type": "execute_result"
    },
    {
     "data": {
      "image/png": "[encoded data removed]",
      "text/plain": [
       "<Figure size 432x288 with 1 Axes>"
      ]
     },
     "metadata": {
      "needs_background": "light"
     },
     "output_type": "display_data"
    }
   ],
   "source": [
    "plt.plot(ds)"
   ]
  },
  {
   "cell_type": "code",
   "execution_count": 48,
   "id": "a7d03df8",
   "metadata": {},
   "outputs": [],
   "source": [
    "import numpy as np"
   ]
  },
  {
   "cell_type": "code",
   "execution_count": 49,
   "id": "3c447da8",
   "metadata": {},
   "outputs": [],
   "source": [
    "from sklearn.preprocessing import MinMaxScaler"
   ]
  },
  {
   "cell_type": "code",
   "execution_count": 50,
   "id": "b0575c0c",
   "metadata": {},
   "outputs": [],
   "source": [
    "#Normalizing values between 0 & 1\n",
    "normalizer = MinMaxScaler(feature_range=(0,1))\n",
    "ds_scald = normalizer.fit_transform(np.array(ds).reshape(-1,1))"
   ]
  },
  {
   "cell_type": "code",
   "execution_count": 52,
   "id": "2220a969",
   "metadata": {},
   "outputs": [
    {
     "data": {
      "text/plain": [
       "(322, 322)"
      ]
     },
     "execution_count": 52,
     "metadata": {},
     "output_type": "execute_result"
    }
   ],
   "source": [
    "len(ds_scald), len(ds)"
   ]
  },
  {
   "cell_type": "code",
   "execution_count": 53,
   "id": "4d662671",
   "metadata": {},
   "outputs": [],
   "source": [
    "#Defining test and train data size\n",
    "train_size = int(len(ds_scald)*0.70)\n",
    "test_size = len(ds_scald) - train_size"
   ]
  },
  {
   "cell_type": "code",
   "execution_count": 54,
   "id": "88da27cd",
   "metadata": {},
   "outputs": [
    {
     "data": {
      "text/plain": [
       "(225, 97)"
      ]
     },
     "execution_count": 54,
     "metadata": {},
     "output_type": "execute_result"
    }
   ],
   "source": [
    " train_size, test_size"
   ]
  },
  {
   "cell_type": "code",
   "execution_count": 55,
   "id": "66e37554",
   "metadata": {},
   "outputs": [],
   "source": [
    "ds_train, ds_test = ds_scald[0:train_size,:], ds_scald[train_size:len(ds_scald),:1]"
   ]
  },
  {
   "cell_type": "code",
   "execution_count": 56,
   "id": "18d5d941",
   "metadata": {},
   "outputs": [
    {
     "data": {
      "text/plain": [
       "(225, 97)"
      ]
     },
     "execution_count": 56,
     "metadata": {},
     "output_type": "execute_result"
    }
   ],
   "source": [
    "len(ds_train), len(ds_test)"
   ]
  },
  {
   "cell_type": "code",
   "execution_count": 57,
   "id": "1498ffaf",
   "metadata": {},
   "outputs": [],
   "source": [
    "def create_ds(dataset, step):\n",
    "    Xtrain, Ytrain = [],  []\n",
    "    for i in range(len(dataset)-step-1):\n",
    "        a = dataset[i:(i+step), 0]\n",
    "        Xtrain.append(a)\n",
    "        Ytrain.append(dataset[i+step, 0])\n",
    "    return np.array(Xtrain), np.array(Ytrain)"
   ]
  },
  {
   "cell_type": "code",
   "execution_count": 61,
   "id": "7844ce43",
   "metadata": {},
   "outputs": [],
   "source": [
    "time_stamp = 60\n",
    "x_train, y_train = create_ds(ds_train,time_stamp)\n",
    "x_test, y_test = create_ds(ds_test,time_stamp)"
   ]
  },
  {
   "cell_type": "code",
   "execution_count": 62,
   "id": "7a6a9c89",
   "metadata": {},
   "outputs": [
    {
     "data": {
      "text/plain": [
       "((164, 60), (164,))"
      ]
     },
     "execution_count": 62,
     "metadata": {},
     "output_type": "execute_result"
    }
   ],
   "source": [
    "x_train.shape, y_train.shape"
   ]
  },
  {
   "cell_type": "code",
   "execution_count": 63,
   "id": "179a981e",
   "metadata": {},
   "outputs": [
    {
     "data": {
      "text/plain": [
       "((36, 60), (36,))"
      ]
     },
     "execution_count": 63,
     "metadata": {},
     "output_type": "execute_result"
    }
   ],
   "source": [
    "x_test.shape, y_test.shape"
   ]
  },
  {
   "cell_type": "code",
   "execution_count": 64,
   "id": "061024d0",
   "metadata": {},
   "outputs": [],
   "source": [
    "#Reshaping\n",
    "x_train = x_train.reshape(x_train.shape[0], x_train.shape[1], 1)\n",
    "x_test = x_test.reshape(x_test.shape[0],x_test.shape[1],1)"
   ]
  },
  {
   "cell_type": "code",
   "execution_count": 65,
   "id": "a3df3cfa",
   "metadata": {},
   "outputs": [],
   "source": [
    "from keras.models import Sequential\n",
    "from keras.layers import Dense, LSTM"
   ]
  },
  {
   "cell_type": "code",
   "execution_count": 67,
   "id": "e329041a",
   "metadata": {},
   "outputs": [
    {
     "name": "stdout",
     "output_type": "stream",
     "text": [
      "Model: \"sequential_1\"\n",
      "_________________________________________________________________\n",
      " Layer (type)                Output Shape              Param #   \n",
      "=================================================================\n",
      " lstm (LSTM)                 (None, 60, 50)            10400     \n",
      "                                                                 \n",
      " lstm_1 (LSTM)               (None, 60, 50)            20200     \n",
      "                                                                 \n",
      " lstm_2 (LSTM)               (None, 50)                20200     \n",
      "                                                                 \n",
      " dense (Dense)               (None, 1)                 51        \n",
      "                                                                 \n",
      "=================================================================\n",
      "Total params: 50,851\n",
      "Trainable params: 50,851\n",
      "Non-trainable params: 0\n",
      "_________________________________________________________________\n"
     ]
    }
   ],
   "source": [
    "model = Sequential()\n",
    "model.add(LSTM(units=50,return_sequences=True,input_shape=(x_train.shape[1],1)))\n",
    "model.add(LSTM(units=50,return_sequences=True))\n",
    "model.add(LSTM(units=50))\n",
    "model.add(Dense(units=1,activation='linear'))\n",
    "model.summary()"
   ]
  },
  {
   "cell_type": "code",
   "execution_count": 69,
   "id": "a07298f5",
   "metadata": {},
   "outputs": [
    {
     "name": "stdout",
     "output_type": "stream",
     "text": [
      "Epoch 1/100\n",
      "3/3 [==============================] - 5s 574ms/step - loss: 0.3724 - val_loss: 0.2219\n",
      "Epoch 2/100\n",
      "3/3 [==============================] - 0s 75ms/step - loss: 0.1334 - val_loss: 0.0212\n",
      "Epoch 3/100\n",
      "3/3 [==============================] - 0s 71ms/step - loss: 0.0606 - val_loss: 0.0107\n",
      "Epoch 4/100\n",
      "3/3 [==============================] - 0s 71ms/step - loss: 0.0528 - val_loss: 0.0219\n",
      "Epoch 5/100\n",
      "3/3 [==============================] - 0s 72ms/step - loss: 0.0326 - val_loss: 0.0525\n",
      "Epoch 6/100\n",
      "3/3 [==============================] - 0s 75ms/step - loss: 0.0437 - val_loss: 0.0481\n",
      "Epoch 7/100\n",
      "3/3 [==============================] - 0s 77ms/step - loss: 0.0353 - val_loss: 0.0244\n",
      "Epoch 8/100\n",
      "3/3 [==============================] - 0s 94ms/step - loss: 0.0264 - val_loss: 0.0091\n",
      "Epoch 9/100\n",
      "3/3 [==============================] - 0s 79ms/step - loss: 0.0296 - val_loss: 0.0074\n",
      "Epoch 10/100\n",
      "3/3 [==============================] - 0s 78ms/step - loss: 0.0285 - val_loss: 0.0126\n",
      "Epoch 11/100\n",
      "3/3 [==============================] - 0s 81ms/step - loss: 0.0232 - val_loss: 0.0237\n",
      "Epoch 12/100\n",
      "3/3 [==============================] - 0s 81ms/step - loss: 0.0237 - val_loss: 0.0288\n",
      "Epoch 13/100\n",
      "3/3 [==============================] - 0s 73ms/step - loss: 0.0238 - val_loss: 0.0235\n",
      "Epoch 14/100\n",
      "3/3 [==============================] - 0s 66ms/step - loss: 0.0210 - val_loss: 0.0169\n",
      "Epoch 15/100\n",
      "3/3 [==============================] - 0s 69ms/step - loss: 0.0199 - val_loss: 0.0142\n",
      "Epoch 16/100\n",
      "3/3 [==============================] - 0s 66ms/step - loss: 0.0195 - val_loss: 0.0165\n",
      "Epoch 17/100\n",
      "3/3 [==============================] - 0s 74ms/step - loss: 0.0185 - val_loss: 0.0215\n",
      "Epoch 18/100\n",
      "3/3 [==============================] - 0s 69ms/step - loss: 0.0176 - val_loss: 0.0228\n",
      "Epoch 19/100\n",
      "3/3 [==============================] - 0s 70ms/step - loss: 0.0169 - val_loss: 0.0206\n",
      "Epoch 20/100\n",
      "3/3 [==============================] - 0s 69ms/step - loss: 0.0161 - val_loss: 0.0190\n",
      "Epoch 21/100\n",
      "3/3 [==============================] - 0s 71ms/step - loss: 0.0156 - val_loss: 0.0209\n",
      "Epoch 22/100\n",
      "3/3 [==============================] - 0s 96ms/step - loss: 0.0150 - val_loss: 0.0247\n",
      "Epoch 23/100\n",
      "3/3 [==============================] - 0s 146ms/step - loss: 0.0144 - val_loss: 0.0231\n",
      "Epoch 24/100\n",
      "3/3 [==============================] - 0s 130ms/step - loss: 0.0139 - val_loss: 0.0215\n",
      "Epoch 25/100\n",
      "3/3 [==============================] - 0s 89ms/step - loss: 0.0137 - val_loss: 0.0234\n",
      "Epoch 26/100\n",
      "3/3 [==============================] - 0s 84ms/step - loss: 0.0134 - val_loss: 0.0275\n",
      "Epoch 27/100\n",
      "3/3 [==============================] - 0s 144ms/step - loss: 0.0130 - val_loss: 0.0223\n",
      "Epoch 28/100\n",
      "3/3 [==============================] - 0s 136ms/step - loss: 0.0124 - val_loss: 0.0230\n",
      "Epoch 29/100\n",
      "3/3 [==============================] - 0s 94ms/step - loss: 0.0119 - val_loss: 0.0256\n",
      "Epoch 30/100\n",
      "3/3 [==============================] - 0s 85ms/step - loss: 0.0117 - val_loss: 0.0229\n",
      "Epoch 31/100\n",
      "3/3 [==============================] - 0s 95ms/step - loss: 0.0112 - val_loss: 0.0226\n",
      "Epoch 32/100\n",
      "3/3 [==============================] - 0s 79ms/step - loss: 0.0110 - val_loss: 0.0214\n",
      "Epoch 33/100\n",
      "3/3 [==============================] - 0s 71ms/step - loss: 0.0106 - val_loss: 0.0219\n",
      "Epoch 34/100\n",
      "3/3 [==============================] - 0s 71ms/step - loss: 0.0103 - val_loss: 0.0220\n",
      "Epoch 35/100\n",
      "3/3 [==============================] - 0s 67ms/step - loss: 0.0103 - val_loss: 0.0203\n",
      "Epoch 36/100\n",
      "3/3 [==============================] - 0s 68ms/step - loss: 0.0103 - val_loss: 0.0213\n",
      "Epoch 37/100\n",
      "3/3 [==============================] - 0s 67ms/step - loss: 0.0096 - val_loss: 0.0192\n",
      "Epoch 38/100\n",
      "3/3 [==============================] - 0s 67ms/step - loss: 0.0094 - val_loss: 0.0216\n",
      "Epoch 39/100\n",
      "3/3 [==============================] - 0s 68ms/step - loss: 0.0096 - val_loss: 0.0198\n",
      "Epoch 40/100\n",
      "3/3 [==============================] - 0s 68ms/step - loss: 0.0091 - val_loss: 0.0197\n",
      "Epoch 41/100\n",
      "3/3 [==============================] - 0s 69ms/step - loss: 0.0090 - val_loss: 0.0207\n",
      "Epoch 42/100\n",
      "3/3 [==============================] - 0s 73ms/step - loss: 0.0090 - val_loss: 0.0202\n",
      "Epoch 43/100\n",
      "3/3 [==============================] - 0s 79ms/step - loss: 0.0088 - val_loss: 0.0209\n",
      "Epoch 44/100\n",
      "3/3 [==============================] - 0s 67ms/step - loss: 0.0090 - val_loss: 0.0205\n",
      "Epoch 45/100\n",
      "3/3 [==============================] - 0s 70ms/step - loss: 0.0088 - val_loss: 0.0208\n",
      "Epoch 46/100\n",
      "3/3 [==============================] - 0s 67ms/step - loss: 0.0087 - val_loss: 0.0209\n",
      "Epoch 47/100\n",
      "3/3 [==============================] - 0s 67ms/step - loss: 0.0085 - val_loss: 0.0202\n",
      "Epoch 48/100\n",
      "3/3 [==============================] - 0s 66ms/step - loss: 0.0086 - val_loss: 0.0209\n",
      "Epoch 49/100\n",
      "3/3 [==============================] - 0s 68ms/step - loss: 0.0084 - val_loss: 0.0202\n",
      "Epoch 50/100\n",
      "3/3 [==============================] - 0s 66ms/step - loss: 0.0084 - val_loss: 0.0206\n",
      "Epoch 51/100\n",
      "3/3 [==============================] - 0s 68ms/step - loss: 0.0084 - val_loss: 0.0201\n",
      "Epoch 52/100\n",
      "3/3 [==============================] - 0s 69ms/step - loss: 0.0083 - val_loss: 0.0201\n",
      "Epoch 53/100\n",
      "3/3 [==============================] - 0s 68ms/step - loss: 0.0084 - val_loss: 0.0202\n",
      "Epoch 54/100\n",
      "3/3 [==============================] - 0s 69ms/step - loss: 0.0082 - val_loss: 0.0200\n",
      "Epoch 55/100\n",
      "3/3 [==============================] - 0s 67ms/step - loss: 0.0081 - val_loss: 0.0213\n",
      "Epoch 56/100\n",
      "3/3 [==============================] - 0s 68ms/step - loss: 0.0084 - val_loss: 0.0193\n",
      "Epoch 57/100\n",
      "3/3 [==============================] - 0s 67ms/step - loss: 0.0085 - val_loss: 0.0199\n",
      "Epoch 58/100\n",
      "3/3 [==============================] - 0s 71ms/step - loss: 0.0079 - val_loss: 0.0193\n",
      "Epoch 59/100\n",
      "3/3 [==============================] - 0s 70ms/step - loss: 0.0079 - val_loss: 0.0192\n",
      "Epoch 60/100\n",
      "3/3 [==============================] - 0s 73ms/step - loss: 0.0078 - val_loss: 0.0199\n",
      "Epoch 61/100\n",
      "3/3 [==============================] - 0s 78ms/step - loss: 0.0078 - val_loss: 0.0188\n",
      "Epoch 62/100\n",
      "3/3 [==============================] - 0s 75ms/step - loss: 0.0078 - val_loss: 0.0189\n",
      "Epoch 63/100\n",
      "3/3 [==============================] - 0s 71ms/step - loss: 0.0079 - val_loss: 0.0187\n",
      "Epoch 64/100\n",
      "3/3 [==============================] - 0s 71ms/step - loss: 0.0080 - val_loss: 0.0189\n",
      "Epoch 65/100\n",
      "3/3 [==============================] - 0s 70ms/step - loss: 0.0076 - val_loss: 0.0192\n",
      "Epoch 66/100\n",
      "3/3 [==============================] - 0s 68ms/step - loss: 0.0076 - val_loss: 0.0187\n",
      "Epoch 67/100\n",
      "3/3 [==============================] - 0s 70ms/step - loss: 0.0075 - val_loss: 0.0197\n",
      "Epoch 68/100\n",
      "3/3 [==============================] - 0s 68ms/step - loss: 0.0074 - val_loss: 0.0184\n",
      "Epoch 69/100\n",
      "3/3 [==============================] - 0s 70ms/step - loss: 0.0074 - val_loss: 0.0203\n",
      "Epoch 70/100\n",
      "3/3 [==============================] - 0s 69ms/step - loss: 0.0077 - val_loss: 0.0184\n",
      "Epoch 71/100\n",
      "3/3 [==============================] - 0s 70ms/step - loss: 0.0077 - val_loss: 0.0188\n",
      "Epoch 72/100\n",
      "3/3 [==============================] - 0s 74ms/step - loss: 0.0075 - val_loss: 0.0185\n",
      "Epoch 73/100\n",
      "3/3 [==============================] - 0s 69ms/step - loss: 0.0071 - val_loss: 0.0179\n",
      "Epoch 74/100\n",
      "3/3 [==============================] - 0s 72ms/step - loss: 0.0072 - val_loss: 0.0195\n",
      "Epoch 75/100\n",
      "3/3 [==============================] - 0s 70ms/step - loss: 0.0075 - val_loss: 0.0179\n",
      "Epoch 76/100\n",
      "3/3 [==============================] - 0s 69ms/step - loss: 0.0070 - val_loss: 0.0185\n",
      "Epoch 77/100\n",
      "3/3 [==============================] - 0s 70ms/step - loss: 0.0071 - val_loss: 0.0178\n",
      "Epoch 78/100\n",
      "3/3 [==============================] - 0s 69ms/step - loss: 0.0073 - val_loss: 0.0183\n",
      "Epoch 79/100\n",
      "3/3 [==============================] - 0s 71ms/step - loss: 0.0074 - val_loss: 0.0176\n",
      "Epoch 80/100\n",
      "3/3 [==============================] - 0s 77ms/step - loss: 0.0072 - val_loss: 0.0180\n",
      "Epoch 81/100\n",
      "3/3 [==============================] - 0s 70ms/step - loss: 0.0070 - val_loss: 0.0181\n",
      "Epoch 82/100\n",
      "3/3 [==============================] - 0s 74ms/step - loss: 0.0067 - val_loss: 0.0172\n",
      "Epoch 83/100\n",
      "3/3 [==============================] - 0s 73ms/step - loss: 0.0072 - val_loss: 0.0198\n"
     ]
    },
    {
     "name": "stdout",
     "output_type": "stream",
     "text": [
      "Epoch 84/100\n",
      "3/3 [==============================] - 0s 71ms/step - loss: 0.0075 - val_loss: 0.0168\n",
      "Epoch 85/100\n",
      "3/3 [==============================] - 0s 71ms/step - loss: 0.0069 - val_loss: 0.0179\n",
      "Epoch 86/100\n",
      "3/3 [==============================] - 0s 68ms/step - loss: 0.0069 - val_loss: 0.0170\n",
      "Epoch 87/100\n",
      "3/3 [==============================] - 0s 70ms/step - loss: 0.0068 - val_loss: 0.0172\n",
      "Epoch 88/100\n",
      "3/3 [==============================] - 0s 70ms/step - loss: 0.0070 - val_loss: 0.0168\n",
      "Epoch 89/100\n",
      "3/3 [==============================] - 0s 71ms/step - loss: 0.0067 - val_loss: 0.0166\n",
      "Epoch 90/100\n",
      "3/3 [==============================] - 0s 70ms/step - loss: 0.0068 - val_loss: 0.0170\n",
      "Epoch 91/100\n",
      "3/3 [==============================] - 0s 84ms/step - loss: 0.0068 - val_loss: 0.0164\n",
      "Epoch 92/100\n",
      "3/3 [==============================] - 0s 84ms/step - loss: 0.0064 - val_loss: 0.0170\n",
      "Epoch 93/100\n",
      "3/3 [==============================] - 0s 86ms/step - loss: 0.0064 - val_loss: 0.0160\n",
      "Epoch 94/100\n",
      "3/3 [==============================] - 0s 78ms/step - loss: 0.0063 - val_loss: 0.0174\n",
      "Epoch 95/100\n",
      "3/3 [==============================] - 0s 70ms/step - loss: 0.0067 - val_loss: 0.0158\n",
      "Epoch 96/100\n",
      "3/3 [==============================] - 0s 68ms/step - loss: 0.0069 - val_loss: 0.0171\n",
      "Epoch 97/100\n",
      "3/3 [==============================] - 0s 71ms/step - loss: 0.0069 - val_loss: 0.0159\n",
      "Epoch 98/100\n",
      "3/3 [==============================] - 0s 73ms/step - loss: 0.0067 - val_loss: 0.0157\n",
      "Epoch 99/100\n",
      "3/3 [==============================] - 0s 71ms/step - loss: 0.0066 - val_loss: 0.0166\n",
      "Epoch 100/100\n",
      "3/3 [==============================] - 0s 71ms/step - loss: 0.0068 - val_loss: 0.0152\n"
     ]
    },
    {
     "data": {
      "text/plain": [
       "<keras.callbacks.History at 0x1c9488d0c10>"
      ]
     },
     "execution_count": 69,
     "metadata": {},
     "output_type": "execute_result"
    }
   ],
   "source": [
    "#Training model with adam\n",
    "model.compile(loss='mean_squared_error',optimizer='adam')\n",
    "model.fit(x_train,y_train,validation_data=(x_test,y_test),epochs=100,batch_size=64)"
   ]
  },
  {
   "cell_type": "code",
   "execution_count": 70,
   "id": "b03c8ba5",
   "metadata": {},
   "outputs": [
    {
     "data": {
      "text/plain": [
       "[<matplotlib.lines.Line2D at 0x1c94778da00>]"
      ]
     },
     "execution_count": 70,
     "metadata": {},
     "output_type": "execute_result"
    },
    {
     "data": {
      "image/png": "[encoded data removed]",
      "text/plain": [
       "<Figure size 432x288 with 1 Axes>"
      ]
     },
     "metadata": {
      "needs_background": "light"
     },
     "output_type": "display_data"
    }
   ],
   "source": [
    "loss = model.history.history['loss']\n",
    "plt.plot(loss)"
   ]
  },
  {
   "cell_type": "code",
   "execution_count": 71,
   "id": "51e5c45b",
   "metadata": {},
   "outputs": [
    {
     "name": "stdout",
     "output_type": "stream",
     "text": [
      "6/6 [==============================] - 1s 13ms/step\n",
      "2/2 [==============================] - 0s 8ms/step\n"
     ]
    }
   ],
   "source": [
    "train_predict = model.predict(x_train)\n",
    "test_predict = model.predict(x_test)"
   ]
  },
  {
   "cell_type": "code",
   "execution_count": 72,
   "id": "1bd47f95",
   "metadata": {},
   "outputs": [],
   "source": [
    "train_predict = normalizer.inverse_transform(train_predict)\n",
    "test_predict = normalizer.inverse_transform(test_predict)"
   ]
  },
  {
   "cell_type": "code",
   "execution_count": 73,
   "id": "5f313d58",
   "metadata": {},
   "outputs": [
    {
     "data": {
      "text/plain": [
       "[<matplotlib.lines.Line2D at 0x1c953e866a0>]"
      ]
     },
     "execution_count": 73,
     "metadata": {},
     "output_type": "execute_result"
    },
    {
     "data": {
      "image/png": "[encoded data removed]",
      "text/plain": [
       "<Figure size 432x288 with 1 Axes>"
      ]
     },
     "metadata": {
      "needs_background": "light"
     },
     "output_type": "display_data"
    }
   ],
   "source": [
    "plt.plot(normalizer.inverse_transform(ds_scald))\n",
    "plt.plot(train_predict)\n",
    "plt.plot(test_predict)"
   ]
  },
  {
   "cell_type": "code",
   "execution_count": 74,
   "id": "88b0e59f",
   "metadata": {},
   "outputs": [
    {
     "data": {
      "text/plain": [
       "numpy.ndarray"
      ]
     },
     "execution_count": 74,
     "metadata": {},
     "output_type": "execute_result"
    }
   ],
   "source": [
    "type(train_predict)"
   ]
  },
  {
   "cell_type": "code",
   "execution_count": 75,
   "id": "8ac5c9e8",
   "metadata": {},
   "outputs": [],
   "source": [
    "test = np.vstack((train_predict, test_predict))"
   ]
  },
  {
   "cell_type": "code",
   "execution_count": 76,
   "id": "53b97df4",
   "metadata": {},
   "outputs": [
    {
     "data": {
      "text/plain": [
       "[<matplotlib.lines.Line2D at 0x1c953eda370>]"
      ]
     },
     "execution_count": 76,
     "metadata": {},
     "output_type": "execute_result"
    },
    {
     "data": {
      "image/png": "[encoded data removed]",
      "text/plain": [
       "<Figure size 432x288 with 1 Axes>"
      ]
     },
     "metadata": {
      "needs_background": "light"
     },
     "output_type": "display_data"
    }
   ],
   "source": [
    "plt.plot(normalizer.inverse_transform(ds_scald))\n",
    "plt.plot(test)"
   ]
  },
  {
   "cell_type": "code",
   "execution_count": 91,
   "id": "fbb541a3",
   "metadata": {},
   "outputs": [
    {
     "data": {
      "text/plain": [
       "97"
      ]
     },
     "execution_count": 91,
     "metadata": {},
     "output_type": "execute_result"
    }
   ],
   "source": [
    "len(ds_test)"
   ]
  },
  {
   "cell_type": "code",
   "execution_count": 92,
   "id": "b2e2630c",
   "metadata": {},
   "outputs": [],
   "source": [
    "#Getting the last 50 days records\n",
    "fut_inp = ds_test[47:]"
   ]
  },
  {
   "cell_type": "code",
   "execution_count": 93,
   "id": "1c120fe5",
   "metadata": {},
   "outputs": [],
   "source": [
    "fut_inp = fut_inp.reshape(1,-1)"
   ]
  },
  {
   "cell_type": "code",
   "execution_count": 94,
   "id": "711748c6",
   "metadata": {},
   "outputs": [],
   "source": [
    "tmp_inp = list(fut_inp)"
   ]
  },
  {
   "cell_type": "code",
   "execution_count": 95,
   "id": "2dddd161",
   "metadata": {},
   "outputs": [
    {
     "data": {
      "text/plain": [
       "(1, 50)"
      ]
     },
     "execution_count": 95,
     "metadata": {},
     "output_type": "execute_result"
    }
   ],
   "source": [
    "fut_inp.shape"
   ]
  },
  {
   "cell_type": "code",
   "execution_count": 96,
   "id": "5f8ee0ff",
   "metadata": {},
   "outputs": [],
   "source": [
    "#Creating list of last 50 days\n",
    "tmp_inp = tmp_inp[0].tolist()"
   ]
  },
  {
   "cell_type": "code",
   "execution_count": 99,
   "id": "52e84cf3",
   "metadata": {},
   "outputs": [
    {
     "name": "stdout",
     "output_type": "stream",
     "text": [
      "[[0.7695542573928833], [0.7477322220802307], [0.7324526906013489], [0.72225421667099], [0.7154755592346191], [0.7107626795768738], [0.7071899175643921], [0.7042006254196167], [0.7015023231506348], [0.6989609599113464], [0.696531355381012], [0.6942083239555359], [0.6919993758201599], [0.6899132132530212], [0.6879563331604004], [0.6861265301704407], [0.6844198107719421], [0.6828296184539795], [0.6813480854034424], [0.6799668073654175], [0.6786779165267944], [0.6774734258651733], [0.6763463020324707], [0.6752898097038269], [0.6742975115776062], [0.6733644008636475], [0.6724850535392761], [0.6716546416282654], [0.6708688139915466], [0.6701234579086304]]\n"
     ]
    }
   ],
   "source": [
    "#Predict next 30 days price using the current data\n",
    "#It will predict in sliding window manner(algorithm) with stride1\n",
    "lst_output = []\n",
    "n_steps = 50\n",
    "i = 0\n",
    "while(i<30):\n",
    "    \n",
    "    if(len(tmp_inp)>50):\n",
    "        fut_inp = np.array(tmp_inp[1:])\n",
    "        fut_inp = fut_inp.reshape(1,-1)\n",
    "        fut_inp = fut_inp.reshape((1,n_steps,1))\n",
    "        yhat = model.predict(fut_inp, verbose=0)\n",
    "        tmp_inp.extend(yhat[0].tolist())\n",
    "        tmp_inp = tmp_inp[1:]\n",
    "        lst_output.extend(yhat.tolist())\n",
    "        i=i+1\n",
    "    else:\n",
    "        fut_inp = fut_inp.reshape((1,n_steps,1))\n",
    "        yhat = model.predict(fut_inp, verbose=0)\n",
    "        tmp_inp.extend(yhat[0].tolist())\n",
    "        lst_output.extend(yhat.tolist())\n",
    "        i=i+1\n",
    "        \n",
    "print(lst_output)"
   ]
  },
  {
   "cell_type": "code",
   "execution_count": 100,
   "id": "23d8a515",
   "metadata": {},
   "outputs": [
    {
     "data": {
      "text/plain": [
       "322"
      ]
     },
     "execution_count": 100,
     "metadata": {},
     "output_type": "execute_result"
    }
   ],
   "source": [
    "len(ds_scald)"
   ]
  },
  {
   "cell_type": "code",
   "execution_count": 101,
   "id": "98beff04",
   "metadata": {},
   "outputs": [],
   "source": [
    "# Creating a dummy plane to plot graph one after another\n",
    "plot_new = np.arange(1,51)\n",
    "plot_pred = np.arange(51,81)"
   ]
  },
  {
   "cell_type": "code",
   "execution_count": 104,
   "id": "6110340d",
   "metadata": {},
   "outputs": [
    {
     "data": {
      "text/plain": [
       "[<matplotlib.lines.Line2D at 0x1c9582f0a60>]"
      ]
     },
     "execution_count": 104,
     "metadata": {},
     "output_type": "execute_result"
    },
    {
     "data": {
      "image/png": "[encoded data removed]",
      "text/plain": [
       "<Figure size 432x288 with 1 Axes>"
      ]
     },
     "metadata": {
      "needs_background": "light"
     },
     "output_type": "display_data"
    }
   ],
   "source": [
    "plt.plot(plot_new, normalizer.inverse_transform(ds_scald[272:]))\n",
    "plt.plot(plot_pred, normalizer.inverse_transform(lst_output))"
   ]
  },
  {
   "cell_type": "code",
   "execution_count": 105,
   "id": "353ae3c7",
   "metadata": {},
   "outputs": [],
   "source": [
    "ds_new = ds_scald.tolist()"
   ]
  },
  {
   "cell_type": "code",
   "execution_count": 106,
   "id": "bc29adb3",
   "metadata": {},
   "outputs": [
    {
     "data": {
      "text/plain": [
       "322"
      ]
     },
     "execution_count": 106,
     "metadata": {},
     "output_type": "execute_result"
    }
   ],
   "source": [
    "len(ds_new)"
   ]
  },
  {
   "cell_type": "code",
   "execution_count": 107,
   "id": "3798d9ce",
   "metadata": {},
   "outputs": [
    {
     "data": {
      "text/plain": [
       "[<matplotlib.lines.Line2D at 0x1c958352c40>]"
      ]
     },
     "execution_count": 107,
     "metadata": {},
     "output_type": "execute_result"
    },
    {
     "data": {
      "image/png": "[encoded data removed]",
      "text/plain": [
       "<Figure size 432x288 with 1 Axes>"
      ]
     },
     "metadata": {
      "needs_background": "light"
     },
     "output_type": "display_data"
    }
   ],
   "source": [
    "ds_new.extend(lst_output)\n",
    "plt.plot(ds_new[292:])"
   ]
  },
  {
   "cell_type": "code",
   "execution_count": 108,
   "id": "1b3c5235",
   "metadata": {},
   "outputs": [],
   "source": [
    "final_graph = normalizer.inverse_transform(ds_new).tolist()"
   ]
  },
  {
   "cell_type": "code",
   "execution_count": 110,
   "id": "8a58512d",
   "metadata": {},
   "outputs": [
    {
     "data": {
      "text/plain": [
       "<matplotlib.legend.Legend at 0x1c9583d0c40>"
      ]
     },
     "execution_count": 110,
     "metadata": {},
     "output_type": "execute_result"
    },
    {
     "data": {
      "image/png": "[encoded data removed]",
      "text/plain": [
       "<Figure size 432x288 with 1 Axes>"
      ]
     },
     "metadata": {
      "needs_background": "light"
     },
     "output_type": "display_data"
    }
   ],
   "source": [
    "plt.plot(final_graph,)\n",
    "plt.ylabel(\"Price\")\n",
    "plt.xlabel(\"Time\")\n",
    "plt.title(\"NIFTY50 prediction of next month open\")\n",
    "plt.axhline(y=final_graph[len(final_graph)-1], color = 'red', linestyle = ':', label = 'NEXT 30D: {0}'.format(round(float(*final_graph[len(final_graph)-1]),2)))\n",
    "plt.legend()"
   ]
  },
  {
   "cell_type": "code",
   "execution_count": null,
   "id": "6ca8e541",
   "metadata": {},
   "outputs": [],
   "source": [
    " 30D: {0}'.format(round(float(*final_graph[len(final_graph)-1]),2)))\n",
    "plt.legend()\n"
   ]
  }
 ],
 "metadata": {
  "kernelspec": {
   "display_name": "Python 3 (ipykernel)",
   "language": "python",
   "name": "python3"
  },
  "language_info": {
   "codemirror_mode": {
    "name": "ipython",
    "version": 3
   },
   "file_extension": ".py",
   "mimetype": "text/x-python",
   "name": "python",
   "nbconvert_exporter": "python",
   "pygments_lexer": "ipython3",
   "version": "3.9.13"
  }
 },
 "nbformat": 4,
 "nbformat_minor": 5
}
