{
 "cells": [
  {
   "cell_type": "code",
   "execution_count": 23,
   "id": "bded33b8",
   "metadata": {
    "executionInfo": {
     "elapsed": 3808,
     "status": "ok",
     "timestamp": 1670783958789,
     "user": {
      "displayName": "Tanmay Jadav",
      "userId": "06483448042551357940"
     },
     "user_tz": -330
    },
    "id": "8c395ea4"
   },
   "outputs": [],
   "source": [
    "import numpy as np \n",
    "import pandas as pd \n",
    "import matplotlib.pyplot as plt \n",
    "from sklearn.preprocessing import MinMaxScaler\n",
    "from keras.models import Sequential\n",
    "from keras.layers import Dense,LSTM,Dropout\n",
    "import yfinance as yf"
   ]
  },
  {
   "cell_type": "code",
   "execution_count": 35,
   "id": "55b42aa4",
   "metadata": {
    "colab": {
     "base_uri": "https://localhost:8080/",
     "height": 206
    },
    "executionInfo": {
     "elapsed": 894,
     "status": "ok",
     "timestamp": 1670784118563,
     "user": {
      "displayName": "Tanmay Jadav",
      "userId": "06483448042551357940"
     },
     "user_tz": -330
    },
    "id": "55b42aa4",
    "outputId": "b6825959-c95b-44e4-cee5-f20b4b1a3f43"
   },
   "outputs": [
    {
     "data": {
      "text/html": [
       "<div>\n",
       "<style scoped>\n",
       "    .dataframe tbody tr th:only-of-type {\n",
       "        vertical-align: middle;\n",
       "    }\n",
       "\n",
       "    .dataframe tbody tr th {\n",
       "        vertical-align: top;\n",
       "    }\n",
       "\n",
       "    .dataframe thead th {\n",
       "        text-align: right;\n",
       "    }\n",
       "</style>\n",
       "<table border=\"1\" class=\"dataframe\">\n",
       "  <thead>\n",
       "    <tr style=\"text-align: right;\">\n",
       "      <th></th>\n",
       "      <th>Date</th>\n",
       "      <th>Open</th>\n",
       "      <th>High</th>\n",
       "      <th>Low</th>\n",
       "      <th>Close</th>\n",
       "      <th>Volume</th>\n",
       "    </tr>\n",
       "  </thead>\n",
       "  <tbody>\n",
       "    <tr>\n",
       "      <th>0</th>\n",
       "      <td>1/3/2012</td>\n",
       "      <td>325.25</td>\n",
       "      <td>332.83</td>\n",
       "      <td>324.97</td>\n",
       "      <td>663.59</td>\n",
       "      <td>7,380,500</td>\n",
       "    </tr>\n",
       "    <tr>\n",
       "      <th>1</th>\n",
       "      <td>1/4/2012</td>\n",
       "      <td>331.27</td>\n",
       "      <td>333.87</td>\n",
       "      <td>329.08</td>\n",
       "      <td>666.45</td>\n",
       "      <td>5,749,400</td>\n",
       "    </tr>\n",
       "    <tr>\n",
       "      <th>2</th>\n",
       "      <td>1/5/2012</td>\n",
       "      <td>329.83</td>\n",
       "      <td>330.75</td>\n",
       "      <td>326.89</td>\n",
       "      <td>657.21</td>\n",
       "      <td>6,590,300</td>\n",
       "    </tr>\n",
       "    <tr>\n",
       "      <th>3</th>\n",
       "      <td>1/6/2012</td>\n",
       "      <td>328.34</td>\n",
       "      <td>328.77</td>\n",
       "      <td>323.68</td>\n",
       "      <td>648.24</td>\n",
       "      <td>5,405,900</td>\n",
       "    </tr>\n",
       "    <tr>\n",
       "      <th>4</th>\n",
       "      <td>1/9/2012</td>\n",
       "      <td>322.04</td>\n",
       "      <td>322.29</td>\n",
       "      <td>309.46</td>\n",
       "      <td>620.76</td>\n",
       "      <td>11,688,800</td>\n",
       "    </tr>\n",
       "  </tbody>\n",
       "</table>\n",
       "</div>"
      ],
      "text/plain": [
       "       Date    Open    High     Low   Close      Volume\n",
       "0  1/3/2012  325.25  332.83  324.97  663.59   7,380,500\n",
       "1  1/4/2012  331.27  333.87  329.08  666.45   5,749,400\n",
       "2  1/5/2012  329.83  330.75  326.89  657.21   6,590,300\n",
       "3  1/6/2012  328.34  328.77  323.68  648.24   5,405,900\n",
       "4  1/9/2012  322.04  322.29  309.46  620.76  11,688,800"
      ]
     },
     "execution_count": 35,
     "metadata": {},
     "output_type": "execute_result"
    }
   ],
   "source": [
    "data = pd.read_csv('Google_train_data.csv')\n",
    "data.head()"
   ]
  },
  {
   "cell_type": "code",
   "execution_count": 36,
   "id": "c4a15945",
   "metadata": {
    "executionInfo": {
     "elapsed": 712,
     "status": "ok",
     "timestamp": 1670784122877,
     "user": {
      "displayName": "Tanmay Jadav",
      "userId": "06483448042551357940"
     },
     "user_tz": -330
    },
    "id": "c4a15945"
   },
   "outputs": [],
   "source": [
    "data[\"Close\"]=pd.to_numeric(data.Close,errors='coerce')\n",
    "data = data.dropna()\n",
    "trainData = data.iloc[:,4:5].values"
   ]
  },
  {
   "cell_type": "code",
   "execution_count": 37,
   "id": "fe6f1b79",
   "metadata": {
    "colab": {
     "base_uri": "https://localhost:8080/"
    },
    "executionInfo": {
     "elapsed": 15,
     "status": "ok",
     "timestamp": 1670784125139,
     "user": {
      "displayName": "Tanmay Jadav",
      "userId": "06483448042551357940"
     },
     "user_tz": -330
    },
    "id": "fe6f1b79",
    "outputId": "11fdcbf9-ab13-4821-c8bd-7cb602f36001"
   },
   "outputs": [
    {
     "data": {
      "text/plain": [
       "(1149, 1)"
      ]
     },
     "execution_count": 37,
     "metadata": {},
     "output_type": "execute_result"
    }
   ],
   "source": [
    "sc = MinMaxScaler(feature_range=(0,1))\n",
    "trainData = sc.fit_transform(trainData)\n",
    "trainData.shape"
   ]
  },
  {
   "cell_type": "code",
   "execution_count": 31,
   "id": "1e1a7f88",
   "metadata": {
    "executionInfo": {
     "elapsed": 3,
     "status": "ok",
     "timestamp": 1670784127565,
     "user": {
      "displayName": "Tanmay Jadav",
      "userId": "06483448042551357940"
     },
     "user_tz": -330
    },
    "id": "1e1a7f88"
   },
   "outputs": [],
   "source": [
    "X_train = []\n",
    "y_train = []\n",
    "\n",
    "for i in range (60,1149): #60 : timestep // 1149 : length of the data\n",
    "    X_train.append(trainData[i-60:i,0]) \n",
    "    y_train.append(trainData[i,0])\n",
    "\n",
    "X_train,y_train = np.array(X_train),np.array(y_train)"
   ]
  },
  {
   "cell_type": "code",
   "execution_count": 32,
   "id": "3d0b13f1",
   "metadata": {
    "colab": {
     "base_uri": "https://localhost:8080/"
    },
    "executionInfo": {
     "elapsed": 7,
     "status": "ok",
     "timestamp": 1670784150028,
     "user": {
      "displayName": "Tanmay Jadav",
      "userId": "06483448042551357940"
     },
     "user_tz": -330
    },
    "id": "3d0b13f1",
    "outputId": "e4631257-8871-4987-f317-c5908b48542a"
   },
   "outputs": [
    {
     "data": {
      "text/plain": [
       "array([[[0.19899491],\n",
       "        [0.20854277],\n",
       "        [0.21758802],\n",
       "        ...,\n",
       "        [0.46111559],\n",
       "        [0.46633156],\n",
       "        [0.49698486]],\n",
       "\n",
       "       [[0.20854277],\n",
       "        [0.21758802],\n",
       "        [0.20703491],\n",
       "        ...,\n",
       "        [0.46633156],\n",
       "        [0.49698486],\n",
       "        [0.47839175]],\n",
       "\n",
       "       [[0.21758802],\n",
       "        [0.20703491],\n",
       "        [0.43115584],\n",
       "        ...,\n",
       "        [0.49698486],\n",
       "        [0.47839175],\n",
       "        [0.45804006]],\n",
       "\n",
       "       ...,\n",
       "\n",
       "       [[0.75879383],\n",
       "        [0.77839179],\n",
       "        [0.84059282],\n",
       "        ...,\n",
       "        [0.77839179],\n",
       "        [0.73216073],\n",
       "        [0.76306515]],\n",
       "\n",
       "       [[0.77839179],\n",
       "        [0.84059282],\n",
       "        [0.87788944],\n",
       "        ...,\n",
       "        [0.73216073],\n",
       "        [0.76306515],\n",
       "        [0.78894451]],\n",
       "\n",
       "       [[0.84059282],\n",
       "        [0.87788944],\n",
       "        [0.90663807],\n",
       "        ...,\n",
       "        [0.76306515],\n",
       "        [0.78894451],\n",
       "        [0.78718592]]])"
      ]
     },
     "execution_count": 32,
     "metadata": {},
     "output_type": "execute_result"
    }
   ],
   "source": [
    "X_train = np.reshape(X_train,(X_train.shape[0],X_train.shape[1],1)) #adding the batch_size axis\n",
    "X_train"
   ]
  },
  {
   "cell_type": "code",
   "execution_count": 33,
   "id": "3f34eefb",
   "metadata": {
    "id": "3f34eefb"
   },
   "outputs": [],
   "source": [
    "model = Sequential()\n",
    "\n",
    "model.add(LSTM(units=100, return_sequences = True, input_shape =(X_train.shape[1],1)))\n",
    "model.add(Dropout(0.2))\n",
    "\n",
    "model.add(LSTM(units=100, return_sequences = True))\n",
    "model.add(Dropout(0.2))\n",
    "\n",
    "model.add(LSTM(units=100, return_sequences = True))\n",
    "model.add(Dropout(0.2))\n",
    "\n",
    "model.add(LSTM(units=100, return_sequences = False))\n",
    "model.add(Dropout(0.2))\n",
    "\n",
    "model.add(Dense(units =1))\n",
    "model.compile(optimizer='adam',loss=\"mean_squared_error\")"
   ]
  },
  {
   "cell_type": "markdown",
   "id": "wW2NzjOvfB8Z",
   "metadata": {
    "id": "wW2NzjOvfB8Z"
   },
   "source": [
    "# New Section"
   ]
  },
  {
   "cell_type": "code",
   "execution_count": 34,
   "id": "e139c402",
   "metadata": {
    "id": "e139c402",
    "outputId": "014805ff-1626-4ce2-dc55-d4b77ca12766",
    "scrolled": true
   },
   "outputs": [
    {
     "name": "stdout",
     "output_type": "stream",
     "text": [
      "Epoch 1/20\n",
      "12/12 - 7s - loss: 0.1256 - 7s/epoch - 591ms/step\n",
      "Epoch 2/20\n",
      "12/12 - 1s - loss: 0.0463 - 1s/epoch - 101ms/step\n",
      "Epoch 3/20\n",
      "12/12 - 1s - loss: 0.0330 - 1s/epoch - 103ms/step\n",
      "Epoch 4/20\n",
      "12/12 - 1s - loss: 0.0258 - 1s/epoch - 101ms/step\n",
      "Epoch 5/20\n",
      "12/12 - 1s - loss: 0.0224 - 1s/epoch - 101ms/step\n",
      "Epoch 6/20\n",
      "12/12 - 1s - loss: 0.0208 - 1s/epoch - 112ms/step\n",
      "Epoch 7/20\n",
      "12/12 - 1s - loss: 0.0178 - 1s/epoch - 107ms/step\n",
      "Epoch 8/20\n",
      "12/12 - 1s - loss: 0.0159 - 1s/epoch - 107ms/step\n",
      "Epoch 9/20\n",
      "12/12 - 1s - loss: 0.0172 - 1s/epoch - 107ms/step\n",
      "Epoch 10/20\n",
      "12/12 - 1s - loss: 0.0168 - 1s/epoch - 105ms/step\n",
      "Epoch 11/20\n",
      "12/12 - 1s - loss: 0.0141 - 1s/epoch - 115ms/step\n",
      "Epoch 12/20\n",
      "12/12 - 1s - loss: 0.0165 - 1s/epoch - 104ms/step\n",
      "Epoch 13/20\n",
      "12/12 - 1s - loss: 0.0151 - 1s/epoch - 104ms/step\n",
      "Epoch 14/20\n",
      "12/12 - 1s - loss: 0.0154 - 1s/epoch - 110ms/step\n",
      "Epoch 15/20\n",
      "12/12 - 1s - loss: 0.0153 - 1s/epoch - 103ms/step\n",
      "Epoch 16/20\n",
      "12/12 - 1s - loss: 0.0132 - 1s/epoch - 102ms/step\n",
      "Epoch 17/20\n",
      "12/12 - 1s - loss: 0.0135 - 1s/epoch - 102ms/step\n",
      "Epoch 18/20\n",
      "12/12 - 1s - loss: 0.0128 - 1s/epoch - 111ms/step\n",
      "Epoch 19/20\n",
      "12/12 - 1s - loss: 0.0121 - 1s/epoch - 109ms/step\n",
      "Epoch 20/20\n",
      "12/12 - 1s - loss: 0.0122 - 1s/epoch - 113ms/step\n"
     ]
    }
   ],
   "source": [
    "hist = model.fit(X_train, y_train, epochs = 20, batch_size = 32, verbose=2)"
   ]
  },
  {
   "cell_type": "code",
   "execution_count": 10,
   "id": "f21244ba",
   "metadata": {
    "id": "f21244ba",
    "outputId": "87756895-15f7-4165-c9d6-638fa1c43e24"
   },
   "outputs": [
    {
     "data": {
      "image/png": "[encoded data removed]",
      "text/plain": [
       "<Figure size 432x288 with 1 Axes>"
      ]
     },
     "metadata": {
      "needs_background": "light"
     },
     "output_type": "display_data"
    }
   ],
   "source": [
    "plt.plot(hist.history['loss'])\n",
    "plt.title('Training model loss')\n",
    "plt.ylabel('loss')\n",
    "plt.xlabel('epoch')\n",
    "plt.legend(['train'], loc='upper left')\n",
    "plt.show()"
   ]
  },
  {
   "cell_type": "code",
   "execution_count": 11,
   "id": "c206450e",
   "metadata": {
    "id": "c206450e",
    "outputId": "d5ae7357-6ccc-4c4e-b16f-4a1b730fb23c"
   },
   "outputs": [
    {
     "data": {
      "text/plain": [
       "(192, 60, 1)"
      ]
     },
     "execution_count": 11,
     "metadata": {},
     "output_type": "execute_result"
    }
   ],
   "source": [
    "testData = pd.read_csv('Google_test_data.csv')\n",
    "testData[\"Close\"]=pd.to_numeric(testData.Close,errors='coerce')\n",
    "testData = testData.dropna()\n",
    "testData = testData.iloc[:,4:5]\n",
    "y_test = testData.iloc[60:,0:].values \n",
    "#input array for the model\n",
    "inputClosing = testData.iloc[:,0:].values \n",
    "inputClosing_scaled = sc.transform(inputClosing)\n",
    "inputClosing_scaled.shape\n",
    "X_test = []\n",
    "length = len(testData)\n",
    "timestep = 60\n",
    "for i in range(timestep,length):  \n",
    "    X_test.append(inputClosing_scaled[i-timestep:i,0])\n",
    "X_test = np.array(X_test)\n",
    "X_test = np.reshape(X_test,(X_test.shape[0],X_test.shape[1],1))\n",
    "X_test.shape"
   ]
  },
  {
   "cell_type": "code",
   "execution_count": 12,
   "id": "16f7e8d0",
   "metadata": {
    "id": "16f7e8d0",
    "outputId": "ee71d80e-64fd-4696-dd1d-a6c554681ba2"
   },
   "outputs": [
    {
     "name": "stdout",
     "output_type": "stream",
     "text": [
      "6/6 [==============================] - 1s 32ms/step\n"
     ]
    },
    {
     "data": {
      "text/plain": [
       "array([[1.181185 ],\n",
       "       [1.1836432],\n",
       "       [1.1947523],\n",
       "       [1.21198  ],\n",
       "       [1.2267426],\n",
       "       [1.2288408],\n",
       "       [1.2180707],\n",
       "       [1.201611 ],\n",
       "       [1.1902875],\n",
       "       [1.1866829],\n",
       "       [1.1799829],\n",
       "       [1.1689345],\n",
       "       [1.1585705],\n",
       "       [1.1487978],\n",
       "       [1.1457611],\n",
       "       [1.1492255],\n",
       "       [1.1659755],\n",
       "       [1.1935273],\n",
       "       [1.2260275],\n",
       "       [1.2591685],\n",
       "       [1.274884 ],\n",
       "       [1.2747296],\n",
       "       [1.2573587],\n",
       "       [1.230117 ],\n",
       "       [1.2040598],\n",
       "       [1.1877446],\n",
       "       [1.1820953],\n",
       "       [1.1799216],\n",
       "       [1.1719221],\n",
       "       [1.1603376],\n",
       "       [1.1475374],\n",
       "       [1.133211 ],\n",
       "       [1.1126708],\n",
       "       [1.0874668],\n",
       "       [1.0757561],\n",
       "       [1.0830163],\n",
       "       [1.103209 ],\n",
       "       [1.1275958],\n",
       "       [1.151684 ],\n",
       "       [1.1654013],\n",
       "       [1.1790643],\n",
       "       [1.1952246],\n",
       "       [1.2138318],\n",
       "       [1.2315027],\n",
       "       [1.2442158],\n",
       "       [1.2476035],\n",
       "       [1.2397319],\n",
       "       [1.231588 ],\n",
       "       [1.2288556],\n",
       "       [1.2337482],\n",
       "       [1.2457105],\n",
       "       [1.2543969],\n",
       "       [1.2572309],\n",
       "       [1.2547126],\n",
       "       [1.2530094],\n",
       "       [1.2493382],\n",
       "       [1.2412213],\n",
       "       [1.2365292],\n",
       "       [1.2439146],\n",
       "       [1.2604687],\n",
       "       [1.2853066],\n",
       "       [1.3159472],\n",
       "       [1.3388578],\n",
       "       [1.3452188],\n",
       "       [1.3360797],\n",
       "       [1.3179659],\n",
       "       [1.3040228],\n",
       "       [1.298278 ],\n",
       "       [1.2999318],\n",
       "       [1.303927 ],\n",
       "       [1.3084327],\n",
       "       [1.3111695],\n",
       "       [1.3076869],\n",
       "       [1.3021139],\n",
       "       [1.2970616],\n",
       "       [1.2950908],\n",
       "       [1.2964367],\n",
       "       [1.3008093],\n",
       "       [1.3117021],\n",
       "       [1.3287321],\n",
       "       [1.351253 ],\n",
       "       [1.3736457],\n",
       "       [1.3878045],\n",
       "       [1.3918704],\n",
       "       [1.3964287],\n",
       "       [1.4085428],\n",
       "       [1.4261984],\n",
       "       [1.442312 ],\n",
       "       [1.4526156],\n",
       "       [1.456335 ],\n",
       "       [1.4585987],\n",
       "       [1.4674481],\n",
       "       [1.4837236],\n",
       "       [1.4959413],\n",
       "       [1.4968001],\n",
       "       [1.4856766],\n",
       "       [1.4648536],\n",
       "       [1.4395381],\n",
       "       [1.4168876],\n",
       "       [1.4060699],\n",
       "       [1.4087313],\n",
       "       [1.4218322],\n",
       "       [1.4416881],\n",
       "       [1.4606227],\n",
       "       [1.4735551],\n",
       "       [1.4779028],\n",
       "       [1.4766673],\n",
       "       [1.4734672],\n",
       "       [1.4737287],\n",
       "       [1.4785414],\n",
       "       [1.4874101],\n",
       "       [1.499937 ],\n",
       "       [1.5131034],\n",
       "       [1.5272948],\n",
       "       [1.5445746],\n",
       "       [1.5598751],\n",
       "       [1.5721377],\n",
       "       [1.5827104],\n",
       "       [1.5951259],\n",
       "       [1.5811138],\n",
       "       [1.538103 ],\n",
       "       [1.4797856],\n",
       "       [1.4283715],\n",
       "       [1.3950765],\n",
       "       [1.377076 ],\n",
       "       [1.3684778],\n",
       "       [1.3647262],\n",
       "       [1.3643373],\n",
       "       [1.3583814],\n",
       "       [1.3441647],\n",
       "       [1.3365839],\n",
       "       [1.343459 ],\n",
       "       [1.3577935],\n",
       "       [1.3672385],\n",
       "       [1.3712195],\n",
       "       [1.3719076],\n",
       "       [1.3686341],\n",
       "       [1.3610822],\n",
       "       [1.3516192],\n",
       "       [1.3384491],\n",
       "       [1.3240238],\n",
       "       [1.3078295],\n",
       "       [1.2760164],\n",
       "       [1.2365966],\n",
       "       [1.1969743],\n",
       "       [1.164528 ],\n",
       "       [1.1479428],\n",
       "       [1.1506402],\n",
       "       [1.1675283],\n",
       "       [1.1904637],\n",
       "       [1.21538  ],\n",
       "       [1.2374281],\n",
       "       [1.2554783],\n",
       "       [1.2713512],\n",
       "       [1.2844714],\n",
       "       [1.2960801],\n",
       "       [1.3081691],\n",
       "       [1.3182336],\n",
       "       [1.3176898],\n",
       "       [1.3053359],\n",
       "       [1.2850773],\n",
       "       [1.264032 ],\n",
       "       [1.2509128],\n",
       "       [1.2505293],\n",
       "       [1.2627939],\n",
       "       [1.2845954],\n",
       "       [1.305812 ],\n",
       "       [1.322869 ],\n",
       "       [1.3380815],\n",
       "       [1.352189 ],\n",
       "       [1.3642136],\n",
       "       [1.3742315],\n",
       "       [1.3823698],\n",
       "       [1.386334 ],\n",
       "       [1.3860153],\n",
       "       [1.3786396],\n",
       "       [1.3682145],\n",
       "       [1.3601295],\n",
       "       [1.3540483],\n",
       "       [1.3482379],\n",
       "       [1.37167  ],\n",
       "       [1.4196069],\n",
       "       [1.472144 ],\n",
       "       [1.5122561],\n",
       "       [1.5321711],\n",
       "       [1.5303806],\n",
       "       [1.5032754],\n",
       "       [1.4659606],\n",
       "       [1.4315473],\n",
       "       [1.4143695],\n",
       "       [1.4104837],\n",
       "       [1.4108276]], dtype=float32)"
      ]
     },
     "execution_count": 12,
     "metadata": {},
     "output_type": "execute_result"
    }
   ],
   "source": [
    "y_pred = model.predict(X_test)\n",
    "y_pred"
   ]
  },
  {
   "cell_type": "code",
   "execution_count": 13,
   "id": "d5efe220",
   "metadata": {
    "id": "d5efe220"
   },
   "outputs": [],
   "source": [
    "predicted_price = sc.inverse_transform(y_pred)"
   ]
  },
  {
   "cell_type": "code",
   "execution_count": 14,
   "id": "36206f9b",
   "metadata": {
    "id": "36206f9b",
    "outputId": "0394e3d5-8eaa-4075-ac62-a1253c5dbd3b"
   },
   "outputs": [
    {
     "data": {
      "image/png": "[encoded data removed]",
      "text/plain": [
       "<Figure size 432x288 with 1 Axes>"
      ]
     },
     "metadata": {
      "needs_background": "light"
     },
     "output_type": "display_data"
    }
   ],
   "source": [
    "plt.plot(y_test, color = 'red', label = 'Actual Stock Price')\n",
    "plt.plot(predicted_price, color = 'green', label = 'Predicted Stock Price')\n",
    "plt.title('Google stock price prediction')\n",
    "plt.xlabel('Time')\n",
    "plt.ylabel('Stock Price')\n",
    "plt.legend()\n",
    "plt.show()"
   ]
  },
  {
   "cell_type": "code",
   "execution_count": null,
   "id": "06d50d1f",
   "metadata": {
    "id": "06d50d1f"
   },
   "outputs": [],
   "source": []
  },
  {
   "cell_type": "code",
   "execution_count": null,
   "id": "e765fdf3",
   "metadata": {
    "id": "e765fdf3"
   },
   "outputs": [],
   "source": []
  }
 ],
 "metadata": {
  "colab": {
   "provenance": []
  },
  "kernelspec": {
   "display_name": "Python 3 (ipykernel)",
   "language": "python",
   "name": "python3"
  },
  "language_info": {
   "codemirror_mode": {
    "name": "ipython",
    "version": 3
   },
   "file_extension": ".py",
   "mimetype": "text/x-python",
   "name": "python",
   "nbconvert_exporter": "python",
   "pygments_lexer": "ipython3",
   "version": "3.9.13"
  }
 },
 "nbformat": 4,
 "nbformat_minor": 5
}
