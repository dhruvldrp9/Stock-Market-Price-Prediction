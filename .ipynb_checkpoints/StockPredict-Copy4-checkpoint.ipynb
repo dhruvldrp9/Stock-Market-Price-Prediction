{
 "cells": [
  {
   "cell_type": "code",
   "execution_count": 2,
   "id": "bded33b8",
   "metadata": {
    "executionInfo": {
     "elapsed": 3808,
     "status": "ok",
     "timestamp": 1670783958789,
     "user": {
      "displayName": "Tanmay Jadav",
      "userId": "06483448042551357940"
     },
     "user_tz": -330
    },
    "id": "8c395ea4"
   },
   "outputs": [],
   "source": [
    "import numpy as np \n",
    "import pandas as pd \n",
    "import matplotlib.pyplot as plt \n",
    "from sklearn.preprocessing import MinMaxScaler\n",
    "from keras.models import Sequential\n",
    "from keras.layers import Dense,LSTM,Dropout\n",
    "import yfinance as yf"
   ]
  },
  {
   "cell_type": "code",
   "execution_count": 3,
   "id": "55b42aa4",
   "metadata": {
    "colab": {
     "base_uri": "https://localhost:8080/",
     "height": 206
    },
    "executionInfo": {
     "elapsed": 894,
     "status": "ok",
     "timestamp": 1670784118563,
     "user": {
      "displayName": "Tanmay Jadav",
      "userId": "06483448042551357940"
     },
     "user_tz": -330
    },
    "id": "55b42aa4",
    "outputId": "b6825959-c95b-44e4-cee5-f20b4b1a3f43"
   },
   "outputs": [
    {
     "data": {
      "text/html": [
       "<div>\n",
       "<style scoped>\n",
       "    .dataframe tbody tr th:only-of-type {\n",
       "        vertical-align: middle;\n",
       "    }\n",
       "\n",
       "    .dataframe tbody tr th {\n",
       "        vertical-align: top;\n",
       "    }\n",
       "\n",
       "    .dataframe thead th {\n",
       "        text-align: right;\n",
       "    }\n",
       "</style>\n",
       "<table border=\"1\" class=\"dataframe\">\n",
       "  <thead>\n",
       "    <tr style=\"text-align: right;\">\n",
       "      <th></th>\n",
       "      <th>Date</th>\n",
       "      <th>Open</th>\n",
       "      <th>High</th>\n",
       "      <th>Low</th>\n",
       "      <th>Close</th>\n",
       "      <th>Volume</th>\n",
       "    </tr>\n",
       "  </thead>\n",
       "  <tbody>\n",
       "    <tr>\n",
       "      <th>0</th>\n",
       "      <td>1/3/2012</td>\n",
       "      <td>325.25</td>\n",
       "      <td>332.83</td>\n",
       "      <td>324.97</td>\n",
       "      <td>663.59</td>\n",
       "      <td>7,380,500</td>\n",
       "    </tr>\n",
       "    <tr>\n",
       "      <th>1</th>\n",
       "      <td>1/4/2012</td>\n",
       "      <td>331.27</td>\n",
       "      <td>333.87</td>\n",
       "      <td>329.08</td>\n",
       "      <td>666.45</td>\n",
       "      <td>5,749,400</td>\n",
       "    </tr>\n",
       "    <tr>\n",
       "      <th>2</th>\n",
       "      <td>1/5/2012</td>\n",
       "      <td>329.83</td>\n",
       "      <td>330.75</td>\n",
       "      <td>326.89</td>\n",
       "      <td>657.21</td>\n",
       "      <td>6,590,300</td>\n",
       "    </tr>\n",
       "    <tr>\n",
       "      <th>3</th>\n",
       "      <td>1/6/2012</td>\n",
       "      <td>328.34</td>\n",
       "      <td>328.77</td>\n",
       "      <td>323.68</td>\n",
       "      <td>648.24</td>\n",
       "      <td>5,405,900</td>\n",
       "    </tr>\n",
       "    <tr>\n",
       "      <th>4</th>\n",
       "      <td>1/9/2012</td>\n",
       "      <td>322.04</td>\n",
       "      <td>322.29</td>\n",
       "      <td>309.46</td>\n",
       "      <td>620.76</td>\n",
       "      <td>11,688,800</td>\n",
       "    </tr>\n",
       "  </tbody>\n",
       "</table>\n",
       "</div>"
      ],
      "text/plain": [
       "       Date    Open    High     Low   Close      Volume\n",
       "0  1/3/2012  325.25  332.83  324.97  663.59   7,380,500\n",
       "1  1/4/2012  331.27  333.87  329.08  666.45   5,749,400\n",
       "2  1/5/2012  329.83  330.75  326.89  657.21   6,590,300\n",
       "3  1/6/2012  328.34  328.77  323.68  648.24   5,405,900\n",
       "4  1/9/2012  322.04  322.29  309.46  620.76  11,688,800"
      ]
     },
     "execution_count": 3,
     "metadata": {},
     "output_type": "execute_result"
    }
   ],
   "source": [
    "data = pd.read_csv('Google_train_data.csv')\n",
    "data.head()"
   ]
  },
  {
   "cell_type": "code",
   "execution_count": 4,
   "id": "c4a15945",
   "metadata": {
    "executionInfo": {
     "elapsed": 712,
     "status": "ok",
     "timestamp": 1670784122877,
     "user": {
      "displayName": "Tanmay Jadav",
      "userId": "06483448042551357940"
     },
     "user_tz": -330
    },
    "id": "c4a15945"
   },
   "outputs": [],
   "source": [
    "data[\"Close\"]=pd.to_numeric(data.Close,errors='coerce')\n",
    "data = data.dropna()\n",
    "trainData = data.iloc[:,4:5].values"
   ]
  },
  {
   "cell_type": "code",
   "execution_count": 5,
   "id": "fe6f1b79",
   "metadata": {
    "colab": {
     "base_uri": "https://localhost:8080/"
    },
    "executionInfo": {
     "elapsed": 15,
     "status": "ok",
     "timestamp": 1670784125139,
     "user": {
      "displayName": "Tanmay Jadav",
      "userId": "06483448042551357940"
     },
     "user_tz": -330
    },
    "id": "fe6f1b79",
    "outputId": "11fdcbf9-ab13-4821-c8bd-7cb602f36001"
   },
   "outputs": [
    {
     "data": {
      "text/plain": [
       "(1149, 1)"
      ]
     },
     "execution_count": 5,
     "metadata": {},
     "output_type": "execute_result"
    }
   ],
   "source": [
    "sc = MinMaxScaler(feature_range=(0,1))\n",
    "trainData = sc.fit_transform(trainData)\n",
    "trainData.shape"
   ]
  },
  {
   "cell_type": "code",
   "execution_count": 6,
   "id": "1e1a7f88",
   "metadata": {
    "executionInfo": {
     "elapsed": 3,
     "status": "ok",
     "timestamp": 1670784127565,
     "user": {
      "displayName": "Tanmay Jadav",
      "userId": "06483448042551357940"
     },
     "user_tz": -330
    },
    "id": "1e1a7f88"
   },
   "outputs": [],
   "source": [
    "X_train = []\n",
    "y_train = []\n",
    "\n",
    "for i in range (60,1149): #60 : timestep // 1149 : length of the data\n",
    "    X_train.append(trainData[i-60:i,0]) \n",
    "    y_train.append(trainData[i,0])\n",
    "\n",
    "X_train,y_train = np.array(X_train),np.array(y_train)"
   ]
  },
  {
   "cell_type": "code",
   "execution_count": 7,
   "id": "3d0b13f1",
   "metadata": {
    "colab": {
     "base_uri": "https://localhost:8080/"
    },
    "executionInfo": {
     "elapsed": 7,
     "status": "ok",
     "timestamp": 1670784150028,
     "user": {
      "displayName": "Tanmay Jadav",
      "userId": "06483448042551357940"
     },
     "user_tz": -330
    },
    "id": "3d0b13f1",
    "outputId": "e4631257-8871-4987-f317-c5908b48542a"
   },
   "outputs": [
    {
     "data": {
      "text/plain": [
       "array([[[0.40001392],\n",
       "        [0.40665027],\n",
       "        [0.38520976],\n",
       "        ...,\n",
       "        [0.36279469],\n",
       "        [0.35745777],\n",
       "        [0.37766846]],\n",
       "\n",
       "       [[0.40665027],\n",
       "        [0.38520976],\n",
       "        [0.36439577],\n",
       "        ...,\n",
       "        [0.35745777],\n",
       "        [0.37766846],\n",
       "        [0.36065992]],\n",
       "\n",
       "       [[0.38520976],\n",
       "        [0.36439577],\n",
       "        [0.30063115],\n",
       "        ...,\n",
       "        [0.37766846],\n",
       "        [0.36065992],\n",
       "        [0.34406906]],\n",
       "\n",
       "       ...,\n",
       "\n",
       "       [[0.65286802],\n",
       "        [0.66184797],\n",
       "        [0.66194078],\n",
       "        ...,\n",
       "        [0.69625951],\n",
       "        [0.69312697],\n",
       "        [0.69693243]],\n",
       "\n",
       "       [[0.66184797],\n",
       "        [0.66194078],\n",
       "        [0.66284574],\n",
       "        ...,\n",
       "        [0.69312697],\n",
       "        [0.69693243],\n",
       "        [0.68184982]],\n",
       "\n",
       "       [[0.66194078],\n",
       "        [0.66284574],\n",
       "        [0.65871543],\n",
       "        ...,\n",
       "        [0.69693243],\n",
       "        [0.68184982],\n",
       "        [0.67660572]]])"
      ]
     },
     "execution_count": 7,
     "metadata": {},
     "output_type": "execute_result"
    }
   ],
   "source": [
    "X_train = np.reshape(X_train,(X_train.shape[0],X_train.shape[1],1)) #adding the batch_size axis\n",
    "X_train"
   ]
  },
  {
   "cell_type": "code",
   "execution_count": 8,
   "id": "3f34eefb",
   "metadata": {
    "id": "3f34eefb"
   },
   "outputs": [],
   "source": [
    "model = Sequential()\n",
    "\n",
    "model.add(LSTM(units=100, return_sequences = True, input_shape =(X_train.shape[1],1)))\n",
    "model.add(Dropout(0.2))\n",
    "\n",
    "model.add(LSTM(units=100, return_sequences = True))\n",
    "model.add(Dropout(0.2))\n",
    "\n",
    "model.add(LSTM(units=100, return_sequences = True))\n",
    "model.add(Dropout(0.2))\n",
    "\n",
    "model.add(LSTM(units=100, return_sequences = False))\n",
    "model.add(Dropout(0.2))\n",
    "\n",
    "model.add(Dense(units =1))\n",
    "model.compile(optimizer='adam',loss=\"mean_squared_error\")"
   ]
  },
  {
   "cell_type": "markdown",
   "id": "wW2NzjOvfB8Z",
   "metadata": {
    "id": "wW2NzjOvfB8Z"
   },
   "source": [
    "# New Section"
   ]
  },
  {
   "cell_type": "code",
   "execution_count": 9,
   "id": "e139c402",
   "metadata": {
    "id": "e139c402",
    "outputId": "014805ff-1626-4ce2-dc55-d4b77ca12766",
    "scrolled": true
   },
   "outputs": [
    {
     "name": "stdout",
     "output_type": "stream",
     "text": [
      "Epoch 1/20\n",
      "35/35 - 10s - loss: 0.0374 - 10s/epoch - 293ms/step\n",
      "Epoch 2/20\n",
      "35/35 - 5s - loss: 0.0135 - 5s/epoch - 137ms/step\n",
      "Epoch 3/20\n",
      "35/35 - 5s - loss: 0.0096 - 5s/epoch - 131ms/step\n",
      "Epoch 4/20\n",
      "35/35 - 5s - loss: 0.0084 - 5s/epoch - 135ms/step\n",
      "Epoch 5/20\n",
      "35/35 - 4s - loss: 0.0079 - 4s/epoch - 126ms/step\n",
      "Epoch 6/20\n",
      "35/35 - 4s - loss: 0.0077 - 4s/epoch - 127ms/step\n",
      "Epoch 7/20\n",
      "35/35 - 4s - loss: 0.0073 - 4s/epoch - 128ms/step\n",
      "Epoch 8/20\n",
      "35/35 - 4s - loss: 0.0070 - 4s/epoch - 127ms/step\n",
      "Epoch 9/20\n",
      "35/35 - 5s - loss: 0.0061 - 5s/epoch - 129ms/step\n",
      "Epoch 10/20\n",
      "35/35 - 5s - loss: 0.0060 - 5s/epoch - 129ms/step\n",
      "Epoch 11/20\n",
      "35/35 - 5s - loss: 0.0070 - 5s/epoch - 130ms/step\n",
      "Epoch 12/20\n",
      "35/35 - 5s - loss: 0.0063 - 5s/epoch - 132ms/step\n",
      "Epoch 13/20\n",
      "35/35 - 5s - loss: 0.0067 - 5s/epoch - 133ms/step\n",
      "Epoch 14/20\n",
      "35/35 - 4s - loss: 0.0060 - 4s/epoch - 127ms/step\n",
      "Epoch 15/20\n",
      "35/35 - 5s - loss: 0.0052 - 5s/epoch - 129ms/step\n",
      "Epoch 16/20\n",
      "35/35 - 4s - loss: 0.0054 - 4s/epoch - 127ms/step\n",
      "Epoch 17/20\n",
      "35/35 - 5s - loss: 0.0084 - 5s/epoch - 129ms/step\n",
      "Epoch 18/20\n",
      "35/35 - 4s - loss: 0.0174 - 4s/epoch - 129ms/step\n",
      "Epoch 19/20\n",
      "35/35 - 5s - loss: 0.0061 - 5s/epoch - 133ms/step\n",
      "Epoch 20/20\n",
      "35/35 - 5s - loss: 0.0057 - 5s/epoch - 132ms/step\n"
     ]
    }
   ],
   "source": [
    "hist = model.fit(X_train, y_train, epochs = 20, batch_size = 32, verbose=2)"
   ]
  },
  {
   "cell_type": "code",
   "execution_count": 11,
   "id": "f21244ba",
   "metadata": {
    "id": "f21244ba",
    "outputId": "87756895-15f7-4165-c9d6-638fa1c43e24",
    "scrolled": true
   },
   "outputs": [
    {
     "data": {
      "image/png": "[encoded data removed]",
      "text/plain": [
       "<Figure size 432x288 with 1 Axes>"
      ]
     },
     "metadata": {
      "needs_background": "light"
     },
     "output_type": "display_data"
    }
   ],
   "source": [
    "plt.plot(hist.history['loss'])\n",
    "plt.title('Training model loss')\n",
    "plt.ylabel('loss')\n",
    "plt.xlabel('epoch')\n",
    "plt.legend(['train'], loc='upper left')\n",
    "plt.show()"
   ]
  },
  {
   "cell_type": "code",
   "execution_count": 23,
   "id": "c206450e",
   "metadata": {
    "id": "c206450e",
    "outputId": "d5ae7357-6ccc-4c4e-b16f-4a1b730fb23c"
   },
   "outputs": [
    {
     "data": {
      "text/plain": [
       "(192, 60)"
      ]
     },
     "execution_count": 23,
     "metadata": {},
     "output_type": "execute_result"
    }
   ],
   "source": [
    "testData = pd.read_csv('Google_test_data.csv')\n",
    "testData[\"Close\"]=pd.to_numeric(testData.Close,errors='coerce')\n",
    "# testData = testData.dropna()\n",
    "# testData = testData.iloc[:,4:5]\n",
    "# y_test = testData.iloc[60:,0:].values \n",
    "# #input array for the model\n",
    "# inputClosing = testData.iloc[:,0:].values \n",
    "# inputClosing_scaled = sc.transform(inputClosing)\n",
    "# inputClosing_scaled.shape\n",
    "# X_test = []\n",
    "# length = len(testData)\n",
    "# timestep = 60\n",
    "# for i in range(timestep,length):  \n",
    "#     X_test.append(inputClosing_scaled[i-timestep:i,0])\n",
    "# X_test = np.array(X_test)\n",
    "# X_test.shape\n",
    "# X_test = np.reshape(X_test,(X_test.shape[0],X_test.shape[1],1))\n",
    "# X_test.shape"
   ]
  },
  {
   "cell_type": "code",
   "execution_count": 18,
   "id": "9a77c17e",
   "metadata": {},
   "outputs": [
    {
     "data": {
      "text/plain": [
       "252"
      ]
     },
     "execution_count": 18,
     "metadata": {},
     "output_type": "execute_result"
    }
   ],
   "source": [
    "X_test"
   ]
  },
  {
   "cell_type": "code",
   "execution_count": 13,
   "id": "16f7e8d0",
   "metadata": {
    "id": "16f7e8d0",
    "outputId": "ee71d80e-64fd-4696-dd1d-a6c554681ba2"
   },
   "outputs": [
    {
     "name": "stdout",
     "output_type": "stream",
     "text": [
      "6/6 [==============================] - 1s 43ms/step\n"
     ]
    },
    {
     "data": {
      "text/plain": [
       "array([[1.3385141],\n",
       "       [1.3376986],\n",
       "       [1.343825 ],\n",
       "       [1.3549672],\n",
       "       [1.3652842],\n",
       "       [1.3676336],\n",
       "       [1.3613868],\n",
       "       [1.3508042],\n",
       "       [1.3430009],\n",
       "       [1.3397214],\n",
       "       [1.3336345],\n",
       "       [1.3242382],\n",
       "       [1.3151215],\n",
       "       [1.3061024],\n",
       "       [1.3017596],\n",
       "       [1.3020916],\n",
       "       [1.3123493],\n",
       "       [1.3310361],\n",
       "       [1.354411 ],\n",
       "       [1.3796295],\n",
       "       [1.3941731],\n",
       "       [1.3986053],\n",
       "       [1.3908677],\n",
       "       [1.3750353],\n",
       "       [1.3581629],\n",
       "       [1.3462148],\n",
       "       [1.3403542],\n",
       "       [1.3363048],\n",
       "       [1.3281095],\n",
       "       [1.3175619],\n",
       "       [1.3061067],\n",
       "       [1.2932982],\n",
       "       [1.2755263],\n",
       "       [1.2537317],\n",
       "       [1.2413585],\n",
       "       [1.2425754],\n",
       "       [1.2537088],\n",
       "       [1.2692282],\n",
       "       [1.2862549],\n",
       "       [1.2973814],\n",
       "       [1.3095535],\n",
       "       [1.3239223],\n",
       "       [1.3402243],\n",
       "       [1.356061 ],\n",
       "       [1.3686335],\n",
       "       [1.3747689],\n",
       "       [1.3727729],\n",
       "       [1.3698848],\n",
       "       [1.3697641],\n",
       "       [1.374141 ],\n",
       "       [1.3830711],\n",
       "       [1.3898841],\n",
       "       [1.3930776],\n",
       "       [1.3927877],\n",
       "       [1.3929565],\n",
       "       [1.3914175],\n",
       "       [1.3864408],\n",
       "       [1.383467 ],\n",
       "       [1.3884634],\n",
       "       [1.3996718],\n",
       "       [1.416989 ],\n",
       "       [1.4390196],\n",
       "       [1.4569358],\n",
       "       [1.4648417],\n",
       "       [1.4627577],\n",
       "       [1.4540739],\n",
       "       [1.4469559],\n",
       "       [1.4439391],\n",
       "       [1.4449309],\n",
       "       [1.4471507],\n",
       "       [1.4498553],\n",
       "       [1.451678 ],\n",
       "       [1.4495938],\n",
       "       [1.4462032],\n",
       "       [1.4429637],\n",
       "       [1.4415154],\n",
       "       [1.442092 ],\n",
       "       [1.4446876],\n",
       "       [1.4518303],\n",
       "       [1.4633826],\n",
       "       [1.479091 ],\n",
       "       [1.4954047],\n",
       "       [1.5071378],\n",
       "       [1.5128909],\n",
       "       [1.5190003],\n",
       "       [1.529521 ],\n",
       "       [1.5431665],\n",
       "       [1.5558268],\n",
       "       [1.5650976],\n",
       "       [1.570431 ],\n",
       "       [1.5747426],\n",
       "       [1.5827277],\n",
       "       [1.594845 ],\n",
       "       [1.604449 ],\n",
       "       [1.6074523],\n",
       "       [1.6032475],\n",
       "       [1.5926242],\n",
       "       [1.5781963],\n",
       "       [1.5640883],\n",
       "       [1.5561372],\n",
       "       [1.5557828],\n",
       "       [1.5618322],\n",
       "       [1.5726459],\n",
       "       [1.5838673],\n",
       "       [1.5924945],\n",
       "       [1.5966883],\n",
       "       [1.5978111],\n",
       "       [1.59758  ],\n",
       "       [1.5990392],\n",
       "       [1.6028148],\n",
       "       [1.6088164],\n",
       "       [1.6170485],\n",
       "       [1.6258861],\n",
       "       [1.6356678],\n",
       "       [1.6475489],\n",
       "       [1.6585292],\n",
       "       [1.6680393],\n",
       "       [1.6767213],\n",
       "       [1.6864088],\n",
       "       [1.6809815],\n",
       "       [1.6584485],\n",
       "       [1.6251819],\n",
       "       [1.593374 ],\n",
       "       [1.5697339],\n",
       "       [1.5533485],\n",
       "       [1.5419031],\n",
       "       [1.5336466],\n",
       "       [1.5282706],\n",
       "       [1.5201657],\n",
       "       [1.5074711],\n",
       "       [1.4995791],\n",
       "       [1.5011661],\n",
       "       [1.5078276],\n",
       "       [1.5120928],\n",
       "       [1.5137949],\n",
       "       [1.513982 ],\n",
       "       [1.5118086],\n",
       "       [1.5067891],\n",
       "       [1.5002458],\n",
       "       [1.4907972],\n",
       "       [1.4800029],\n",
       "       [1.467415 ],\n",
       "       [1.4434468],\n",
       "       [1.4132664],\n",
       "       [1.3813224],\n",
       "       [1.3526962],\n",
       "       [1.3340901],\n",
       "       [1.3288023],\n",
       "       [1.3342361],\n",
       "       [1.3455546],\n",
       "       [1.3603392],\n",
       "       [1.3750935],\n",
       "       [1.3886507],\n",
       "       [1.4017226],\n",
       "       [1.4134269],\n",
       "       [1.4242976],\n",
       "       [1.4354626],\n",
       "       [1.445147 ],\n",
       "       [1.4475912],\n",
       "       [1.4417901],\n",
       "       [1.4298538],\n",
       "       [1.4161677],\n",
       "       [1.4066077],\n",
       "       [1.4047853],\n",
       "       [1.4112755],\n",
       "       [1.4246655],\n",
       "       [1.4386742],\n",
       "       [1.451139 ],\n",
       "       [1.4633353],\n",
       "       [1.475336 ],\n",
       "       [1.4862216],\n",
       "       [1.4958695],\n",
       "       [1.504221 ],\n",
       "       [1.5096967],\n",
       "       [1.5121517],\n",
       "       [1.509634 ],\n",
       "       [1.5045797],\n",
       "       [1.5003086],\n",
       "       [1.4966083],\n",
       "       [1.4925774],\n",
       "       [1.5073122],\n",
       "       [1.5374451],\n",
       "       [1.571341 ],\n",
       "       [1.5993493],\n",
       "       [1.6167215],\n",
       "       [1.6217595],\n",
       "       [1.6110897],\n",
       "       [1.5926697],\n",
       "       [1.5736457],\n",
       "       [1.5629717],\n",
       "       [1.558791 ],\n",
       "       [1.556604 ]], dtype=float32)"
      ]
     },
     "execution_count": 13,
     "metadata": {},
     "output_type": "execute_result"
    }
   ],
   "source": [
    "y_pred = model.predict(X_test)\n",
    "y_pred"
   ]
  },
  {
   "cell_type": "code",
   "execution_count": 14,
   "id": "d5efe220",
   "metadata": {
    "id": "d5efe220"
   },
   "outputs": [],
   "source": [
    "predicted_price = sc.inverse_transform(y_pred)"
   ]
  },
  {
   "cell_type": "code",
   "execution_count": 15,
   "id": "36206f9b",
   "metadata": {
    "id": "36206f9b",
    "outputId": "0394e3d5-8eaa-4075-ac62-a1253c5dbd3b"
   },
   "outputs": [
    {
     "data": {
      "image/png": "[encoded data removed]",
      "text/plain": [
       "<Figure size 432x288 with 1 Axes>"
      ]
     },
     "metadata": {
      "needs_background": "light"
     },
     "output_type": "display_data"
    }
   ],
   "source": [
    "plt.plot(y_test, color = 'red', label = 'Actual Stock Price')\n",
    "plt.plot(predicted_price, color = 'green', label = 'Predicted Stock Price')\n",
    "plt.title('Google stock price prediction')\n",
    "plt.xlabel('Time')\n",
    "plt.ylabel('Stock Price')\n",
    "plt.legend()\n",
    "plt.show()"
   ]
  },
  {
   "cell_type": "code",
   "execution_count": null,
   "id": "06d50d1f",
   "metadata": {
    "id": "06d50d1f"
   },
   "outputs": [],
   "source": []
  },
  {
   "cell_type": "code",
   "execution_count": null,
   "id": "e765fdf3",
   "metadata": {
    "id": "e765fdf3"
   },
   "outputs": [],
   "source": []
  },
  {
   "cell_type": "code",
   "execution_count": null,
   "id": "6d0c651e",
   "metadata": {},
   "outputs": [],
   "source": []
  }
 ],
 "metadata": {
  "colab": {
   "provenance": []
  },
  "kernelspec": {
   "display_name": "Python 3 (ipykernel)",
   "language": "python",
   "name": "python3"
  },
  "language_info": {
   "codemirror_mode": {
    "name": "ipython",
    "version": 3
   },
   "file_extension": ".py",
   "mimetype": "text/x-python",
   "name": "python",
   "nbconvert_exporter": "python",
   "pygments_lexer": "ipython3",
   "version": "3.9.13"
  }
 },
 "nbformat": 4,
 "nbformat_minor": 5
}
