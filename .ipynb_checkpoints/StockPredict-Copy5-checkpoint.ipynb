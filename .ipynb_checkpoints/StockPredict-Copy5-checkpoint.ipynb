{
 "cells": [
  {
   "cell_type": "code",
   "execution_count": null,
   "id": "bded33b8",
   "metadata": {
    "executionInfo": {
     "elapsed": 3808,
     "status": "ok",
     "timestamp": 1670783958789,
     "user": {
      "displayName": "Tanmay Jadav",
      "userId": "06483448042551357940"
     },
     "user_tz": -330
    },
    "id": "8c395ea4"
   },
   "outputs": [],
   "source": [
    "import numpy as np \n",
    "import pandas as pd \n",
    "import matplotlib.pyplot as plt \n",
    "from sklearn.preprocessing import MinMaxScaler\n",
    "from keras.models import Sequential\n",
    "from keras.layers import Dense,LSTM,Dropout\n",
    "import yfinance as yf"
   ]
  },
  {
   "cell_type": "code",
   "execution_count": 2,
   "id": "55b42aa4",
   "metadata": {
    "colab": {
     "base_uri": "https://localhost:8080/",
     "height": 206
    },
    "executionInfo": {
     "elapsed": 894,
     "status": "ok",
     "timestamp": 1670784118563,
     "user": {
      "displayName": "Tanmay Jadav",
      "userId": "06483448042551357940"
     },
     "user_tz": -330
    },
    "id": "55b42aa4",
    "outputId": "b6825959-c95b-44e4-cee5-f20b4b1a3f43"
   },
   "outputs": [
    {
     "data": {
      "text/html": [
       "<div>\n",
       "<style scoped>\n",
       "    .dataframe tbody tr th:only-of-type {\n",
       "        vertical-align: middle;\n",
       "    }\n",
       "\n",
       "    .dataframe tbody tr th {\n",
       "        vertical-align: top;\n",
       "    }\n",
       "\n",
       "    .dataframe thead th {\n",
       "        text-align: right;\n",
       "    }\n",
       "</style>\n",
       "<table border=\"1\" class=\"dataframe\">\n",
       "  <thead>\n",
       "    <tr style=\"text-align: right;\">\n",
       "      <th></th>\n",
       "      <th>Date</th>\n",
       "      <th>Open</th>\n",
       "      <th>High</th>\n",
       "      <th>Low</th>\n",
       "      <th>Close</th>\n",
       "    </tr>\n",
       "  </thead>\n",
       "  <tbody>\n",
       "    <tr>\n",
       "      <th>0</th>\n",
       "      <td>4-Jan-10</td>\n",
       "      <td>5200.90</td>\n",
       "      <td>5238.45</td>\n",
       "      <td>5167.10</td>\n",
       "      <td>5232.2</td>\n",
       "    </tr>\n",
       "    <tr>\n",
       "      <th>1</th>\n",
       "      <td>5-Jan-10</td>\n",
       "      <td>5277.15</td>\n",
       "      <td>5288.35</td>\n",
       "      <td>5242.40</td>\n",
       "      <td>5277.9</td>\n",
       "    </tr>\n",
       "    <tr>\n",
       "      <th>2</th>\n",
       "      <td>6-Jan-10</td>\n",
       "      <td>5278.15</td>\n",
       "      <td>5310.85</td>\n",
       "      <td>5260.05</td>\n",
       "      <td>5281.8</td>\n",
       "    </tr>\n",
       "    <tr>\n",
       "      <th>3</th>\n",
       "      <td>7-Jan-10</td>\n",
       "      <td>5281.80</td>\n",
       "      <td>5302.55</td>\n",
       "      <td>5244.75</td>\n",
       "      <td>5263.1</td>\n",
       "    </tr>\n",
       "    <tr>\n",
       "      <th>4</th>\n",
       "      <td>8-Jan-10</td>\n",
       "      <td>5264.25</td>\n",
       "      <td>5276.75</td>\n",
       "      <td>5234.70</td>\n",
       "      <td>5244.7</td>\n",
       "    </tr>\n",
       "  </tbody>\n",
       "</table>\n",
       "</div>"
      ],
      "text/plain": [
       "       Date     Open     High      Low   Close\n",
       "0  4-Jan-10  5200.90  5238.45  5167.10  5232.2\n",
       "1  5-Jan-10  5277.15  5288.35  5242.40  5277.9\n",
       "2  6-Jan-10  5278.15  5310.85  5260.05  5281.8\n",
       "3  7-Jan-10  5281.80  5302.55  5244.75  5263.1\n",
       "4  8-Jan-10  5264.25  5276.75  5234.70  5244.7"
      ]
     },
     "execution_count": 2,
     "metadata": {},
     "output_type": "execute_result"
    }
   ],
   "source": [
    "data = pd.read_csv('NIFTY50_Data1.csv')\n",
    "data.head()"
   ]
  },
  {
   "cell_type": "code",
   "execution_count": 3,
   "id": "ea7fa3fc",
   "metadata": {},
   "outputs": [
    {
     "data": {
      "text/plain": [
       "3300"
      ]
     },
     "execution_count": 3,
     "metadata": {},
     "output_type": "execute_result"
    }
   ],
   "source": [
    "len(data)"
   ]
  },
  {
   "cell_type": "code",
   "execution_count": 4,
   "id": "9b2f7b1b",
   "metadata": {},
   "outputs": [
    {
     "data": {
      "text/plain": [
       "2310"
      ]
     },
     "execution_count": 4,
     "metadata": {},
     "output_type": "execute_result"
    }
   ],
   "source": [
    "q=int(len(data)*70/100)\n",
    "q"
   ]
  },
  {
   "cell_type": "code",
   "execution_count": 5,
   "id": "6af9e6e8",
   "metadata": {},
   "outputs": [
    {
     "data": {
      "text/plain": [
       "30"
      ]
     },
     "execution_count": 5,
     "metadata": {},
     "output_type": "execute_result"
    }
   ],
   "source": [
    "testData = data[3270:]\n",
    "len(testData)"
   ]
  },
  {
   "cell_type": "code",
   "execution_count": 6,
   "id": "15e9bdc6",
   "metadata": {},
   "outputs": [
    {
     "data": {
      "text/html": [
       "<div>\n",
       "<style scoped>\n",
       "    .dataframe tbody tr th:only-of-type {\n",
       "        vertical-align: middle;\n",
       "    }\n",
       "\n",
       "    .dataframe tbody tr th {\n",
       "        vertical-align: top;\n",
       "    }\n",
       "\n",
       "    .dataframe thead th {\n",
       "        text-align: right;\n",
       "    }\n",
       "</style>\n",
       "<table border=\"1\" class=\"dataframe\">\n",
       "  <thead>\n",
       "    <tr style=\"text-align: right;\">\n",
       "      <th></th>\n",
       "      <th>Date</th>\n",
       "      <th>Open</th>\n",
       "      <th>High</th>\n",
       "      <th>Low</th>\n",
       "      <th>Close</th>\n",
       "    </tr>\n",
       "  </thead>\n",
       "  <tbody>\n",
       "    <tr>\n",
       "      <th>3270</th>\n",
       "      <td>6-Mar-23</td>\n",
       "      <td>17680.35</td>\n",
       "      <td>17799.95</td>\n",
       "      <td>17671.95</td>\n",
       "      <td>17711.45</td>\n",
       "    </tr>\n",
       "    <tr>\n",
       "      <th>3271</th>\n",
       "      <td>8-Mar-23</td>\n",
       "      <td>17665.75</td>\n",
       "      <td>17766.50</td>\n",
       "      <td>17602.25</td>\n",
       "      <td>17754.40</td>\n",
       "    </tr>\n",
       "    <tr>\n",
       "      <th>3272</th>\n",
       "      <td>9-Mar-23</td>\n",
       "      <td>17772.05</td>\n",
       "      <td>17772.35</td>\n",
       "      <td>17573.60</td>\n",
       "      <td>17589.60</td>\n",
       "    </tr>\n",
       "    <tr>\n",
       "      <th>3273</th>\n",
       "      <td>10-Mar-23</td>\n",
       "      <td>17443.80</td>\n",
       "      <td>17451.50</td>\n",
       "      <td>17324.35</td>\n",
       "      <td>17412.90</td>\n",
       "    </tr>\n",
       "    <tr>\n",
       "      <th>3274</th>\n",
       "      <td>13-Mar-23</td>\n",
       "      <td>17421.90</td>\n",
       "      <td>17529.90</td>\n",
       "      <td>17113.45</td>\n",
       "      <td>17154.30</td>\n",
       "    </tr>\n",
       "    <tr>\n",
       "      <th>3275</th>\n",
       "      <td>14-Mar-23</td>\n",
       "      <td>17160.55</td>\n",
       "      <td>17224.65</td>\n",
       "      <td>16987.10</td>\n",
       "      <td>17043.30</td>\n",
       "    </tr>\n",
       "    <tr>\n",
       "      <th>3276</th>\n",
       "      <td>15-Mar-23</td>\n",
       "      <td>17166.45</td>\n",
       "      <td>17211.35</td>\n",
       "      <td>16938.90</td>\n",
       "      <td>16972.15</td>\n",
       "    </tr>\n",
       "    <tr>\n",
       "      <th>3277</th>\n",
       "      <td>16-Mar-23</td>\n",
       "      <td>16994.65</td>\n",
       "      <td>17062.45</td>\n",
       "      <td>16850.15</td>\n",
       "      <td>16985.60</td>\n",
       "    </tr>\n",
       "    <tr>\n",
       "      <th>3278</th>\n",
       "      <td>17-Mar-23</td>\n",
       "      <td>17111.80</td>\n",
       "      <td>17145.80</td>\n",
       "      <td>16958.15</td>\n",
       "      <td>17100.05</td>\n",
       "    </tr>\n",
       "    <tr>\n",
       "      <th>3279</th>\n",
       "      <td>20-Mar-23</td>\n",
       "      <td>17066.60</td>\n",
       "      <td>17066.60</td>\n",
       "      <td>16828.35</td>\n",
       "      <td>16988.40</td>\n",
       "    </tr>\n",
       "    <tr>\n",
       "      <th>3280</th>\n",
       "      <td>21-Mar-23</td>\n",
       "      <td>17060.40</td>\n",
       "      <td>17127.70</td>\n",
       "      <td>17016.00</td>\n",
       "      <td>17107.50</td>\n",
       "    </tr>\n",
       "    <tr>\n",
       "      <th>3281</th>\n",
       "      <td>22-Mar-23</td>\n",
       "      <td>17177.45</td>\n",
       "      <td>17207.25</td>\n",
       "      <td>17107.85</td>\n",
       "      <td>17151.90</td>\n",
       "    </tr>\n",
       "    <tr>\n",
       "      <th>3282</th>\n",
       "      <td>23-Mar-23</td>\n",
       "      <td>17097.40</td>\n",
       "      <td>17205.40</td>\n",
       "      <td>17045.30</td>\n",
       "      <td>17076.90</td>\n",
       "    </tr>\n",
       "    <tr>\n",
       "      <th>3283</th>\n",
       "      <td>24-Mar-23</td>\n",
       "      <td>17076.20</td>\n",
       "      <td>17109.45</td>\n",
       "      <td>16917.35</td>\n",
       "      <td>16945.05</td>\n",
       "    </tr>\n",
       "    <tr>\n",
       "      <th>3284</th>\n",
       "      <td>27-Mar-23</td>\n",
       "      <td>16984.30</td>\n",
       "      <td>17091.00</td>\n",
       "      <td>16918.55</td>\n",
       "      <td>16985.70</td>\n",
       "    </tr>\n",
       "    <tr>\n",
       "      <th>3285</th>\n",
       "      <td>28-Mar-23</td>\n",
       "      <td>17031.75</td>\n",
       "      <td>17061.75</td>\n",
       "      <td>16913.75</td>\n",
       "      <td>16951.70</td>\n",
       "    </tr>\n",
       "    <tr>\n",
       "      <th>3286</th>\n",
       "      <td>29-Mar-23</td>\n",
       "      <td>16977.30</td>\n",
       "      <td>17126.15</td>\n",
       "      <td>16940.60</td>\n",
       "      <td>17080.70</td>\n",
       "    </tr>\n",
       "    <tr>\n",
       "      <th>3287</th>\n",
       "      <td>31-Mar-23</td>\n",
       "      <td>17210.35</td>\n",
       "      <td>17381.60</td>\n",
       "      <td>17204.65</td>\n",
       "      <td>17359.75</td>\n",
       "    </tr>\n",
       "    <tr>\n",
       "      <th>3288</th>\n",
       "      <td>3-Apr-23</td>\n",
       "      <td>17427.95</td>\n",
       "      <td>17428.05</td>\n",
       "      <td>17312.75</td>\n",
       "      <td>17398.05</td>\n",
       "    </tr>\n",
       "    <tr>\n",
       "      <th>3289</th>\n",
       "      <td>5-Apr-23</td>\n",
       "      <td>17422.30</td>\n",
       "      <td>17570.55</td>\n",
       "      <td>17402.70</td>\n",
       "      <td>17557.05</td>\n",
       "    </tr>\n",
       "    <tr>\n",
       "      <th>3290</th>\n",
       "      <td>6-Apr-23</td>\n",
       "      <td>17533.85</td>\n",
       "      <td>17638.70</td>\n",
       "      <td>17502.85</td>\n",
       "      <td>17599.15</td>\n",
       "    </tr>\n",
       "    <tr>\n",
       "      <th>3291</th>\n",
       "      <td>10-Apr-23</td>\n",
       "      <td>17634.90</td>\n",
       "      <td>17694.10</td>\n",
       "      <td>17597.95</td>\n",
       "      <td>17624.05</td>\n",
       "    </tr>\n",
       "    <tr>\n",
       "      <th>3292</th>\n",
       "      <td>11-Apr-23</td>\n",
       "      <td>17704.80</td>\n",
       "      <td>17748.75</td>\n",
       "      <td>17655.15</td>\n",
       "      <td>17722.30</td>\n",
       "    </tr>\n",
       "    <tr>\n",
       "      <th>3293</th>\n",
       "      <td>12-Apr-23</td>\n",
       "      <td>17759.55</td>\n",
       "      <td>17825.75</td>\n",
       "      <td>17717.25</td>\n",
       "      <td>17812.40</td>\n",
       "    </tr>\n",
       "    <tr>\n",
       "      <th>3294</th>\n",
       "      <td>13-Apr-23</td>\n",
       "      <td>17807.30</td>\n",
       "      <td>17842.15</td>\n",
       "      <td>17729.65</td>\n",
       "      <td>17828.00</td>\n",
       "    </tr>\n",
       "    <tr>\n",
       "      <th>3295</th>\n",
       "      <td>17-Apr-23</td>\n",
       "      <td>17863.00</td>\n",
       "      <td>17863.00</td>\n",
       "      <td>17574.05</td>\n",
       "      <td>17706.85</td>\n",
       "    </tr>\n",
       "    <tr>\n",
       "      <th>3296</th>\n",
       "      <td>18-Apr-23</td>\n",
       "      <td>17766.60</td>\n",
       "      <td>17766.60</td>\n",
       "      <td>17610.20</td>\n",
       "      <td>17660.15</td>\n",
       "    </tr>\n",
       "    <tr>\n",
       "      <th>3297</th>\n",
       "      <td>19-Apr-23</td>\n",
       "      <td>17653.35</td>\n",
       "      <td>17666.15</td>\n",
       "      <td>17579.85</td>\n",
       "      <td>17618.75</td>\n",
       "    </tr>\n",
       "    <tr>\n",
       "      <th>3298</th>\n",
       "      <td>20-Apr-23</td>\n",
       "      <td>17638.60</td>\n",
       "      <td>17684.45</td>\n",
       "      <td>17584.35</td>\n",
       "      <td>17624.45</td>\n",
       "    </tr>\n",
       "    <tr>\n",
       "      <th>3299</th>\n",
       "      <td>21-Apr-23</td>\n",
       "      <td>17639.75</td>\n",
       "      <td>17663.20</td>\n",
       "      <td>17553.95</td>\n",
       "      <td>17624.05</td>\n",
       "    </tr>\n",
       "  </tbody>\n",
       "</table>\n",
       "</div>"
      ],
      "text/plain": [
       "           Date      Open      High       Low     Close\n",
       "3270   6-Mar-23  17680.35  17799.95  17671.95  17711.45\n",
       "3271   8-Mar-23  17665.75  17766.50  17602.25  17754.40\n",
       "3272   9-Mar-23  17772.05  17772.35  17573.60  17589.60\n",
       "3273  10-Mar-23  17443.80  17451.50  17324.35  17412.90\n",
       "3274  13-Mar-23  17421.90  17529.90  17113.45  17154.30\n",
       "3275  14-Mar-23  17160.55  17224.65  16987.10  17043.30\n",
       "3276  15-Mar-23  17166.45  17211.35  16938.90  16972.15\n",
       "3277  16-Mar-23  16994.65  17062.45  16850.15  16985.60\n",
       "3278  17-Mar-23  17111.80  17145.80  16958.15  17100.05\n",
       "3279  20-Mar-23  17066.60  17066.60  16828.35  16988.40\n",
       "3280  21-Mar-23  17060.40  17127.70  17016.00  17107.50\n",
       "3281  22-Mar-23  17177.45  17207.25  17107.85  17151.90\n",
       "3282  23-Mar-23  17097.40  17205.40  17045.30  17076.90\n",
       "3283  24-Mar-23  17076.20  17109.45  16917.35  16945.05\n",
       "3284  27-Mar-23  16984.30  17091.00  16918.55  16985.70\n",
       "3285  28-Mar-23  17031.75  17061.75  16913.75  16951.70\n",
       "3286  29-Mar-23  16977.30  17126.15  16940.60  17080.70\n",
       "3287  31-Mar-23  17210.35  17381.60  17204.65  17359.75\n",
       "3288   3-Apr-23  17427.95  17428.05  17312.75  17398.05\n",
       "3289   5-Apr-23  17422.30  17570.55  17402.70  17557.05\n",
       "3290   6-Apr-23  17533.85  17638.70  17502.85  17599.15\n",
       "3291  10-Apr-23  17634.90  17694.10  17597.95  17624.05\n",
       "3292  11-Apr-23  17704.80  17748.75  17655.15  17722.30\n",
       "3293  12-Apr-23  17759.55  17825.75  17717.25  17812.40\n",
       "3294  13-Apr-23  17807.30  17842.15  17729.65  17828.00\n",
       "3295  17-Apr-23  17863.00  17863.00  17574.05  17706.85\n",
       "3296  18-Apr-23  17766.60  17766.60  17610.20  17660.15\n",
       "3297  19-Apr-23  17653.35  17666.15  17579.85  17618.75\n",
       "3298  20-Apr-23  17638.60  17684.45  17584.35  17624.45\n",
       "3299  21-Apr-23  17639.75  17663.20  17553.95  17624.05"
      ]
     },
     "execution_count": 6,
     "metadata": {},
     "output_type": "execute_result"
    }
   ],
   "source": [
    "testData"
   ]
  },
  {
   "cell_type": "code",
   "execution_count": 7,
   "id": "6dfd8814",
   "metadata": {},
   "outputs": [
    {
     "data": {
      "text/plain": [
       "3270"
      ]
     },
     "execution_count": 7,
     "metadata": {},
     "output_type": "execute_result"
    }
   ],
   "source": [
    "data = data[:3270]\n",
    "le = len(data)\n",
    "len(data)"
   ]
  },
  {
   "cell_type": "code",
   "execution_count": 8,
   "id": "83b0019d",
   "metadata": {},
   "outputs": [
    {
     "data": {
      "text/plain": [
       "pandas.core.frame.DataFrame"
      ]
     },
     "execution_count": 8,
     "metadata": {},
     "output_type": "execute_result"
    }
   ],
   "source": [
    "type(data)"
   ]
  },
  {
   "cell_type": "code",
   "execution_count": 9,
   "id": "c4a15945",
   "metadata": {
    "executionInfo": {
     "elapsed": 712,
     "status": "ok",
     "timestamp": 1670784122877,
     "user": {
      "displayName": "Tanmay Jadav",
      "userId": "06483448042551357940"
     },
     "user_tz": -330
    },
    "id": "c4a15945"
   },
   "outputs": [],
   "source": [
    "data[\"Close\"]=pd.to_numeric(data.Close,errors='coerce')\n",
    "data = data.dropna()\n",
    "trainData = data.iloc[:,4:5].values"
   ]
  },
  {
   "cell_type": "code",
   "execution_count": 10,
   "id": "fe6f1b79",
   "metadata": {
    "colab": {
     "base_uri": "https://localhost:8080/"
    },
    "executionInfo": {
     "elapsed": 15,
     "status": "ok",
     "timestamp": 1670784125139,
     "user": {
      "displayName": "Tanmay Jadav",
      "userId": "06483448042551357940"
     },
     "user_tz": -330
    },
    "id": "fe6f1b79",
    "outputId": "11fdcbf9-ab13-4821-c8bd-7cb602f36001"
   },
   "outputs": [
    {
     "data": {
      "text/plain": [
       "(3270, 1)"
      ]
     },
     "execution_count": 10,
     "metadata": {},
     "output_type": "execute_result"
    }
   ],
   "source": [
    "sc = MinMaxScaler(feature_range=(0,1))\n",
    "trainData = sc.fit_transform(trainData)\n",
    "trainData.shape"
   ]
  },
  {
   "cell_type": "code",
   "execution_count": 11,
   "id": "1e1a7f88",
   "metadata": {
    "executionInfo": {
     "elapsed": 3,
     "status": "ok",
     "timestamp": 1670784127565,
     "user": {
      "displayName": "Tanmay Jadav",
      "userId": "06483448042551357940"
     },
     "user_tz": -330
    },
    "id": "1e1a7f88"
   },
   "outputs": [],
   "source": [
    "X_train = []\n",
    "y_train = []\n",
    "\n",
    "for i in range (10,le): #60 : timestep // 1149 : length of the data\n",
    "    X_train.append(trainData[i-10:i,0]) \n",
    "    y_train.append(trainData[i,0])\n",
    "\n",
    "X_train,y_train = np.array(X_train),np.array(y_train)"
   ]
  },
  {
   "cell_type": "code",
   "execution_count": 12,
   "id": "3d0b13f1",
   "metadata": {
    "colab": {
     "base_uri": "https://localhost:8080/"
    },
    "executionInfo": {
     "elapsed": 7,
     "status": "ok",
     "timestamp": 1670784150028,
     "user": {
      "displayName": "Tanmay Jadav",
      "userId": "06483448042551357940"
     },
     "user_tz": -330
    },
    "id": "3d0b13f1",
    "outputId": "e4631257-8871-4987-f317-c5908b48542a"
   },
   "outputs": [
    {
     "data": {
      "text/plain": [
       "array([[[0.04821878],\n",
       "        [0.05142168],\n",
       "        [0.05169502],\n",
       "        ...,\n",
       "        [0.04833792],\n",
       "        [0.05016015],\n",
       "        [0.04962049]],\n",
       "\n",
       "       [[0.05142168],\n",
       "        [0.05169502],\n",
       "        [0.05038442],\n",
       "        ...,\n",
       "        [0.05016015],\n",
       "        [0.04962049],\n",
       "        [0.05120442]],\n",
       "\n",
       "       [[0.05169502],\n",
       "        [0.05038442],\n",
       "        [0.04909485],\n",
       "        ...,\n",
       "        [0.04962049],\n",
       "        [0.05120442],\n",
       "        [0.04775621]],\n",
       "\n",
       "       ...,\n",
       "\n",
       "       [[0.94416644],\n",
       "        [0.94556815],\n",
       "        [0.93914482],\n",
       "        ...,\n",
       "        [0.90561595],\n",
       "        [0.9004927 ],\n",
       "        [0.89427262]],\n",
       "\n",
       "       [[0.94556815],\n",
       "        [0.93914482],\n",
       "        [0.93216431],\n",
       "        ...,\n",
       "        [0.9004927 ],\n",
       "        [0.89427262],\n",
       "        [0.90457167]],\n",
       "\n",
       "       [[0.93914482],\n",
       "        [0.93216431],\n",
       "        [0.93090978],\n",
       "        ...,\n",
       "        [0.89427262],\n",
       "        [0.90457167],\n",
       "        [0.89553065]]])"
      ]
     },
     "execution_count": 12,
     "metadata": {},
     "output_type": "execute_result"
    }
   ],
   "source": [
    "X_train = np.reshape(X_train,(X_train.shape[0],X_train.shape[1],1)) #adding the batch_size axis\n",
    "X_train"
   ]
  },
  {
   "cell_type": "code",
   "execution_count": 13,
   "id": "3f34eefb",
   "metadata": {
    "id": "3f34eefb"
   },
   "outputs": [],
   "source": [
    "model = Sequential()\n",
    "\n",
    "model.add(LSTM(units=100, return_sequences = True, input_shape =(X_train.shape[1],1)))\n",
    "model.add(Dropout(0.2))\n",
    "\n",
    "model.add(LSTM(units=100, return_sequences = True))\n",
    "model.add(Dropout(0.2))\n",
    "\n",
    "model.add(LSTM(units=100, return_sequences = True))\n",
    "model.add(Dropout(0.2))\n",
    "\n",
    "model.add(LSTM(units=100, return_sequences = False))\n",
    "model.add(Dropout(0.2))\n",
    "\n",
    "model.add(Dense(units =1))\n",
    "model.compile(optimizer='adam',loss=\"mean_squared_error\")"
   ]
  },
  {
   "cell_type": "markdown",
   "id": "wW2NzjOvfB8Z",
   "metadata": {
    "id": "wW2NzjOvfB8Z"
   },
   "source": [
    "# New Section"
   ]
  },
  {
   "cell_type": "code",
   "execution_count": null,
   "id": "e139c402",
   "metadata": {
    "id": "e139c402",
    "outputId": "014805ff-1626-4ce2-dc55-d4b77ca12766",
    "scrolled": true
   },
   "outputs": [
    {
     "name": "stdout",
     "output_type": "stream",
     "text": [
      "Epoch 1/20\n",
      "102/102 - 8s - loss: 0.0120 - 8s/epoch - 80ms/step\n",
      "Epoch 2/20\n",
      "102/102 - 3s - loss: 0.0016 - 3s/epoch - 26ms/step\n",
      "Epoch 3/20\n",
      "102/102 - 3s - loss: 0.0016 - 3s/epoch - 25ms/step\n",
      "Epoch 4/20\n",
      "102/102 - 3s - loss: 0.0015 - 3s/epoch - 25ms/step\n",
      "Epoch 5/20\n",
      "102/102 - 3s - loss: 0.0014 - 3s/epoch - 25ms/step\n",
      "Epoch 6/20\n",
      "102/102 - 3s - loss: 0.0015 - 3s/epoch - 26ms/step\n",
      "Epoch 7/20\n",
      "102/102 - 3s - loss: 0.0011 - 3s/epoch - 26ms/step\n",
      "Epoch 8/20\n"
     ]
    }
   ],
   "source": [
    "hist = model.fit(X_train, y_train, epochs = 20, batch_size = 32, verbose=2)"
   ]
  },
  {
   "cell_type": "code",
   "execution_count": null,
   "id": "f21244ba",
   "metadata": {
    "id": "f21244ba",
    "outputId": "87756895-15f7-4165-c9d6-638fa1c43e24",
    "scrolled": true
   },
   "outputs": [],
   "source": [
    "plt.plot(hist.history['loss'])\n",
    "plt.title('Training model loss')\n",
    "plt.ylabel('loss')\n",
    "plt.xlabel('epoch')\n",
    "plt.legend(['train'], loc='upper left')\n",
    "plt.show()"
   ]
  },
  {
   "cell_type": "code",
   "execution_count": null,
   "id": "c206450e",
   "metadata": {
    "id": "c206450e",
    "outputId": "d5ae7357-6ccc-4c4e-b16f-4a1b730fb23c"
   },
   "outputs": [],
   "source": [
    "# testData = pd.read_csv('Google_test_data.csv')\n",
    "testData[\"Close\"]=pd.to_numeric(testData.Close,errors='coerce')\n",
    "testData = testData.dropna()\n",
    "testData = testData.iloc[:,4:5]\n",
    "y_test = testData.iloc[10:,0:].values \n",
    "#input array for the model\n",
    "inputClosing = testData.iloc[:,0:].values \n",
    "inputClosing_scaled = sc.transform(inputClosing)\n",
    "inputClosing_scaled.shape\n",
    "X_test = []\n",
    "length = len(testData)\n",
    "timestep = 10\n",
    "for i in range(timestep,length):  \n",
    "    X_test.append(inputClosing_scaled[i-timestep:i,0])\n",
    "X_test = np.array(X_test)\n",
    "X_test.shape\n",
    "X_test = np.reshape(X_test,(X_test.shape[0],X_test.shape[1],1))\n",
    "X_test.shape"
   ]
  },
  {
   "cell_type": "code",
   "execution_count": null,
   "id": "fa60c2cb",
   "metadata": {},
   "outputs": [],
   "source": [
    "X_test"
   ]
  },
  {
   "cell_type": "code",
   "execution_count": null,
   "id": "16f7e8d0",
   "metadata": {
    "id": "16f7e8d0",
    "outputId": "ee71d80e-64fd-4696-dd1d-a6c554681ba2"
   },
   "outputs": [],
   "source": [
    "y_pred = model.predict(X_test)\n",
    "y_pred"
   ]
  },
  {
   "cell_type": "code",
   "execution_count": null,
   "id": "d5efe220",
   "metadata": {
    "id": "d5efe220"
   },
   "outputs": [],
   "source": [
    "predicted_price = sc.inverse_transform(y_pred)"
   ]
  },
  {
   "cell_type": "code",
   "execution_count": null,
   "id": "1b2f0ff8",
   "metadata": {},
   "outputs": [],
   "source": [
    "len(y_test)"
   ]
  },
  {
   "cell_type": "code",
   "execution_count": null,
   "id": "36206f9b",
   "metadata": {
    "id": "36206f9b",
    "outputId": "0394e3d5-8eaa-4075-ac62-a1253c5dbd3b"
   },
   "outputs": [],
   "source": [
    "plt.plot(y_test[900:], color = 'red', label = 'Actual Stock Price')\n",
    "plt.plot(predicted_price[900:], color = 'green', label = 'Predicted Stock Price')\n",
    "plt.title('Google stock price prediction')\n",
    "plt.xlabel('Time')\n",
    "plt.ylabel('Stock Price')\n",
    "plt.legend()\n",
    "plt.show()"
   ]
  },
  {
   "cell_type": "code",
   "execution_count": null,
   "id": "06d50d1f",
   "metadata": {
    "id": "06d50d1f"
   },
   "outputs": [],
   "source": []
  },
  {
   "cell_type": "code",
   "execution_count": null,
   "id": "e765fdf3",
   "metadata": {
    "id": "e765fdf3"
   },
   "outputs": [],
   "source": []
  },
  {
   "cell_type": "code",
   "execution_count": null,
   "id": "180ba71f",
   "metadata": {},
   "outputs": [],
   "source": []
  }
 ],
 "metadata": {
  "colab": {
   "provenance": []
  },
  "kernelspec": {
   "display_name": "Python 3 (ipykernel)",
   "language": "python",
   "name": "python3"
  },
  "language_info": {
   "codemirror_mode": {
    "name": "ipython",
    "version": 3
   },
   "file_extension": ".py",
   "mimetype": "text/x-python",
   "name": "python",
   "nbconvert_exporter": "python",
   "pygments_lexer": "ipython3",
   "version": "3.9.13"
  }
 },
 "nbformat": 4,
 "nbformat_minor": 5
}
