{
 "cells": [
  {
   "cell_type": "code",
   "execution_count": 2,
   "id": "3ad36cbc",
   "metadata": {
    "executionInfo": {
     "elapsed": 3808,
     "status": "ok",
     "timestamp": 1670783958789,
     "user": {
      "displayName": "Tanmay Jadav",
      "userId": "06483448042551357940"
     },
     "user_tz": -330
    },
    "id": "8c395ea4"
   },
   "outputs": [],
   "source": [
    "import numpy as np \n",
    "import pandas as pd \n",
    "import matplotlib.pyplot as plt \n",
    "from sklearn.preprocessing import MinMaxScaler\n",
    "from keras.models import Sequential\n",
    "from keras.layers import Dense,LSTM,Dropout"
   ]
  },
  {
   "cell_type": "code",
   "execution_count": 3,
   "id": "55b42aa4",
   "metadata": {
    "colab": {
     "base_uri": "https://localhost:8080/",
     "height": 206
    },
    "executionInfo": {
     "elapsed": 894,
     "status": "ok",
     "timestamp": 1670784118563,
     "user": {
      "displayName": "Tanmay Jadav",
      "userId": "06483448042551357940"
     },
     "user_tz": -330
    },
    "id": "55b42aa4",
    "outputId": "b6825959-c95b-44e4-cee5-f20b4b1a3f43"
   },
   "outputs": [
    {
     "data": {
      "text/html": [
       "<div>\n",
       "<style scoped>\n",
       "    .dataframe tbody tr th:only-of-type {\n",
       "        vertical-align: middle;\n",
       "    }\n",
       "\n",
       "    .dataframe tbody tr th {\n",
       "        vertical-align: top;\n",
       "    }\n",
       "\n",
       "    .dataframe thead th {\n",
       "        text-align: right;\n",
       "    }\n",
       "</style>\n",
       "<table border=\"1\" class=\"dataframe\">\n",
       "  <thead>\n",
       "    <tr style=\"text-align: right;\">\n",
       "      <th></th>\n",
       "      <th>Date</th>\n",
       "      <th>Open</th>\n",
       "      <th>High</th>\n",
       "      <th>Low</th>\n",
       "      <th>Close</th>\n",
       "      <th>Volume</th>\n",
       "    </tr>\n",
       "  </thead>\n",
       "  <tbody>\n",
       "    <tr>\n",
       "      <th>0</th>\n",
       "      <td>1/3/2012</td>\n",
       "      <td>325.25</td>\n",
       "      <td>332.83</td>\n",
       "      <td>324.97</td>\n",
       "      <td>663.59</td>\n",
       "      <td>7,380,500</td>\n",
       "    </tr>\n",
       "    <tr>\n",
       "      <th>1</th>\n",
       "      <td>1/4/2012</td>\n",
       "      <td>331.27</td>\n",
       "      <td>333.87</td>\n",
       "      <td>329.08</td>\n",
       "      <td>666.45</td>\n",
       "      <td>5,749,400</td>\n",
       "    </tr>\n",
       "    <tr>\n",
       "      <th>2</th>\n",
       "      <td>1/5/2012</td>\n",
       "      <td>329.83</td>\n",
       "      <td>330.75</td>\n",
       "      <td>326.89</td>\n",
       "      <td>657.21</td>\n",
       "      <td>6,590,300</td>\n",
       "    </tr>\n",
       "    <tr>\n",
       "      <th>3</th>\n",
       "      <td>1/6/2012</td>\n",
       "      <td>328.34</td>\n",
       "      <td>328.77</td>\n",
       "      <td>323.68</td>\n",
       "      <td>648.24</td>\n",
       "      <td>5,405,900</td>\n",
       "    </tr>\n",
       "    <tr>\n",
       "      <th>4</th>\n",
       "      <td>1/9/2012</td>\n",
       "      <td>322.04</td>\n",
       "      <td>322.29</td>\n",
       "      <td>309.46</td>\n",
       "      <td>620.76</td>\n",
       "      <td>11,688,800</td>\n",
       "    </tr>\n",
       "  </tbody>\n",
       "</table>\n",
       "</div>"
      ],
      "text/plain": [
       "       Date    Open    High     Low   Close      Volume\n",
       "0  1/3/2012  325.25  332.83  324.97  663.59   7,380,500\n",
       "1  1/4/2012  331.27  333.87  329.08  666.45   5,749,400\n",
       "2  1/5/2012  329.83  330.75  326.89  657.21   6,590,300\n",
       "3  1/6/2012  328.34  328.77  323.68  648.24   5,405,900\n",
       "4  1/9/2012  322.04  322.29  309.46  620.76  11,688,800"
      ]
     },
     "execution_count": 3,
     "metadata": {},
     "output_type": "execute_result"
    }
   ],
   "source": [
    "data = pd.read_csv('Google_train_data.csv')\n",
    "data.head()"
   ]
  },
  {
   "cell_type": "code",
   "execution_count": 4,
   "id": "c4a15945",
   "metadata": {
    "executionInfo": {
     "elapsed": 712,
     "status": "ok",
     "timestamp": 1670784122877,
     "user": {
      "displayName": "Tanmay Jadav",
      "userId": "06483448042551357940"
     },
     "user_tz": -330
    },
    "id": "c4a15945"
   },
   "outputs": [],
   "source": [
    "data[\"Close\"]=pd.to_numeric(data.Close,errors='coerce')\n",
    "data = data.dropna()\n",
    "trainData = data.iloc[:,4:5].values"
   ]
  },
  {
   "cell_type": "code",
   "execution_count": 5,
   "id": "fe6f1b79",
   "metadata": {
    "colab": {
     "base_uri": "https://localhost:8080/"
    },
    "executionInfo": {
     "elapsed": 15,
     "status": "ok",
     "timestamp": 1670784125139,
     "user": {
      "displayName": "Tanmay Jadav",
      "userId": "06483448042551357940"
     },
     "user_tz": -330
    },
    "id": "fe6f1b79",
    "outputId": "11fdcbf9-ab13-4821-c8bd-7cb602f36001"
   },
   "outputs": [
    {
     "data": {
      "text/plain": [
       "(1149, 1)"
      ]
     },
     "execution_count": 5,
     "metadata": {},
     "output_type": "execute_result"
    }
   ],
   "source": [
    "sc = MinMaxScaler(feature_range=(0,1))\n",
    "trainData = sc.fit_transform(trainData)\n",
    "trainData.shape"
   ]
  },
  {
   "cell_type": "code",
   "execution_count": 6,
   "id": "1e1a7f88",
   "metadata": {
    "executionInfo": {
     "elapsed": 3,
     "status": "ok",
     "timestamp": 1670784127565,
     "user": {
      "displayName": "Tanmay Jadav",
      "userId": "06483448042551357940"
     },
     "user_tz": -330
    },
    "id": "1e1a7f88"
   },
   "outputs": [],
   "source": [
    "X_train = []\n",
    "y_train = []\n",
    "\n",
    "for i in range (60,1149): #60 : timestep // 1149 : length of the data\n",
    "    X_train.append(trainData[i-60:i,0]) \n",
    "    y_train.append(trainData[i,0])\n",
    "\n",
    "X_train,y_train = np.array(X_train),np.array(y_train)"
   ]
  },
  {
   "cell_type": "code",
   "execution_count": 7,
   "id": "3d0b13f1",
   "metadata": {
    "colab": {
     "base_uri": "https://localhost:8080/"
    },
    "executionInfo": {
     "elapsed": 7,
     "status": "ok",
     "timestamp": 1670784150028,
     "user": {
      "displayName": "Tanmay Jadav",
      "userId": "06483448042551357940"
     },
     "user_tz": -330
    },
    "id": "3d0b13f1",
    "outputId": "e4631257-8871-4987-f317-c5908b48542a"
   },
   "outputs": [
    {
     "data": {
      "text/plain": [
       "array([[[0.40001392],\n",
       "        [0.40665027],\n",
       "        [0.38520976],\n",
       "        ...,\n",
       "        [0.36279469],\n",
       "        [0.35745777],\n",
       "        [0.37766846]],\n",
       "\n",
       "       [[0.40665027],\n",
       "        [0.38520976],\n",
       "        [0.36439577],\n",
       "        ...,\n",
       "        [0.35745777],\n",
       "        [0.37766846],\n",
       "        [0.36065992]],\n",
       "\n",
       "       [[0.38520976],\n",
       "        [0.36439577],\n",
       "        [0.30063115],\n",
       "        ...,\n",
       "        [0.37766846],\n",
       "        [0.36065992],\n",
       "        [0.34406906]],\n",
       "\n",
       "       ...,\n",
       "\n",
       "       [[0.65286802],\n",
       "        [0.66184797],\n",
       "        [0.66194078],\n",
       "        ...,\n",
       "        [0.69625951],\n",
       "        [0.69312697],\n",
       "        [0.69693243]],\n",
       "\n",
       "       [[0.66184797],\n",
       "        [0.66194078],\n",
       "        [0.66284574],\n",
       "        ...,\n",
       "        [0.69312697],\n",
       "        [0.69693243],\n",
       "        [0.68184982]],\n",
       "\n",
       "       [[0.66194078],\n",
       "        [0.66284574],\n",
       "        [0.65871543],\n",
       "        ...,\n",
       "        [0.69693243],\n",
       "        [0.68184982],\n",
       "        [0.67660572]]])"
      ]
     },
     "execution_count": 7,
     "metadata": {},
     "output_type": "execute_result"
    }
   ],
   "source": [
    "X_train = np.reshape(X_train,(X_train.shape[0],X_train.shape[1],1)) #adding the batch_size axis\n",
    "X_train"
   ]
  },
  {
   "cell_type": "code",
   "execution_count": 8,
   "id": "3f34eefb",
   "metadata": {
    "id": "3f34eefb"
   },
   "outputs": [],
   "source": [
    "model = Sequential()\n",
    "\n",
    "model.add(LSTM(units=100, return_sequences = True, input_shape =(X_train.shape[1],1)))\n",
    "model.add(Dropout(0.2))\n",
    "\n",
    "model.add(LSTM(units=100, return_sequences = True))\n",
    "model.add(Dropout(0.2))\n",
    "\n",
    "model.add(LSTM(units=100, return_sequences = True))\n",
    "model.add(Dropout(0.2))\n",
    "\n",
    "model.add(LSTM(units=100, return_sequences = False))\n",
    "model.add(Dropout(0.2))\n",
    "\n",
    "model.add(Dense(units =1))\n",
    "model.compile(optimizer='adam',loss=\"mean_squared_error\")"
   ]
  },
  {
   "cell_type": "markdown",
   "id": "wW2NzjOvfB8Z",
   "metadata": {
    "id": "wW2NzjOvfB8Z"
   },
   "source": [
    "# New Section"
   ]
  },
  {
   "cell_type": "code",
   "execution_count": null,
   "id": "e139c402",
   "metadata": {
    "id": "e139c402",
    "outputId": "014805ff-1626-4ce2-dc55-d4b77ca12766",
    "scrolled": true
   },
   "outputs": [
    {
     "name": "stdout",
     "output_type": "stream",
     "text": [
      "Epoch 1/20\n",
      "35/35 - 10s - loss: 0.0306 - 10s/epoch - 279ms/step\n",
      "Epoch 2/20\n",
      "35/35 - 4s - loss: 0.0113 - 4s/epoch - 107ms/step\n",
      "Epoch 3/20\n",
      "35/35 - 4s - loss: 0.0091 - 4s/epoch - 114ms/step\n",
      "Epoch 4/20\n",
      "35/35 - 4s - loss: 0.0089 - 4s/epoch - 124ms/step\n",
      "Epoch 5/20\n",
      "35/35 - 4s - loss: 0.0076 - 4s/epoch - 115ms/step\n",
      "Epoch 6/20\n",
      "35/35 - 4s - loss: 0.0078 - 4s/epoch - 123ms/step\n",
      "Epoch 7/20\n",
      "35/35 - 4s - loss: 0.0073 - 4s/epoch - 126ms/step\n",
      "Epoch 8/20\n",
      "35/35 - 4s - loss: 0.0087 - 4s/epoch - 123ms/step\n",
      "Epoch 9/20\n",
      "35/35 - 4s - loss: 0.0063 - 4s/epoch - 124ms/step\n",
      "Epoch 10/20\n",
      "35/35 - 4s - loss: 0.0069 - 4s/epoch - 127ms/step\n",
      "Epoch 11/20\n"
     ]
    }
   ],
   "source": [
    "hist = model.fit(X_train, y_train, epochs = 20, batch_size = 32, verbose=2)"
   ]
  },
  {
   "cell_type": "code",
   "execution_count": 9,
   "id": "f21244ba",
   "metadata": {
    "id": "f21244ba",
    "outputId": "87756895-15f7-4165-c9d6-638fa1c43e24"
   },
   "outputs": [
    {
     "data": {
      "image/png": "[encoded data removed]",
      "text/plain": [
       "<Figure size 640x480 with 1 Axes>"
      ]
     },
     "metadata": {},
     "output_type": "display_data"
    }
   ],
   "source": [
    "plt.plot(hist.history['loss'])\n",
    "plt.title('Training model loss')\n",
    "plt.ylabel('loss')\n",
    "plt.xlabel('epoch')\n",
    "plt.legend(['train'], loc='upper left')\n",
    "plt.show()"
   ]
  },
  {
   "cell_type": "code",
   "execution_count": 10,
   "id": "c206450e",
   "metadata": {
    "id": "c206450e",
    "outputId": "d5ae7357-6ccc-4c4e-b16f-4a1b730fb23c"
   },
   "outputs": [
    {
     "data": {
      "text/plain": [
       "(192, 60, 1)"
      ]
     },
     "execution_count": 10,
     "metadata": {},
     "output_type": "execute_result"
    }
   ],
   "source": [
    "testData = pd.read_csv('Google_test_data.csv')\n",
    "testData[\"Close\"]=pd.to_numeric(testData.Close,errors='coerce')\n",
    "testData = testData.dropna()\n",
    "testData = testData.iloc[:,4:5]\n",
    "y_test = testData.iloc[60:,0:].values \n",
    "#input array for the model\n",
    "inputClosing = testData.iloc[:,0:].values \n",
    "inputClosing_scaled = sc.transform(inputClosing)\n",
    "inputClosing_scaled.shape\n",
    "X_test = []\n",
    "length = len(testData)\n",
    "timestep = 60\n",
    "for i in range(timestep,length):  \n",
    "    X_test.append(inputClosing_scaled[i-timestep:i,0])\n",
    "X_test = np.array(X_test)\n",
    "X_test = np.reshape(X_test,(X_test.shape[0],X_test.shape[1],1))\n",
    "X_test.shape"
   ]
  },
  {
   "cell_type": "code",
   "execution_count": 11,
   "id": "16f7e8d0",
   "metadata": {
    "id": "16f7e8d0",
    "outputId": "ee71d80e-64fd-4696-dd1d-a6c554681ba2"
   },
   "outputs": [
    {
     "name": "stdout",
     "output_type": "stream",
     "text": [
      "6/6 [==============================] - 2s 61ms/step\n"
     ]
    },
    {
     "data": {
      "text/plain": [
       "array([[1.1663508],\n",
       "       [1.169221 ],\n",
       "       [1.1819624],\n",
       "       [1.2003226],\n",
       "       [1.2134799],\n",
       "       [1.210137 ],\n",
       "       [1.1925853],\n",
       "       [1.1713969],\n",
       "       [1.1598241],\n",
       "       [1.1589342],\n",
       "       [1.1534168],\n",
       "       [1.1424274],\n",
       "       [1.1329678],\n",
       "       [1.1244907],\n",
       "       [1.1243848],\n",
       "       [1.1311469],\n",
       "       [1.1524259],\n",
       "       [1.1836051],\n",
       "       [1.2170534],\n",
       "       [1.2483076],\n",
       "       [1.25644  ],\n",
       "       [1.2470568],\n",
       "       [1.220316 ],\n",
       "       [1.1867204],\n",
       "       [1.1597065],\n",
       "       [1.1477545],\n",
       "       [1.1490332],\n",
       "       [1.1525224],\n",
       "       [1.1466042],\n",
       "       [1.1357535],\n",
       "       [1.123649 ],\n",
       "       [1.1099408],\n",
       "       [1.0888332],\n",
       "       [1.0630997],\n",
       "       [1.055664 ],\n",
       "       [1.0703151],\n",
       "       [1.0968517],\n",
       "       [1.1239148],\n",
       "       [1.1471443],\n",
       "       [1.1557885],\n",
       "       [1.1650857],\n",
       "       [1.1781164],\n",
       "       [1.1943394],\n",
       "       [1.2093052],\n",
       "       [1.2184117],\n",
       "       [1.2170749],\n",
       "       [1.2040222],\n",
       "       [1.1939691],\n",
       "       [1.1927027],\n",
       "       [1.2011476],\n",
       "       [1.2170936],\n",
       "       [1.226873 ],\n",
       "       [1.2285879],\n",
       "       [1.2241493],\n",
       "       [1.2219942],\n",
       "       [1.217945 ],\n",
       "       [1.2089434],\n",
       "       [1.2053882],\n",
       "       [1.2170098],\n",
       "       [1.2379097],\n",
       "       [1.2661461],\n",
       "       [1.2983671],\n",
       "       [1.3181342],\n",
       "       [1.317015 ],\n",
       "       [1.2993827],\n",
       "       [1.2750814],\n",
       "       [1.2605766],\n",
       "       [1.2582979],\n",
       "       [1.2648335],\n",
       "       [1.2724983],\n",
       "       [1.279184 ],\n",
       "       [1.2825055],\n",
       "       [1.2775517],\n",
       "       [1.2708628],\n",
       "       [1.2657582],\n",
       "       [1.2649906],\n",
       "       [1.2680737],\n",
       "       [1.274135 ],\n",
       "       [1.2873567],\n",
       "       [1.3064692],\n",
       "       [1.3302926],\n",
       "       [1.351723 ],\n",
       "       [1.3616091],\n",
       "       [1.3597234],\n",
       "       [1.3611377],\n",
       "       [1.3736632],\n",
       "       [1.3926367],\n",
       "       [1.4082555],\n",
       "       [1.4160196],\n",
       "       [1.416296 ],\n",
       "       [1.4165922],\n",
       "       [1.4267224],\n",
       "       [1.4457651],\n",
       "       [1.4576652],\n",
       "       [1.4546307],\n",
       "       [1.4382262],\n",
       "       [1.4128392],\n",
       "       [1.3856133],\n",
       "       [1.3650583],\n",
       "       [1.3611513],\n",
       "       [1.3728093],\n",
       "       [1.3938477],\n",
       "       [1.4189168],\n",
       "       [1.4386867],\n",
       "       [1.4486281],\n",
       "       [1.44763  ],\n",
       "       [1.4413823],\n",
       "       [1.4349512],\n",
       "       [1.4348346],\n",
       "       [1.4409485],\n",
       "       [1.4515642],\n",
       "       [1.4656602],\n",
       "       [1.4791244],\n",
       "       [1.4930098],\n",
       "       [1.5102183],\n",
       "       [1.5238494],\n",
       "       [1.5334761],\n",
       "       [1.5415989],\n",
       "       [1.5529336],\n",
       "       [1.529404 ],\n",
       "       [1.4729688],\n",
       "       [1.4055842],\n",
       "       [1.356373 ],\n",
       "       [1.3348389],\n",
       "       [1.3313705],\n",
       "       [1.3353359],\n",
       "       [1.3404156],\n",
       "       [1.3455575],\n",
       "       [1.3400832],\n",
       "       [1.3230044],\n",
       "       [1.3158373],\n",
       "       [1.3267624],\n",
       "       [1.3440653],\n",
       "       [1.3518692],\n",
       "       [1.351936 ],\n",
       "       [1.3486228],\n",
       "       [1.3415025],\n",
       "       [1.3305117],\n",
       "       [1.3189381],\n",
       "       [1.3040892],\n",
       "       [1.2892387],\n",
       "       [1.2732716],\n",
       "       [1.2380387],\n",
       "       [1.1964532],\n",
       "       [1.1580924],\n",
       "       [1.1310016],\n",
       "       [1.1239051],\n",
       "       [1.1379181],\n",
       "       [1.1640265],\n",
       "       [1.1915317],\n",
       "       [1.2167063],\n",
       "       [1.2352663],\n",
       "       [1.2478082],\n",
       "       [1.2580284],\n",
       "       [1.26573  ],\n",
       "       [1.2728299],\n",
       "       [1.2817675],\n",
       "       [1.2889724],\n",
       "       [1.2837719],\n",
       "       [1.2661518],\n",
       "       [1.242136 ],\n",
       "       [1.220686 ],\n",
       "       [1.2114848],\n",
       "       [1.2181045],\n",
       "       [1.237971 ],\n",
       "       [1.2657298],\n",
       "       [1.2885374],\n",
       "       [1.3037517],\n",
       "       [1.3161095],\n",
       "       [1.3272183],\n",
       "       [1.3361051],\n",
       "       [1.3431953],\n",
       "       [1.3488123],\n",
       "       [1.3500777],\n",
       "       [1.3472751],\n",
       "       [1.3370708],\n",
       "       [1.3252463],\n",
       "       [1.3183047],\n",
       "       [1.3144766],\n",
       "       [1.3108088],\n",
       "       [1.344175 ],\n",
       "       [1.402414 ],\n",
       "       [1.4582075],\n",
       "       [1.4930109],\n",
       "       [1.5019182],\n",
       "       [1.4870532],\n",
       "       [1.4459276],\n",
       "       [1.4004202],\n",
       "       [1.3659158],\n",
       "       [1.357463 ],\n",
       "       [1.3645108],\n",
       "       [1.3729746]], dtype=float32)"
      ]
     },
     "execution_count": 11,
     "metadata": {},
     "output_type": "execute_result"
    }
   ],
   "source": [
    "y_pred = model.predict(X_test)\n",
    "y_pred"
   ]
  },
  {
   "cell_type": "code",
   "execution_count": 12,
   "id": "d5efe220",
   "metadata": {
    "id": "d5efe220"
   },
   "outputs": [],
   "source": [
    "predicted_price = sc.inverse_transform(y_pred)"
   ]
  },
  {
   "cell_type": "code",
   "execution_count": 14,
   "id": "36206f9b",
   "metadata": {
    "id": "36206f9b",
    "outputId": "0394e3d5-8eaa-4075-ac62-a1253c5dbd3b"
   },
   "outputs": [
    {
     "data": {
      "image/png": "[encoded data removed]",
      "text/plain": [
       "<Figure size 640x480 with 1 Axes>"
      ]
     },
     "metadata": {},
     "output_type": "display_data"
    }
   ],
   "source": [
    "plt.plot(y_test, color = 'red', label = 'Actual Stock Price')\n",
    "plt.plot(predicted_price, color = 'green', label = 'Predicted Stock Price')\n",
    "plt.title('Google stock price prediction')\n",
    "plt.xlabel('Time')\n",
    "plt.ylabel('Stock Price')\n",
    "plt.legend()\n",
    "plt.show()"
   ]
  },
  {
   "cell_type": "code",
   "execution_count": null,
   "id": "06d50d1f",
   "metadata": {
    "id": "06d50d1f"
   },
   "outputs": [],
   "source": []
  },
  {
   "cell_type": "code",
   "execution_count": null,
   "id": "e765fdf3",
   "metadata": {
    "id": "e765fdf3"
   },
   "outputs": [],
   "source": []
  }
 ],
 "metadata": {
  "colab": {
   "provenance": []
  },
  "kernelspec": {
   "display_name": "Python 3 (ipykernel)",
   "language": "python",
   "name": "python3"
  },
  "language_info": {
   "codemirror_mode": {
    "name": "ipython",
    "version": 3
   },
   "file_extension": ".py",
   "mimetype": "text/x-python",
   "name": "python",
   "nbconvert_exporter": "python",
   "pygments_lexer": "ipython3",
   "version": "3.9.13"
  }
 },
 "nbformat": 4,
 "nbformat_minor": 5
}
