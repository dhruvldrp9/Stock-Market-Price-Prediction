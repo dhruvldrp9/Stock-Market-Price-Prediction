{
 "cells": [
  {
   "cell_type": "code",
   "execution_count": 1,
   "id": "baeea78d",
   "metadata": {},
   "outputs": [],
   "source": [
    "import pandas as pd\n",
    "import yfinance as yf\n",
    "from datetime import date"
   ]
  },
  {
   "cell_type": "code",
   "execution_count": 2,
   "id": "9b776199",
   "metadata": {},
   "outputs": [],
   "source": [
    "# data = yf.download(\"NIFTY\", start=\"2010-01-01\", end=\"2021-7-20\")\n",
    "data = pd.read_csv(\"NIFTY50_Data.csv\")"
   ]
  },
  {
   "cell_type": "code",
   "execution_count": 3,
   "id": "cade6826",
   "metadata": {},
   "outputs": [
    {
     "data": {
      "text/html": [
       "<div>\n",
       "<style scoped>\n",
       "    .dataframe tbody tr th:only-of-type {\n",
       "        vertical-align: middle;\n",
       "    }\n",
       "\n",
       "    .dataframe tbody tr th {\n",
       "        vertical-align: top;\n",
       "    }\n",
       "\n",
       "    .dataframe thead th {\n",
       "        text-align: right;\n",
       "    }\n",
       "</style>\n",
       "<table border=\"1\" class=\"dataframe\">\n",
       "  <thead>\n",
       "    <tr style=\"text-align: right;\">\n",
       "      <th></th>\n",
       "      <th>Date</th>\n",
       "      <th>Open</th>\n",
       "      <th>High</th>\n",
       "      <th>Low</th>\n",
       "      <th>Close</th>\n",
       "    </tr>\n",
       "  </thead>\n",
       "  <tbody>\n",
       "    <tr>\n",
       "      <th>0</th>\n",
       "      <td>5-Jan-22</td>\n",
       "      <td>17820.10</td>\n",
       "      <td>17944.70</td>\n",
       "      <td>17748.85</td>\n",
       "      <td>17925.25</td>\n",
       "    </tr>\n",
       "    <tr>\n",
       "      <th>1</th>\n",
       "      <td>6-Jan-22</td>\n",
       "      <td>17768.50</td>\n",
       "      <td>17797.95</td>\n",
       "      <td>17655.55</td>\n",
       "      <td>17745.90</td>\n",
       "    </tr>\n",
       "    <tr>\n",
       "      <th>2</th>\n",
       "      <td>7-Jan-22</td>\n",
       "      <td>17797.60</td>\n",
       "      <td>17905.00</td>\n",
       "      <td>17704.55</td>\n",
       "      <td>17812.70</td>\n",
       "    </tr>\n",
       "    <tr>\n",
       "      <th>3</th>\n",
       "      <td>10-Jan-22</td>\n",
       "      <td>17913.30</td>\n",
       "      <td>18017.45</td>\n",
       "      <td>17879.15</td>\n",
       "      <td>18003.30</td>\n",
       "    </tr>\n",
       "    <tr>\n",
       "      <th>4</th>\n",
       "      <td>11-Jan-22</td>\n",
       "      <td>17997.75</td>\n",
       "      <td>18081.25</td>\n",
       "      <td>17964.40</td>\n",
       "      <td>18055.75</td>\n",
       "    </tr>\n",
       "    <tr>\n",
       "      <th>...</th>\n",
       "      <td>...</td>\n",
       "      <td>...</td>\n",
       "      <td>...</td>\n",
       "      <td>...</td>\n",
       "      <td>...</td>\n",
       "    </tr>\n",
       "    <tr>\n",
       "      <th>317</th>\n",
       "      <td>19-Apr-23</td>\n",
       "      <td>17653.35</td>\n",
       "      <td>17666.15</td>\n",
       "      <td>17579.85</td>\n",
       "      <td>17618.75</td>\n",
       "    </tr>\n",
       "    <tr>\n",
       "      <th>318</th>\n",
       "      <td>20-Apr-23</td>\n",
       "      <td>17638.60</td>\n",
       "      <td>17684.45</td>\n",
       "      <td>17584.35</td>\n",
       "      <td>17624.45</td>\n",
       "    </tr>\n",
       "    <tr>\n",
       "      <th>319</th>\n",
       "      <td>21-Apr-23</td>\n",
       "      <td>17639.75</td>\n",
       "      <td>17663.20</td>\n",
       "      <td>17553.95</td>\n",
       "      <td>17624.05</td>\n",
       "    </tr>\n",
       "    <tr>\n",
       "      <th>320</th>\n",
       "      <td>24-Apr-23</td>\n",
       "      <td>17707.55</td>\n",
       "      <td>17754.50</td>\n",
       "      <td>17612.50</td>\n",
       "      <td>17743.40</td>\n",
       "    </tr>\n",
       "    <tr>\n",
       "      <th>321</th>\n",
       "      <td>25-Apr-23</td>\n",
       "      <td>17761.55</td>\n",
       "      <td>17807.45</td>\n",
       "      <td>17716.85</td>\n",
       "      <td>17769.25</td>\n",
       "    </tr>\n",
       "  </tbody>\n",
       "</table>\n",
       "<p>322 rows × 5 columns</p>\n",
       "</div>"
      ],
      "text/plain": [
       "          Date      Open      High       Low     Close\n",
       "0     5-Jan-22  17820.10  17944.70  17748.85  17925.25\n",
       "1     6-Jan-22  17768.50  17797.95  17655.55  17745.90\n",
       "2     7-Jan-22  17797.60  17905.00  17704.55  17812.70\n",
       "3    10-Jan-22  17913.30  18017.45  17879.15  18003.30\n",
       "4    11-Jan-22  17997.75  18081.25  17964.40  18055.75\n",
       "..         ...       ...       ...       ...       ...\n",
       "317  19-Apr-23  17653.35  17666.15  17579.85  17618.75\n",
       "318  20-Apr-23  17638.60  17684.45  17584.35  17624.45\n",
       "319  21-Apr-23  17639.75  17663.20  17553.95  17624.05\n",
       "320  24-Apr-23  17707.55  17754.50  17612.50  17743.40\n",
       "321  25-Apr-23  17761.55  17807.45  17716.85  17769.25\n",
       "\n",
       "[322 rows x 5 columns]"
      ]
     },
     "execution_count": 3,
     "metadata": {},
     "output_type": "execute_result"
    }
   ],
   "source": [
    "data"
   ]
  },
  {
   "cell_type": "code",
   "execution_count": 4,
   "id": "e55c0fc2",
   "metadata": {},
   "outputs": [
    {
     "data": {
      "text/plain": [
       "(322, 5)"
      ]
     },
     "execution_count": 4,
     "metadata": {},
     "output_type": "execute_result"
    }
   ],
   "source": [
    "data.shape"
   ]
  },
  {
   "cell_type": "code",
   "execution_count": 5,
   "id": "130a0d26",
   "metadata": {},
   "outputs": [
    {
     "data": {
      "text/html": [
       "<div>\n",
       "<style scoped>\n",
       "    .dataframe tbody tr th:only-of-type {\n",
       "        vertical-align: middle;\n",
       "    }\n",
       "\n",
       "    .dataframe tbody tr th {\n",
       "        vertical-align: top;\n",
       "    }\n",
       "\n",
       "    .dataframe thead th {\n",
       "        text-align: right;\n",
       "    }\n",
       "</style>\n",
       "<table border=\"1\" class=\"dataframe\">\n",
       "  <thead>\n",
       "    <tr style=\"text-align: right;\">\n",
       "      <th></th>\n",
       "      <th>Date</th>\n",
       "      <th>Open</th>\n",
       "      <th>High</th>\n",
       "      <th>Low</th>\n",
       "      <th>Close</th>\n",
       "    </tr>\n",
       "  </thead>\n",
       "  <tbody>\n",
       "    <tr>\n",
       "      <th>0</th>\n",
       "      <td>5-Jan-22</td>\n",
       "      <td>17820.10</td>\n",
       "      <td>17944.70</td>\n",
       "      <td>17748.85</td>\n",
       "      <td>17925.25</td>\n",
       "    </tr>\n",
       "    <tr>\n",
       "      <th>1</th>\n",
       "      <td>6-Jan-22</td>\n",
       "      <td>17768.50</td>\n",
       "      <td>17797.95</td>\n",
       "      <td>17655.55</td>\n",
       "      <td>17745.90</td>\n",
       "    </tr>\n",
       "    <tr>\n",
       "      <th>2</th>\n",
       "      <td>7-Jan-22</td>\n",
       "      <td>17797.60</td>\n",
       "      <td>17905.00</td>\n",
       "      <td>17704.55</td>\n",
       "      <td>17812.70</td>\n",
       "    </tr>\n",
       "    <tr>\n",
       "      <th>3</th>\n",
       "      <td>10-Jan-22</td>\n",
       "      <td>17913.30</td>\n",
       "      <td>18017.45</td>\n",
       "      <td>17879.15</td>\n",
       "      <td>18003.30</td>\n",
       "    </tr>\n",
       "    <tr>\n",
       "      <th>4</th>\n",
       "      <td>11-Jan-22</td>\n",
       "      <td>17997.75</td>\n",
       "      <td>18081.25</td>\n",
       "      <td>17964.40</td>\n",
       "      <td>18055.75</td>\n",
       "    </tr>\n",
       "  </tbody>\n",
       "</table>\n",
       "</div>"
      ],
      "text/plain": [
       "        Date      Open      High       Low     Close\n",
       "0   5-Jan-22  17820.10  17944.70  17748.85  17925.25\n",
       "1   6-Jan-22  17768.50  17797.95  17655.55  17745.90\n",
       "2   7-Jan-22  17797.60  17905.00  17704.55  17812.70\n",
       "3  10-Jan-22  17913.30  18017.45  17879.15  18003.30\n",
       "4  11-Jan-22  17997.75  18081.25  17964.40  18055.75"
      ]
     },
     "execution_count": 5,
     "metadata": {},
     "output_type": "execute_result"
    }
   ],
   "source": [
    "data.head()"
   ]
  },
  {
   "cell_type": "code",
   "execution_count": 6,
   "id": "78ba6bf6",
   "metadata": {},
   "outputs": [
    {
     "data": {
      "text/html": [
       "<div>\n",
       "<style scoped>\n",
       "    .dataframe tbody tr th:only-of-type {\n",
       "        vertical-align: middle;\n",
       "    }\n",
       "\n",
       "    .dataframe tbody tr th {\n",
       "        vertical-align: top;\n",
       "    }\n",
       "\n",
       "    .dataframe thead th {\n",
       "        text-align: right;\n",
       "    }\n",
       "</style>\n",
       "<table border=\"1\" class=\"dataframe\">\n",
       "  <thead>\n",
       "    <tr style=\"text-align: right;\">\n",
       "      <th></th>\n",
       "      <th>Date</th>\n",
       "      <th>Open</th>\n",
       "      <th>High</th>\n",
       "      <th>Low</th>\n",
       "      <th>Close</th>\n",
       "    </tr>\n",
       "  </thead>\n",
       "  <tbody>\n",
       "    <tr>\n",
       "      <th>317</th>\n",
       "      <td>19-Apr-23</td>\n",
       "      <td>17653.35</td>\n",
       "      <td>17666.15</td>\n",
       "      <td>17579.85</td>\n",
       "      <td>17618.75</td>\n",
       "    </tr>\n",
       "    <tr>\n",
       "      <th>318</th>\n",
       "      <td>20-Apr-23</td>\n",
       "      <td>17638.60</td>\n",
       "      <td>17684.45</td>\n",
       "      <td>17584.35</td>\n",
       "      <td>17624.45</td>\n",
       "    </tr>\n",
       "    <tr>\n",
       "      <th>319</th>\n",
       "      <td>21-Apr-23</td>\n",
       "      <td>17639.75</td>\n",
       "      <td>17663.20</td>\n",
       "      <td>17553.95</td>\n",
       "      <td>17624.05</td>\n",
       "    </tr>\n",
       "    <tr>\n",
       "      <th>320</th>\n",
       "      <td>24-Apr-23</td>\n",
       "      <td>17707.55</td>\n",
       "      <td>17754.50</td>\n",
       "      <td>17612.50</td>\n",
       "      <td>17743.40</td>\n",
       "    </tr>\n",
       "    <tr>\n",
       "      <th>321</th>\n",
       "      <td>25-Apr-23</td>\n",
       "      <td>17761.55</td>\n",
       "      <td>17807.45</td>\n",
       "      <td>17716.85</td>\n",
       "      <td>17769.25</td>\n",
       "    </tr>\n",
       "  </tbody>\n",
       "</table>\n",
       "</div>"
      ],
      "text/plain": [
       "          Date      Open      High       Low     Close\n",
       "317  19-Apr-23  17653.35  17666.15  17579.85  17618.75\n",
       "318  20-Apr-23  17638.60  17684.45  17584.35  17624.45\n",
       "319  21-Apr-23  17639.75  17663.20  17553.95  17624.05\n",
       "320  24-Apr-23  17707.55  17754.50  17612.50  17743.40\n",
       "321  25-Apr-23  17761.55  17807.45  17716.85  17769.25"
      ]
     },
     "execution_count": 6,
     "metadata": {},
     "output_type": "execute_result"
    }
   ],
   "source": [
    "data.tail()"
   ]
  },
  {
   "cell_type": "code",
   "execution_count": 7,
   "id": "752c07bc",
   "metadata": {},
   "outputs": [],
   "source": [
    "close = data[['Close']]"
   ]
  },
  {
   "cell_type": "code",
   "execution_count": 8,
   "id": "897a43b3",
   "metadata": {},
   "outputs": [
    {
     "data": {
      "text/plain": [
       "<AxesSubplot:>"
      ]
     },
     "execution_count": 8,
     "metadata": {},
     "output_type": "execute_result"
    },
    {
     "data": {
      "image/png": "[encoded data removed]",
      "text/plain": [
       "<Figure size 432x288 with 1 Axes>"
      ]
     },
     "metadata": {
      "needs_background": "light"
     },
     "output_type": "display_data"
    }
   ],
   "source": [
    "close.plot()"
   ]
  },
  {
   "cell_type": "code",
   "execution_count": 9,
   "id": "6a5dfab2",
   "metadata": {},
   "outputs": [],
   "source": [
    "import matplotlib.pyplot as plt"
   ]
  },
  {
   "cell_type": "code",
   "execution_count": 10,
   "id": "23897fe6",
   "metadata": {},
   "outputs": [],
   "source": [
    "ds = close.values"
   ]
  },
  {
   "cell_type": "code",
   "execution_count": 11,
   "id": "73b96f30",
   "metadata": {},
   "outputs": [
    {
     "data": {
      "text/plain": [
       "array([[17925.25],\n",
       "       [17745.9 ],\n",
       "       [17812.7 ],\n",
       "       [18003.3 ],\n",
       "       [18055.75],\n",
       "       [18212.35],\n",
       "       [18257.8 ],\n",
       "       [18255.75],\n",
       "       [18308.1 ],\n",
       "       [18113.05],\n",
       "       [17938.4 ],\n",
       "       [17757.  ],\n",
       "       [17617.15],\n",
       "       [17149.1 ],\n",
       "       [17277.95],\n",
       "       [17110.15],\n",
       "       [17101.95],\n",
       "       [17339.85],\n",
       "       [17576.85],\n",
       "       [17780.  ],\n",
       "       [17560.2 ],\n",
       "       [17516.3 ],\n",
       "       [17213.6 ],\n",
       "       [17266.75],\n",
       "       [17463.8 ],\n",
       "       [17605.85],\n",
       "       [17374.75],\n",
       "       [16842.8 ],\n",
       "       [17352.45],\n",
       "       [17322.2 ],\n",
       "       [17304.6 ],\n",
       "       [17276.3 ],\n",
       "       [17206.65],\n",
       "       [17092.2 ],\n",
       "       [17063.25],\n",
       "       [16247.95],\n",
       "       [16658.4 ],\n",
       "       [16793.9 ],\n",
       "       [16605.95],\n",
       "       [16498.05],\n",
       "       [16245.35],\n",
       "       [15863.15],\n",
       "       [16013.45],\n",
       "       [16345.35],\n",
       "       [16594.9 ],\n",
       "       [16630.45],\n",
       "       [16871.3 ],\n",
       "       [16663.  ],\n",
       "       [16975.35],\n",
       "       [17287.05],\n",
       "       [17117.6 ],\n",
       "       [17315.5 ],\n",
       "       [17245.65],\n",
       "       [17222.75],\n",
       "       [17153.  ],\n",
       "       [17222.  ],\n",
       "       [17325.3 ],\n",
       "       [17498.25],\n",
       "       [17464.75],\n",
       "       [17670.45],\n",
       "       [18053.4 ],\n",
       "       [17957.4 ],\n",
       "       [17807.65],\n",
       "       [17639.55],\n",
       "       [17784.35],\n",
       "       [17674.95],\n",
       "       [17530.3 ],\n",
       "       [17475.65],\n",
       "       [17173.65],\n",
       "       [16958.65],\n",
       "       [17136.55],\n",
       "       [17392.6 ],\n",
       "       [17171.95],\n",
       "       [16953.95],\n",
       "       [17200.8 ],\n",
       "       [17038.4 ],\n",
       "       [17245.05],\n",
       "       [17102.55],\n",
       "       [17069.1 ],\n",
       "       [16677.6 ],\n",
       "       [16682.65],\n",
       "       [16411.25],\n",
       "       [16301.85],\n",
       "       [16240.05],\n",
       "       [16167.1 ],\n",
       "       [15808.  ],\n",
       "       [15782.15],\n",
       "       [15842.3 ],\n",
       "       [16259.3 ],\n",
       "       [16240.3 ],\n",
       "       [15809.4 ],\n",
       "       [16266.15],\n",
       "       [16214.7 ],\n",
       "       [16125.15],\n",
       "       [16025.8 ],\n",
       "       [16170.15],\n",
       "       [16352.45],\n",
       "       [16661.4 ],\n",
       "       [16584.55],\n",
       "       [16522.75],\n",
       "       [16628.  ],\n",
       "       [16584.3 ],\n",
       "       [16569.55],\n",
       "       [16416.35],\n",
       "       [16356.25],\n",
       "       [16478.1 ],\n",
       "       [16201.8 ],\n",
       "       [15774.4 ],\n",
       "       [15732.1 ],\n",
       "       [15692.15],\n",
       "       [15360.6 ],\n",
       "       [15293.5 ],\n",
       "       [15350.15],\n",
       "       [15638.8 ],\n",
       "       [15413.3 ],\n",
       "       [15556.65],\n",
       "       [15699.25],\n",
       "       [15832.05],\n",
       "       [15850.2 ],\n",
       "       [15799.1 ],\n",
       "       [15780.25],\n",
       "       [15752.05],\n",
       "       [15835.35],\n",
       "       [15810.85],\n",
       "       [15989.8 ],\n",
       "       [16132.9 ],\n",
       "       [16220.6 ],\n",
       "       [16216.  ],\n",
       "       [16058.3 ],\n",
       "       [15966.65],\n",
       "       [15938.65],\n",
       "       [16049.2 ],\n",
       "       [16278.5 ],\n",
       "       [16340.55],\n",
       "       [16520.85],\n",
       "       [16605.25],\n",
       "       [16719.45],\n",
       "       [16631.  ],\n",
       "       [16483.85],\n",
       "       [16641.8 ],\n",
       "       [16929.6 ],\n",
       "       [17158.25],\n",
       "       [17340.05],\n",
       "       [17345.45],\n",
       "       [17388.15],\n",
       "       [17382.  ],\n",
       "       [17397.5 ],\n",
       "       [17525.1 ],\n",
       "       [17534.75],\n",
       "       [17659.  ],\n",
       "       [17698.15],\n",
       "       [17825.25],\n",
       "       [17944.25],\n",
       "       [17956.5 ],\n",
       "       [17758.45],\n",
       "       [17490.7 ],\n",
       "       [17577.5 ],\n",
       "       [17604.95],\n",
       "       [17522.45],\n",
       "       [17558.9 ],\n",
       "       [17312.9 ],\n",
       "       [17759.3 ],\n",
       "       [17542.8 ],\n",
       "       [17539.45],\n",
       "       [17665.8 ],\n",
       "       [17655.6 ],\n",
       "       [17624.4 ],\n",
       "       [17798.75],\n",
       "       [17833.35],\n",
       "       [17936.35],\n",
       "       [18070.05],\n",
       "       [18003.75],\n",
       "       [17877.4 ],\n",
       "       [17530.85],\n",
       "       [17622.25],\n",
       "       [17816.25],\n",
       "       [17718.35],\n",
       "       [17629.8 ],\n",
       "       [17327.35],\n",
       "       [17016.3 ],\n",
       "       [17007.4 ],\n",
       "       [16858.6 ],\n",
       "       [16818.1 ],\n",
       "       [17094.35],\n",
       "       [16887.35],\n",
       "       [17274.3 ],\n",
       "       [17331.8 ],\n",
       "       [17314.65],\n",
       "       [17241.  ],\n",
       "       [16983.55],\n",
       "       [17123.6 ],\n",
       "       [17014.35],\n",
       "       [17185.7 ],\n",
       "       [17311.8 ],\n",
       "       [17486.95],\n",
       "       [17512.25],\n",
       "       [17563.95],\n",
       "       [17576.3 ],\n",
       "       [17730.75],\n",
       "       [17656.35],\n",
       "       [17736.95],\n",
       "       [17786.8 ],\n",
       "       [18012.2 ],\n",
       "       [18145.4 ],\n",
       "       [18082.85],\n",
       "       [18052.7 ],\n",
       "       [18117.15],\n",
       "       [18202.8 ],\n",
       "       [18157.  ],\n",
       "       [18028.2 ],\n",
       "       [18349.7 ],\n",
       "       [18329.15],\n",
       "       [18403.4 ],\n",
       "       [18409.65],\n",
       "       [18343.9 ],\n",
       "       [18307.65],\n",
       "       [18159.95],\n",
       "       [18244.2 ],\n",
       "       [18267.25],\n",
       "       [18484.1 ],\n",
       "       [18512.75],\n",
       "       [18562.75],\n",
       "       [18618.05],\n",
       "       [18758.35],\n",
       "       [18812.5 ],\n",
       "       [18696.1 ],\n",
       "       [18701.05],\n",
       "       [18642.75],\n",
       "       [18560.5 ],\n",
       "       [18609.35],\n",
       "       [18496.6 ],\n",
       "       [18497.15],\n",
       "       [18608.  ],\n",
       "       [18660.3 ],\n",
       "       [18414.9 ],\n",
       "       [18269.  ],\n",
       "       [18420.45],\n",
       "       [18385.3 ],\n",
       "       [18199.1 ],\n",
       "       [18127.35],\n",
       "       [17806.8 ],\n",
       "       [18014.6 ],\n",
       "       [18132.3 ],\n",
       "       [18122.5 ],\n",
       "       [18191.  ],\n",
       "       [18105.3 ],\n",
       "       [18197.45],\n",
       "       [18232.55],\n",
       "       [18042.95],\n",
       "       [17992.15],\n",
       "       [17859.45],\n",
       "       [18101.2 ],\n",
       "       [17914.15],\n",
       "       [17895.7 ],\n",
       "       [17858.2 ],\n",
       "       [17956.6 ],\n",
       "       [17894.85],\n",
       "       [18053.3 ],\n",
       "       [18165.35],\n",
       "       [18107.85],\n",
       "       [18027.65],\n",
       "       [18118.55],\n",
       "       [18118.3 ],\n",
       "       [17891.95],\n",
       "       [17604.35],\n",
       "       [17648.95],\n",
       "       [17662.15],\n",
       "       [17616.3 ],\n",
       "       [17610.4 ],\n",
       "       [17854.05],\n",
       "       [17764.6 ],\n",
       "       [17721.5 ],\n",
       "       [17871.7 ],\n",
       "       [17893.45],\n",
       "       [17856.5 ],\n",
       "       [17770.9 ],\n",
       "       [17929.85],\n",
       "       [18015.85],\n",
       "       [18035.85],\n",
       "       [17944.2 ],\n",
       "       [17844.6 ],\n",
       "       [17826.7 ],\n",
       "       [17554.3 ],\n",
       "       [17511.25],\n",
       "       [17465.8 ],\n",
       "       [17392.7 ],\n",
       "       [17303.95],\n",
       "       [17450.9 ],\n",
       "       [17321.9 ],\n",
       "       [17594.35],\n",
       "       [17711.45],\n",
       "       [17754.4 ],\n",
       "       [17589.6 ],\n",
       "       [17412.9 ],\n",
       "       [17154.3 ],\n",
       "       [17043.3 ],\n",
       "       [16972.15],\n",
       "       [16985.6 ],\n",
       "       [17100.05],\n",
       "       [16988.4 ],\n",
       "       [17107.5 ],\n",
       "       [17151.9 ],\n",
       "       [17076.9 ],\n",
       "       [16945.05],\n",
       "       [16985.7 ],\n",
       "       [16951.7 ],\n",
       "       [17080.7 ],\n",
       "       [17359.75],\n",
       "       [17398.05],\n",
       "       [17557.05],\n",
       "       [17599.15],\n",
       "       [17624.05],\n",
       "       [17722.3 ],\n",
       "       [17812.4 ],\n",
       "       [17828.  ],\n",
       "       [17706.85],\n",
       "       [17660.15],\n",
       "       [17618.75],\n",
       "       [17624.45],\n",
       "       [17624.05],\n",
       "       [17743.4 ],\n",
       "       [17769.25]])"
      ]
     },
     "execution_count": 11,
     "metadata": {},
     "output_type": "execute_result"
    }
   ],
   "source": [
    "ds"
   ]
  },
  {
   "cell_type": "code",
   "execution_count": 12,
   "id": "acbe0873",
   "metadata": {},
   "outputs": [
    {
     "data": {
      "text/plain": [
       "[<matplotlib.lines.Line2D at 0x18d92b64a30>]"
      ]
     },
     "execution_count": 12,
     "metadata": {},
     "output_type": "execute_result"
    },
    {
     "data": {
      "image/png": "[encoded data removed]",
      "text/plain": [
       "<Figure size 432x288 with 1 Axes>"
      ]
     },
     "metadata": {
      "needs_background": "light"
     },
     "output_type": "display_data"
    }
   ],
   "source": [
    "plt.plot(ds)"
   ]
  },
  {
   "cell_type": "code",
   "execution_count": 13,
   "id": "524ac7d3",
   "metadata": {},
   "outputs": [],
   "source": [
    "import numpy as np"
   ]
  },
  {
   "cell_type": "code",
   "execution_count": 14,
   "id": "fe44c06d",
   "metadata": {},
   "outputs": [],
   "source": [
    "from sklearn.preprocessing import MinMaxScaler"
   ]
  },
  {
   "cell_type": "code",
   "execution_count": 15,
   "id": "ecb43b58",
   "metadata": {},
   "outputs": [],
   "source": [
    "#Normalizing values between 0 & 1\n",
    "normalizer = MinMaxScaler(feature_range=(0,1))\n",
    "ds_scald = normalizer.fit_transform(np.array(ds).reshape(-1,1))"
   ]
  },
  {
   "cell_type": "code",
   "execution_count": 16,
   "id": "12cb6a70",
   "metadata": {},
   "outputs": [
    {
     "data": {
      "text/plain": [
       "(322, 322)"
      ]
     },
     "execution_count": 16,
     "metadata": {},
     "output_type": "execute_result"
    }
   ],
   "source": [
    "len(ds_scald), len(ds)"
   ]
  },
  {
   "cell_type": "code",
   "execution_count": 17,
   "id": "4af59bae",
   "metadata": {},
   "outputs": [],
   "source": [
    "#Defining test and train data size\n",
    "train_size = int(len(ds_scald)*0.70)\n",
    "test_size = len(ds_scald) - train_size"
   ]
  },
  {
   "cell_type": "code",
   "execution_count": 18,
   "id": "d6c69732",
   "metadata": {},
   "outputs": [
    {
     "data": {
      "text/plain": [
       "(225, 97)"
      ]
     },
     "execution_count": 18,
     "metadata": {},
     "output_type": "execute_result"
    }
   ],
   "source": [
    " train_size, test_size"
   ]
  },
  {
   "cell_type": "code",
   "execution_count": 19,
   "id": "34123e52",
   "metadata": {},
   "outputs": [],
   "source": [
    "ds_train, ds_test = ds_scald[0:train_size,:], ds_scald[train_size:len(ds_scald),:1]"
   ]
  },
  {
   "cell_type": "code",
   "execution_count": 20,
   "id": "18e289f1",
   "metadata": {},
   "outputs": [
    {
     "data": {
      "text/plain": [
       "numpy.ndarray"
      ]
     },
     "execution_count": 20,
     "metadata": {},
     "output_type": "execute_result"
    }
   ],
   "source": [
    "type(ds_train)"
   ]
  },
  {
   "cell_type": "code",
   "execution_count": 21,
   "id": "3f06b18a",
   "metadata": {},
   "outputs": [
    {
     "data": {
      "text/plain": [
       "(225, 97)"
      ]
     },
     "execution_count": 21,
     "metadata": {},
     "output_type": "execute_result"
    }
   ],
   "source": [
    "len(ds_train), len(ds_test)"
   ]
  },
  {
   "cell_type": "code",
   "execution_count": 22,
   "id": "4bdd2d40",
   "metadata": {},
   "outputs": [],
   "source": [
    "def create_ds(dataset, step):\n",
    "    Xtrain, Ytrain = [],  []\n",
    "    for i in range(len(dataset)-step-1):\n",
    "        a = dataset[i:(i+step), 0]\n",
    "        Xtrain.append(a)\n",
    "        Ytrain.append(dataset[i+step, 0])\n",
    "    return np.array(Xtrain), np.array(Ytrain)"
   ]
  },
  {
   "cell_type": "code",
   "execution_count": 23,
   "id": "abed19d2",
   "metadata": {},
   "outputs": [],
   "source": [
    "time_stamp = 60\n",
    "x_train, y_train = create_ds(ds_train,time_stamp)\n",
    "x_test, y_test = create_ds(ds_test,time_stamp)"
   ]
  },
  {
   "cell_type": "code",
   "execution_count": 24,
   "id": "a3a9db49",
   "metadata": {},
   "outputs": [
    {
     "data": {
      "text/plain": [
       "((164, 60), (164,))"
      ]
     },
     "execution_count": 24,
     "metadata": {},
     "output_type": "execute_result"
    }
   ],
   "source": [
    "x_train.shape, y_train.shape"
   ]
  },
  {
   "cell_type": "code",
   "execution_count": 25,
   "id": "b5c4709f",
   "metadata": {},
   "outputs": [
    {
     "data": {
      "text/plain": [
       "((36, 60), (36,))"
      ]
     },
     "execution_count": 25,
     "metadata": {},
     "output_type": "execute_result"
    }
   ],
   "source": [
    "x_test.shape, y_test.shape"
   ]
  },
  {
   "cell_type": "code",
   "execution_count": 26,
   "id": "c6086a2e",
   "metadata": {},
   "outputs": [],
   "source": [
    "#Reshaping\n",
    "x_train = x_train.reshape(x_train.shape[0], x_train.shape[1], 1)\n",
    "x_test = x_test.reshape(x_test.shape[0],x_test.shape[1],1)"
   ]
  },
  {
   "cell_type": "code",
   "execution_count": 27,
   "id": "b8d66d45",
   "metadata": {},
   "outputs": [],
   "source": [
    "from keras.models import Sequential\n",
    "from keras.layers import Dense, LSTM"
   ]
  },
  {
   "cell_type": "code",
   "execution_count": 28,
   "id": "f13014c2",
   "metadata": {},
   "outputs": [
    {
     "name": "stdout",
     "output_type": "stream",
     "text": [
      "Model: \"sequential\"\n",
      "_________________________________________________________________\n",
      " Layer (type)                Output Shape              Param #   \n",
      "=================================================================\n",
      " lstm (LSTM)                 (None, 60, 50)            10400     \n",
      "                                                                 \n",
      " lstm_1 (LSTM)               (None, 60, 50)            20200     \n",
      "                                                                 \n",
      " lstm_2 (LSTM)               (None, 50)                20200     \n",
      "                                                                 \n",
      " dense (Dense)               (None, 1)                 51        \n",
      "                                                                 \n",
      "=================================================================\n",
      "Total params: 50,851\n",
      "Trainable params: 50,851\n",
      "Non-trainable params: 0\n",
      "_________________________________________________________________\n"
     ]
    }
   ],
   "source": [
    "model = Sequential()\n",
    "model.add(LSTM(units=50,return_sequences=True,input_shape=(x_train.shape[1],1)))\n",
    "model.add(LSTM(units=50,return_sequences=True))\n",
    "model.add(LSTM(units=50))\n",
    "model.add(Dense(units=1,activation='linear'))\n",
    "model.summary()"
   ]
  },
  {
   "cell_type": "code",
   "execution_count": 29,
   "id": "cb09a191",
   "metadata": {},
   "outputs": [
    {
     "name": "stdout",
     "output_type": "stream",
     "text": [
      "Epoch 1/100\n",
      "3/3 [==============================] - 5s 516ms/step - loss: 0.2667 - val_loss: 0.1235\n",
      "Epoch 2/100\n",
      "3/3 [==============================] - 0s 109ms/step - loss: 0.0948 - val_loss: 0.0315\n",
      "Epoch 3/100\n",
      "3/3 [==============================] - 0s 102ms/step - loss: 0.0643 - val_loss: 0.0414\n",
      "Epoch 4/100\n",
      "3/3 [==============================] - 0s 108ms/step - loss: 0.0366 - val_loss: 0.0134\n",
      "Epoch 5/100\n",
      "3/3 [==============================] - 0s 108ms/step - loss: 0.0378 - val_loss: 0.0271\n",
      "Epoch 6/100\n",
      "3/3 [==============================] - 0s 89ms/step - loss: 0.0424 - val_loss: 0.0173\n",
      "Epoch 7/100\n",
      "3/3 [==============================] - 0s 90ms/step - loss: 0.0326 - val_loss: 0.0096\n",
      "Epoch 8/100\n",
      "3/3 [==============================] - 0s 95ms/step - loss: 0.0266 - val_loss: 0.0157\n",
      "Epoch 9/100\n",
      "3/3 [==============================] - 0s 119ms/step - loss: 0.0303 - val_loss: 0.0155\n",
      "Epoch 10/100\n",
      "3/3 [==============================] - 0s 107ms/step - loss: 0.0279 - val_loss: 0.0097\n",
      "Epoch 11/100\n",
      "3/3 [==============================] - 0s 92ms/step - loss: 0.0250 - val_loss: 0.0103\n",
      "Epoch 12/100\n",
      "3/3 [==============================] - 0s 100ms/step - loss: 0.0256 - val_loss: 0.0108\n",
      "Epoch 13/100\n",
      "3/3 [==============================] - 0s 90ms/step - loss: 0.0248 - val_loss: 0.0095\n",
      "Epoch 14/100\n",
      "3/3 [==============================] - 0s 104ms/step - loss: 0.0233 - val_loss: 0.0100\n",
      "Epoch 15/100\n",
      "3/3 [==============================] - 0s 90ms/step - loss: 0.0223 - val_loss: 0.0101\n",
      "Epoch 16/100\n",
      "3/3 [==============================] - 0s 105ms/step - loss: 0.0213 - val_loss: 0.0095\n",
      "Epoch 17/100\n",
      "3/3 [==============================] - 0s 101ms/step - loss: 0.0206 - val_loss: 0.0098\n",
      "Epoch 18/100\n",
      "3/3 [==============================] - 0s 105ms/step - loss: 0.0200 - val_loss: 0.0096\n",
      "Epoch 19/100\n",
      "3/3 [==============================] - 0s 89ms/step - loss: 0.0190 - val_loss: 0.0099\n",
      "Epoch 20/100\n",
      "3/3 [==============================] - 0s 86ms/step - loss: 0.0188 - val_loss: 0.0096\n",
      "Epoch 21/100\n",
      "3/3 [==============================] - 0s 96ms/step - loss: 0.0178 - val_loss: 0.0097\n",
      "Epoch 22/100\n",
      "3/3 [==============================] - 0s 93ms/step - loss: 0.0173 - val_loss: 0.0104\n",
      "Epoch 23/100\n",
      "3/3 [==============================] - 0s 105ms/step - loss: 0.0168 - val_loss: 0.0097\n",
      "Epoch 24/100\n",
      "3/3 [==============================] - 0s 100ms/step - loss: 0.0162 - val_loss: 0.0092\n",
      "Epoch 25/100\n",
      "3/3 [==============================] - 0s 89ms/step - loss: 0.0160 - val_loss: 0.0096\n",
      "Epoch 26/100\n",
      "3/3 [==============================] - 0s 90ms/step - loss: 0.0158 - val_loss: 0.0110\n",
      "Epoch 27/100\n",
      "3/3 [==============================] - 0s 101ms/step - loss: 0.0154 - val_loss: 0.0091\n",
      "Epoch 28/100\n",
      "3/3 [==============================] - 0s 89ms/step - loss: 0.0151 - val_loss: 0.0096\n",
      "Epoch 29/100\n",
      "3/3 [==============================] - 0s 108ms/step - loss: 0.0154 - val_loss: 0.0112\n",
      "Epoch 30/100\n",
      "3/3 [==============================] - 0s 122ms/step - loss: 0.0146 - val_loss: 0.0083\n",
      "Epoch 31/100\n",
      "3/3 [==============================] - 0s 118ms/step - loss: 0.0146 - val_loss: 0.0086\n",
      "Epoch 32/100\n",
      "3/3 [==============================] - 0s 118ms/step - loss: 0.0141 - val_loss: 0.0107\n",
      "Epoch 33/100\n",
      "3/3 [==============================] - 0s 93ms/step - loss: 0.0141 - val_loss: 0.0082\n",
      "Epoch 34/100\n",
      "3/3 [==============================] - 0s 89ms/step - loss: 0.0139 - val_loss: 0.0079\n",
      "Epoch 35/100\n",
      "3/3 [==============================] - 0s 112ms/step - loss: 0.0136 - val_loss: 0.0093\n",
      "Epoch 36/100\n",
      "3/3 [==============================] - 0s 113ms/step - loss: 0.0134 - val_loss: 0.0084\n",
      "Epoch 37/100\n",
      "3/3 [==============================] - 0s 109ms/step - loss: 0.0131 - val_loss: 0.0078\n",
      "Epoch 38/100\n",
      "3/3 [==============================] - 0s 103ms/step - loss: 0.0128 - val_loss: 0.0082\n",
      "Epoch 39/100\n",
      "3/3 [==============================] - 0s 89ms/step - loss: 0.0125 - val_loss: 0.0082\n",
      "Epoch 40/100\n",
      "3/3 [==============================] - 0s 107ms/step - loss: 0.0125 - val_loss: 0.0079\n",
      "Epoch 41/100\n",
      "3/3 [==============================] - 0s 99ms/step - loss: 0.0123 - val_loss: 0.0077\n",
      "Epoch 42/100\n",
      "3/3 [==============================] - 0s 102ms/step - loss: 0.0124 - val_loss: 0.0082\n",
      "Epoch 43/100\n",
      "3/3 [==============================] - 0s 98ms/step - loss: 0.0119 - val_loss: 0.0076\n",
      "Epoch 44/100\n",
      "3/3 [==============================] - 0s 108ms/step - loss: 0.0119 - val_loss: 0.0075\n",
      "Epoch 45/100\n",
      "3/3 [==============================] - 0s 87ms/step - loss: 0.0117 - val_loss: 0.0083\n",
      "Epoch 46/100\n",
      "3/3 [==============================] - 0s 87ms/step - loss: 0.0116 - val_loss: 0.0075\n",
      "Epoch 47/100\n",
      "3/3 [==============================] - 0s 99ms/step - loss: 0.0113 - val_loss: 0.0076\n",
      "Epoch 48/100\n",
      "3/3 [==============================] - 0s 87ms/step - loss: 0.0112 - val_loss: 0.0077\n",
      "Epoch 49/100\n",
      "3/3 [==============================] - 0s 114ms/step - loss: 0.0109 - val_loss: 0.0074\n",
      "Epoch 50/100\n",
      "3/3 [==============================] - 0s 111ms/step - loss: 0.0109 - val_loss: 0.0074\n",
      "Epoch 51/100\n",
      "3/3 [==============================] - 0s 103ms/step - loss: 0.0106 - val_loss: 0.0076\n",
      "Epoch 52/100\n",
      "3/3 [==============================] - 0s 87ms/step - loss: 0.0106 - val_loss: 0.0074\n",
      "Epoch 53/100\n",
      "3/3 [==============================] - 0s 110ms/step - loss: 0.0106 - val_loss: 0.0074\n",
      "Epoch 54/100\n",
      "3/3 [==============================] - 0s 107ms/step - loss: 0.0101 - val_loss: 0.0081\n",
      "Epoch 55/100\n",
      "3/3 [==============================] - 0s 99ms/step - loss: 0.0102 - val_loss: 0.0074\n",
      "Epoch 56/100\n",
      "3/3 [==============================] - 0s 95ms/step - loss: 0.0100 - val_loss: 0.0074\n",
      "Epoch 57/100\n",
      "3/3 [==============================] - 0s 104ms/step - loss: 0.0099 - val_loss: 0.0076\n",
      "Epoch 58/100\n",
      "3/3 [==============================] - 0s 101ms/step - loss: 0.0098 - val_loss: 0.0074\n",
      "Epoch 59/100\n",
      "3/3 [==============================] - 0s 93ms/step - loss: 0.0094 - val_loss: 0.0076\n",
      "Epoch 60/100\n",
      "3/3 [==============================] - 0s 90ms/step - loss: 0.0099 - val_loss: 0.0073\n",
      "Epoch 61/100\n",
      "3/3 [==============================] - 0s 84ms/step - loss: 0.0091 - val_loss: 0.0072\n",
      "Epoch 62/100\n",
      "3/3 [==============================] - 0s 101ms/step - loss: 0.0091 - val_loss: 0.0071\n",
      "Epoch 63/100\n",
      "3/3 [==============================] - 0s 108ms/step - loss: 0.0090 - val_loss: 0.0071\n",
      "Epoch 64/100\n",
      "3/3 [==============================] - 0s 92ms/step - loss: 0.0088 - val_loss: 0.0073\n",
      "Epoch 65/100\n",
      "3/3 [==============================] - 0s 106ms/step - loss: 0.0089 - val_loss: 0.0073\n",
      "Epoch 66/100\n",
      "3/3 [==============================] - 0s 84ms/step - loss: 0.0087 - val_loss: 0.0072\n",
      "Epoch 67/100\n",
      "3/3 [==============================] - 0s 111ms/step - loss: 0.0085 - val_loss: 0.0072\n",
      "Epoch 68/100\n",
      "3/3 [==============================] - 0s 94ms/step - loss: 0.0085 - val_loss: 0.0075\n",
      "Epoch 69/100\n",
      "3/3 [==============================] - 0s 93ms/step - loss: 0.0089 - val_loss: 0.0072\n",
      "Epoch 70/100\n",
      "3/3 [==============================] - 0s 102ms/step - loss: 0.0084 - val_loss: 0.0071\n",
      "Epoch 71/100\n",
      "3/3 [==============================] - 0s 95ms/step - loss: 0.0083 - val_loss: 0.0070\n",
      "Epoch 72/100\n",
      "3/3 [==============================] - 0s 91ms/step - loss: 0.0088 - val_loss: 0.0068\n",
      "Epoch 73/100\n",
      "3/3 [==============================] - 0s 81ms/step - loss: 0.0081 - val_loss: 0.0067\n",
      "Epoch 74/100\n",
      "3/3 [==============================] - 0s 95ms/step - loss: 0.0081 - val_loss: 0.0068\n",
      "Epoch 75/100\n",
      "3/3 [==============================] - 0s 83ms/step - loss: 0.0077 - val_loss: 0.0068\n",
      "Epoch 76/100\n",
      "3/3 [==============================] - 0s 106ms/step - loss: 0.0075 - val_loss: 0.0070\n",
      "Epoch 77/100\n",
      "3/3 [==============================] - 0s 115ms/step - loss: 0.0076 - val_loss: 0.0070\n",
      "Epoch 78/100\n",
      "3/3 [==============================] - 0s 109ms/step - loss: 0.0079 - val_loss: 0.0066\n",
      "Epoch 79/100\n",
      "3/3 [==============================] - 0s 95ms/step - loss: 0.0076 - val_loss: 0.0071\n",
      "Epoch 80/100\n",
      "3/3 [==============================] - 0s 104ms/step - loss: 0.0083 - val_loss: 0.0065\n",
      "Epoch 81/100\n",
      "3/3 [==============================] - 0s 108ms/step - loss: 0.0078 - val_loss: 0.0065\n",
      "Epoch 82/100\n",
      "3/3 [==============================] - 0s 93ms/step - loss: 0.0071 - val_loss: 0.0069\n",
      "Epoch 83/100\n"
     ]
    },
    {
     "name": "stdout",
     "output_type": "stream",
     "text": [
      "3/3 [==============================] - 0s 112ms/step - loss: 0.0069 - val_loss: 0.0069\n",
      "Epoch 84/100\n",
      "3/3 [==============================] - 0s 119ms/step - loss: 0.0072 - val_loss: 0.0070\n",
      "Epoch 85/100\n",
      "3/3 [==============================] - 0s 114ms/step - loss: 0.0073 - val_loss: 0.0062\n",
      "Epoch 86/100\n",
      "3/3 [==============================] - 0s 126ms/step - loss: 0.0070 - val_loss: 0.0062\n",
      "Epoch 87/100\n",
      "3/3 [==============================] - 0s 113ms/step - loss: 0.0069 - val_loss: 0.0061\n",
      "Epoch 88/100\n",
      "3/3 [==============================] - 0s 101ms/step - loss: 0.0067 - val_loss: 0.0061\n",
      "Epoch 89/100\n",
      "3/3 [==============================] - 0s 114ms/step - loss: 0.0067 - val_loss: 0.0061\n",
      "Epoch 90/100\n",
      "3/3 [==============================] - 0s 95ms/step - loss: 0.0068 - val_loss: 0.0059\n",
      "Epoch 91/100\n",
      "3/3 [==============================] - 0s 93ms/step - loss: 0.0063 - val_loss: 0.0061\n",
      "Epoch 92/100\n",
      "3/3 [==============================] - 0s 89ms/step - loss: 0.0064 - val_loss: 0.0058\n",
      "Epoch 93/100\n",
      "3/3 [==============================] - 0s 107ms/step - loss: 0.0063 - val_loss: 0.0059\n",
      "Epoch 94/100\n",
      "3/3 [==============================] - 0s 100ms/step - loss: 0.0063 - val_loss: 0.0059\n",
      "Epoch 95/100\n",
      "3/3 [==============================] - 0s 116ms/step - loss: 0.0063 - val_loss: 0.0057\n",
      "Epoch 96/100\n",
      "3/3 [==============================] - 0s 88ms/step - loss: 0.0060 - val_loss: 0.0057\n",
      "Epoch 97/100\n",
      "3/3 [==============================] - 0s 106ms/step - loss: 0.0059 - val_loss: 0.0056\n",
      "Epoch 98/100\n",
      "3/3 [==============================] - 0s 108ms/step - loss: 0.0062 - val_loss: 0.0062\n",
      "Epoch 99/100\n",
      "3/3 [==============================] - 0s 111ms/step - loss: 0.0063 - val_loss: 0.0062\n",
      "Epoch 100/100\n",
      "3/3 [==============================] - 0s 113ms/step - loss: 0.0064 - val_loss: 0.0064\n"
     ]
    },
    {
     "data": {
      "text/plain": [
       "<keras.callbacks.History at 0x18db42ff070>"
      ]
     },
     "execution_count": 29,
     "metadata": {},
     "output_type": "execute_result"
    }
   ],
   "source": [
    "#Training model with adam\n",
    "model.compile(loss='mean_squared_error',optimizer='adam')\n",
    "model.fit(x_train,y_train,validation_data=(x_test,y_test),epochs=100,batch_size=64)"
   ]
  },
  {
   "cell_type": "code",
   "execution_count": 30,
   "id": "0d85c1ab",
   "metadata": {},
   "outputs": [
    {
     "data": {
      "text/plain": [
       "[<matplotlib.lines.Line2D at 0x18dbf603400>]"
      ]
     },
     "execution_count": 30,
     "metadata": {},
     "output_type": "execute_result"
    },
    {
     "data": {
      "image/png": "[encoded data removed]",
      "text/plain": [
       "<Figure size 432x288 with 1 Axes>"
      ]
     },
     "metadata": {
      "needs_background": "light"
     },
     "output_type": "display_data"
    }
   ],
   "source": [
    "loss = model.history.history['loss']\n",
    "plt.plot(loss)"
   ]
  },
  {
   "cell_type": "code",
   "execution_count": 31,
   "id": "7bb87415",
   "metadata": {},
   "outputs": [
    {
     "name": "stdout",
     "output_type": "stream",
     "text": [
      "6/6 [==============================] - 1s 19ms/step\n",
      "2/2 [==============================] - 0s 15ms/step\n"
     ]
    }
   ],
   "source": [
    "train_predict = model.predict(x_train)\n",
    "test_predict = model.predict(x_test)"
   ]
  },
  {
   "cell_type": "code",
   "execution_count": 32,
   "id": "34cbd502",
   "metadata": {},
   "outputs": [],
   "source": [
    "train_predict = normalizer.inverse_transform(train_predict)\n",
    "test_predict = normalizer.inverse_transform(test_predict)"
   ]
  },
  {
   "cell_type": "code",
   "execution_count": 33,
   "id": "78653a0a",
   "metadata": {},
   "outputs": [
    {
     "data": {
      "text/plain": [
       "[<matplotlib.lines.Line2D at 0x18dbf8a0c10>]"
      ]
     },
     "execution_count": 33,
     "metadata": {},
     "output_type": "execute_result"
    },
    {
     "data": {
      "image/png": "[encoded data removed]",
      "text/plain": [
       "<Figure size 432x288 with 1 Axes>"
      ]
     },
     "metadata": {
      "needs_background": "light"
     },
     "output_type": "display_data"
    }
   ],
   "source": [
    "plt.plot(normalizer.inverse_transform(ds_scald))\n",
    "plt.plot(train_predict)\n",
    "plt.plot(test_predict)"
   ]
  },
  {
   "cell_type": "code",
   "execution_count": 34,
   "id": "7e330edb",
   "metadata": {},
   "outputs": [
    {
     "data": {
      "text/plain": [
       "numpy.ndarray"
      ]
     },
     "execution_count": 34,
     "metadata": {},
     "output_type": "execute_result"
    }
   ],
   "source": [
    "type(train_predict)"
   ]
  },
  {
   "cell_type": "code",
   "execution_count": 35,
   "id": "007ba0c5",
   "metadata": {},
   "outputs": [],
   "source": [
    "test = np.vstack((train_predict, test_predict))"
   ]
  },
  {
   "cell_type": "code",
   "execution_count": 36,
   "id": "82fe1181",
   "metadata": {},
   "outputs": [
    {
     "data": {
      "text/plain": [
       "[<matplotlib.lines.Line2D at 0x18dbf8f3ca0>]"
      ]
     },
     "execution_count": 36,
     "metadata": {},
     "output_type": "execute_result"
    },
    {
     "data": {
      "image/png": "[encoded data removed]",
      "text/plain": [
       "<Figure size 432x288 with 1 Axes>"
      ]
     },
     "metadata": {
      "needs_background": "light"
     },
     "output_type": "display_data"
    }
   ],
   "source": [
    "plt.plot(normalizer.inverse_transform(ds_scald))\n",
    "plt.plot(test)"
   ]
  },
  {
   "cell_type": "code",
   "execution_count": 37,
   "id": "73829eca",
   "metadata": {},
   "outputs": [
    {
     "data": {
      "text/plain": [
       "97"
      ]
     },
     "execution_count": 37,
     "metadata": {},
     "output_type": "execute_result"
    }
   ],
   "source": [
    "len(ds_test)"
   ]
  },
  {
   "cell_type": "code",
   "execution_count": 38,
   "id": "6e4689e1",
   "metadata": {},
   "outputs": [],
   "source": [
    "#Getting the last 50 days records\n",
    "fut_inp = ds_test[47:]"
   ]
  },
  {
   "cell_type": "code",
   "execution_count": 39,
   "id": "c0e15e8a",
   "metadata": {},
   "outputs": [],
   "source": [
    "fut_inp = fut_inp.reshape(1,-1)"
   ]
  },
  {
   "cell_type": "code",
   "execution_count": 40,
   "id": "f026cbca",
   "metadata": {},
   "outputs": [],
   "source": [
    "tmp_inp = list(fut_inp)"
   ]
  },
  {
   "cell_type": "code",
   "execution_count": 41,
   "id": "e6003e5d",
   "metadata": {},
   "outputs": [
    {
     "data": {
      "text/plain": [
       "(1, 50)"
      ]
     },
     "execution_count": 41,
     "metadata": {},
     "output_type": "execute_result"
    }
   ],
   "source": [
    "fut_inp.shape"
   ]
  },
  {
   "cell_type": "code",
   "execution_count": 42,
   "id": "fc2ea074",
   "metadata": {},
   "outputs": [],
   "source": [
    "#Creating list of last 50 days\n",
    "tmp_inp = tmp_inp[0].tolist()"
   ]
  },
  {
   "cell_type": "code",
   "execution_count": 43,
   "id": "93e2dfdf",
   "metadata": {},
   "outputs": [
    {
     "name": "stdout",
     "output_type": "stream",
     "text": [
      "[[0.6164531707763672], [0.6169982552528381], [0.6105809211730957], [0.5988534092903137], [0.5842602849006653], [0.5686407089233398], [0.5530052185058594], [0.5377618074417114], [0.5229997038841248], [0.508687436580658]]\n"
     ]
    }
   ],
   "source": [
    "#Predict next 30 days price using the current data\n",
    "#It will predict in sliding window manner(algorithm) with stride1\n",
    "lst_output = []\n",
    "n_steps = 50\n",
    "i = 0\n",
    "while(i<10):\n",
    "    \n",
    "    if(len(tmp_inp)>50):\n",
    "        fut_inp = np.array(tmp_inp[1:])\n",
    "        fut_inp = fut_inp.reshape(1,-1)\n",
    "        fut_inp = fut_inp.reshape((1,n_steps,1))\n",
    "        yhat = model.predict(fut_inp, verbose=0)\n",
    "        tmp_inp.extend(yhat[0].tolist())\n",
    "        tmp_inp = tmp_inp[1:]\n",
    "        lst_output.extend(yhat.tolist())\n",
    "        i=i+1\n",
    "    else:\n",
    "        fut_inp = fut_inp.reshape((1,n_steps,1))\n",
    "        yhat = model.predict(fut_inp, verbose=0)\n",
    "        tmp_inp.extend(yhat[0].tolist())\n",
    "        lst_output.extend(yhat.tolist())\n",
    "        i=i+1\n",
    "        \n",
    "print(lst_output)"
   ]
  },
  {
   "cell_type": "code",
   "execution_count": 44,
   "id": "092e98f9",
   "metadata": {},
   "outputs": [
    {
     "data": {
      "text/plain": [
       "322"
      ]
     },
     "execution_count": 44,
     "metadata": {},
     "output_type": "execute_result"
    }
   ],
   "source": [
    "len(ds_scald)"
   ]
  },
  {
   "cell_type": "code",
   "execution_count": 45,
   "id": "a1a0f8e4",
   "metadata": {},
   "outputs": [],
   "source": [
    "# Creating a dummy plane to plot graph one after another\n",
    "plot_new = np.arange(1,51)\n",
    "plot_pred = np.arange(51,61)"
   ]
  },
  {
   "cell_type": "code",
   "execution_count": 46,
   "id": "f25ed95b",
   "metadata": {},
   "outputs": [
    {
     "data": {
      "text/plain": [
       "[<matplotlib.lines.Line2D at 0x18dbfbfd9a0>]"
      ]
     },
     "execution_count": 46,
     "metadata": {},
     "output_type": "execute_result"
    },
    {
     "data": {
      "image/png": "[encoded data removed]",
      "text/plain": [
       "<Figure size 432x288 with 1 Axes>"
      ]
     },
     "metadata": {
      "needs_background": "light"
     },
     "output_type": "display_data"
    }
   ],
   "source": [
    "plt.plot(plot_new, normalizer.inverse_transform(ds_scald[272:]))\n",
    "plt.plot(plot_pred, normalizer.inverse_transform(lst_output))"
   ]
  },
  {
   "cell_type": "code",
   "execution_count": 47,
   "id": "e8208f84",
   "metadata": {},
   "outputs": [],
   "source": [
    "ds_new = ds_scald.tolist()"
   ]
  },
  {
   "cell_type": "code",
   "execution_count": 48,
   "id": "7086d47d",
   "metadata": {},
   "outputs": [
    {
     "data": {
      "text/plain": [
       "322"
      ]
     },
     "execution_count": 48,
     "metadata": {},
     "output_type": "execute_result"
    }
   ],
   "source": [
    "len(ds_new)"
   ]
  },
  {
   "cell_type": "code",
   "execution_count": 49,
   "id": "8c6e4270",
   "metadata": {},
   "outputs": [
    {
     "data": {
      "text/plain": [
       "[<matplotlib.lines.Line2D at 0x18dbfb7fee0>]"
      ]
     },
     "execution_count": 49,
     "metadata": {},
     "output_type": "execute_result"
    },
    {
     "data": {
      "image/png": "[encoded data removed]",
      "text/plain": [
       "<Figure size 432x288 with 1 Axes>"
      ]
     },
     "metadata": {
      "needs_background": "light"
     },
     "output_type": "display_data"
    }
   ],
   "source": [
    "ds_new.extend(lst_output)\n",
    "plt.plot(ds_new[292:])"
   ]
  },
  {
   "cell_type": "code",
   "execution_count": 50,
   "id": "9c1705f1",
   "metadata": {},
   "outputs": [],
   "source": [
    "final_graph = normalizer.inverse_transform(ds_new).tolist()"
   ]
  },
  {
   "cell_type": "code",
   "execution_count": 51,
   "id": "259a807b",
   "metadata": {},
   "outputs": [
    {
     "data": {
      "text/plain": [
       "<matplotlib.legend.Legend at 0x18dbfc52f10>"
      ]
     },
     "execution_count": 51,
     "metadata": {},
     "output_type": "execute_result"
    },
    {
     "data": {
      "image/png": "[encoded data removed]",
      "text/plain": [
       "<Figure size 432x288 with 1 Axes>"
      ]
     },
     "metadata": {
      "needs_background": "light"
     },
     "output_type": "display_data"
    }
   ],
   "source": [
    "plt.plot(final_graph[272:],)\n",
    "plt.ylabel(\"Price\")\n",
    "plt.xlabel(\"Time\")\n",
    "plt.title(\"NIFTY50 prediction of next month open\")\n",
    "plt.axhline(y=final_graph[len(final_graph)-1], color = 'red', linestyle = ':', label = 'NEXT 30D: {0}'.format(round(float(*final_graph[len(final_graph)-1]),2)))\n",
    "plt.legend()"
   ]
  },
  {
   "cell_type": "code",
   "execution_count": null,
   "id": "c200a7b7",
   "metadata": {},
   "outputs": [],
   "source": []
  }
 ],
 "metadata": {
  "kernelspec": {
   "display_name": "Python 3 (ipykernel)",
   "language": "python",
   "name": "python3"
  },
  "language_info": {
   "codemirror_mode": {
    "name": "ipython",
    "version": 3
   },
   "file_extension": ".py",
   "mimetype": "text/x-python",
   "name": "python",
   "nbconvert_exporter": "python",
   "pygments_lexer": "ipython3",
   "version": "3.9.13"
  }
 },
 "nbformat": 4,
 "nbformat_minor": 5
}
